{
 "metadata": {
  "language_info": {
   "codemirror_mode": {
    "name": "ipython",
    "version": 3
   },
   "file_extension": ".py",
   "mimetype": "text/x-python",
   "name": "python",
   "nbconvert_exporter": "python",
   "pygments_lexer": "ipython3",
   "version": "3.8.6-final"
  },
  "orig_nbformat": 2,
  "kernelspec": {
   "name": "Python 3.8.6 64-bit",
   "display_name": "Python 3.8.6 64-bit",
   "metadata": {
    "interpreter": {
     "hash": "b035f594501fd99b0ba4fdbf39dd3ef4592c3539e4ec00f8ba05c88e0c5143ba"
    }
   }
  }
 },
 "nbformat": 4,
 "nbformat_minor": 2,
 "cells": [
  {
   "source": [
    "# Sentiment analysis with Textblob-FR"
   ],
   "cell_type": "markdown",
   "metadata": {}
  },
  {
   "cell_type": "code",
   "execution_count": null,
   "metadata": {},
   "outputs": [],
   "source": [
    "import sys\n",
    "\n",
    "from textblob import Blobber\n",
    "from textblob_fr import PatternTagger, PatternAnalyzer"
   ]
  },
  {
   "source": [
    "## Fonction"
   ],
   "cell_type": "markdown",
   "metadata": {}
  },
  {
   "cell_type": "code",
   "execution_count": null,
   "metadata": {},
   "outputs": [],
   "source": [
    "tb = Blobber(pos_tagger=PatternTagger(), analyzer=PatternAnalyzer())\n",
    "\n",
    "def get_sentiment(input_text):\n",
    "    blob = tb(input_text)\n",
    "    pola, subj = blob.sentiment\n",
    "    perc = f\"{100*abs(pola):.0f}\"\n",
    "    if pola > 0:\n",
    "        sent = f\"{perc}% positive\"\n",
    "    elif pola < 0:\n",
    "        sent = f\"{perc}% negative\"\n",
    "    else:\n",
    "        sent = \"neutral\"\n",
    "    if subj > 0:\n",
    "        fact = f\"{100*subj:.0f}% subjective\"\n",
    "    else:\n",
    "        fact = \"perfectly objective\"\n",
    "    print(f\"This text is {sent} and {fact}.\")"
   ]
  },
  {
   "source": [
    "## Analyser le sentiment d'une phrase"
   ],
   "cell_type": "markdown",
   "metadata": {}
  },
  {
   "cell_type": "code",
<<<<<<< HEAD
   "execution_count": 4,
   "metadata": {
    "tags": []
   },
   "outputs": [
    {
     "output_type": "stream",
     "name": "stdout",
     "text": [
      "This text is 10% negative and 20% subjective.\n"
     ]
    }
   ],
=======
   "execution_count": null,
   "metadata": {
    "tags": []
   },
   "outputs": [],
>>>>>>> upstream/master
   "source": [
    "get_sentiment(\"Les voitures des personnes se rendant, le 28, au banquet offert au Roi, y seront seules admises par la rue de la Colline, d’où elles se dirigeront sur une seule file vers l’Hôtel de Ville ; elles se retireront par la rue de Famigo.\")"
   ]
  },
  {
   "cell_type": "code",
   "execution_count": null,
   "metadata": {
    "tags": []
   },
<<<<<<< HEAD
   "outputs": [
    {
     "output_type": "stream",
     "name": "stdout",
     "text": [
      "This text is 3% negative and 23% subjective.\n"
     ]
    }
   ],
=======
   "outputs": [],
>>>>>>> upstream/master
   "source": [
    "get_sentiment(\"La section des finances vous propose, Messieurs, d’approuver également les comptes relatifs aux deux derniers emprunts.\")"
   ]
  },
  {
   "cell_type": "code",
   "execution_count": 7,
   "metadata": {},
   "outputs": [
    {
     "output_type": "stream",
     "name": "stdout",
     "text": [
      "This text is 5% negative and 35% subjective.\n"
     ]
    }
   ],
   "source": [
    "get_sentiment(\"La cause du sieur Prégaldino contre la ville, en paiement d'une somme de cinq mille francs, à titre de réparation du dommage qu'il soutient avoir souffert par l'invasion des eaux de la ville dans ses caves.\")"
   ]
  },
  {
   "cell_type": "code",
   "execution_count": 8,
   "metadata": {},
   "outputs": [
    {
     "output_type": "stream",
     "name": "stdout",
     "text": [
      "This text is 37% negative and 20% subjective.\n"
     ]
    }
   ],
   "source": [
    "get_sentiment(\"Celui-ci a pris, dans sa séance du 15 septembre, la résolution de demander l'autorisation d'accepter, sous bénéfice d'inventaire, la disposition que feu M. Diricq a faite au profit des pauvres, attendu que l'importance ne pourra en être déterminée qu'après la liquidation de la succession du testateur.\")"
   ]
  },
  {
   "cell_type": "code",
   "execution_count": 9,
   "metadata": {},
   "outputs": [
    {
     "output_type": "stream",
     "name": "stdout",
     "text": [
      "This text is 44% positive and 20% subjective.\n"
     ]
    }
   ],
   "source": [
    "get_sentiment(\"Le jury jugera également toute contestation qui pourrait s'élever relativement à l'application des dispositions qui précèdent.\")"
   ]
  },
  {
   "cell_type": "code",
   "execution_count": 10,
   "metadata": {},
   "outputs": [
    {
     "output_type": "stream",
     "name": "stdout",
     "text": [
      "This text is 90% positive and 100% subjective.\n"
     ]
    }
   ],
   "source": [
    "get_sentiment(\"Je n'accuse personne; mais je dis qu'en matière d'adjudication et en principe, il faut que les entrepreneurs sachent qu'une soumission est chose très sérieuse et sur laquelle on ne revient pas facilement.\")"
   ]
  },
  {
   "cell_type": "code",
   "execution_count": 11,
   "metadata": {},
   "outputs": [
    {
     "output_type": "stream",
     "name": "stdout",
     "text": [
      "This text is 11% positive and 10% subjective.\n"
     ]
    }
   ],
   "source": [
    "get_sentiment(\"Nous serions assaillis tous les jours par des réclamations à l'appui desquelles on invoquerait le précédent que nous aurions posé aujourd'hui.\")"
   ]
  },
  {
   "cell_type": "code",
   "execution_count": 12,
   "metadata": {},
   "outputs": [
    {
     "output_type": "stream",
     "name": "stdout",
     "text": [
      "This text is 30% positive and 36% subjective.\n"
     ]
    }
   ],
   "source": [
    "get_sentiment(\"La section a trouvé que ce ne devait pas être laissé à l'arbitraire d'un employé de l'administration, et qu'il était plus naturel de faire payer une indemnité d'après la longueur en mètres courants.\")"
   ]
  },
  {
   "cell_type": "code",
   "execution_count": 13,
   "metadata": {},
   "outputs": [
    {
     "output_type": "stream",
     "name": "stdout",
     "text": [
      "This text is neutral and perfectly objective.\n"
     ]
    }
   ],
   "source": [
    "get_sentiment(\"On a été amené à cette modification, parce que les gamins éteignent ou brisent les lanternes quand on ne les vole pas.\")"
   ]
  },
  {
   "cell_type": "code",
   "execution_count": 14,
   "metadata": {},
   "outputs": [
    {
     "output_type": "stream",
     "name": "stdout",
     "text": [
      "This text is 32% positive and 50% subjective.\n"
     ]
    }
   ],
   "source": [
    "get_sentiment(\"Je suppose que vous fixiez le terme de trois mois; si une prolongation de terme est absolument nécessaire, vous ne pourrez l'accorder.\")"
   ]
  },
  {
   "cell_type": "code",
   "execution_count": null,
   "metadata": {},
   "outputs": [],
   "source": []
  }
 ]
}