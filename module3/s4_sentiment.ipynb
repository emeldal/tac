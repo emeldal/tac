{
 "metadata": {
  "language_info": {
   "codemirror_mode": {
    "name": "ipython",
    "version": 3
   },
   "file_extension": ".py",
   "mimetype": "text/x-python",
   "name": "python",
   "nbconvert_exporter": "python",
   "pygments_lexer": "ipython3",
   "version": "3.8.6-final"
  },
  "orig_nbformat": 2,
  "kernelspec": {
   "name": "python3",
   "display_name": "Python 3.8.6 64-bit",
   "metadata": {
    "interpreter": {
     "hash": "b035f594501fd99b0ba4fdbf39dd3ef4592c3539e4ec00f8ba05c88e0c5143ba"
    }
   }
  }
 },
 "nbformat": 4,
 "nbformat_minor": 2,
 "cells": [
  {
   "source": [
    "# Sentiment analysis with Textblob-FR"
   ],
   "cell_type": "markdown",
   "metadata": {}
  },
  {
   "cell_type": "code",
   "execution_count": 2,
   "metadata": {},
   "outputs": [],
   "source": [
    "import sys\n",
    "\n",
    "from textblob import Blobber\n",
    "from textblob_fr import PatternTagger, PatternAnalyzer"
   ]
  },
  {
   "source": [
    "## Fonction"
   ],
   "cell_type": "markdown",
   "metadata": {}
  },
  {
   "cell_type": "code",
   "execution_count": 3,
   "metadata": {},
   "outputs": [],
   "source": [
    "tb = Blobber(pos_tagger=PatternTagger(), analyzer=PatternAnalyzer())\n",
    "\n",
    "def get_sentiment(input_text):\n",
    "    blob = tb(input_text)\n",
    "    pola, subj = blob.sentiment\n",
    "    perc = f\"{100*abs(pola):.0f}\"\n",
    "    if pola > 0:\n",
    "        sent = f\"{perc}% positive\"\n",
    "    elif pola < 0:\n",
    "        sent = f\"{perc}% negative\"\n",
    "    else:\n",
    "        sent = \"neutral\"\n",
    "    if subj > 0:\n",
    "        fact = f\"{100*subj:.0f}% subjective\"\n",
    "    else:\n",
    "        fact = \"perfectly objective\"\n",
    "    print(f\"This text is {sent} and {fact}.\")"
   ]
  },
  {
   "source": [
    "## Analyser le sentiment d'une phrase"
   ],
   "cell_type": "markdown",
   "metadata": {}
  },
  {
   "cell_type": "code",
   "execution_count": 3,
   "metadata": {
    "tags": []
   },
   "outputs": [
    {
     "output_type": "stream",
     "name": "stdout",
     "text": [
      "This text is 28% positive and 18% subjective.\n"
     ]
    }
   ],
   "source": [
    "get_sentiment(\"En résumé, au point de vue de l'hygiène et de la facilité des abords, l'emplacement désigné pour l'établissement du nouveau marché laisse tout à désirer.\")"
   ]
  },
  {
   "cell_type": "code",
   "execution_count": 4,
   "metadata": {
    "tags": []
   },
   "outputs": [
    {
     "output_type": "stream",
     "name": "stdout",
     "text": [
      "This text is neutral and perfectly objective.\n"
     ]
    }
   ],
   "source": [
    "get_sentiment(\"Il y a eu de l'exagération dans les inconvéniens que l'on a supposés au marché de la Madeleine sous le rapport de l'hygiène.\")"
   ]
  },
  {
   "cell_type": "code",
   "execution_count": 5,
   "metadata": {},
   "outputs": [
    {
     "output_type": "stream",
     "name": "stdout",
     "text": [
      "This text is 5% positive and 13% subjective.\n"
     ]
    }
   ],
   "source": [
    "get_sentiment(\"La paroisse du Béguinage laisse moins à désirer sous le rapport de l'hygiène : les rues y sont en général assez larges et la ventilation v est, à quelques exceptions près, assez bien établie.\")"
   ]
  },
  {
   "cell_type": "code",
   "execution_count": 13,
   "metadata": {},
   "outputs": [
    {
     "output_type": "stream",
     "name": "stdout",
     "text": [
      "This text is neutral and perfectly objective.\n"
     ]
    }
   ],
   "source": [
    "get_sentiment(\"Il y a eu de l'exagération dans les inconvéniens que l'on a supposés au marché de la Madeleine sous le rapport de l'hygiène.\")"
   ]
  },
  {
   "cell_type": "code",
   "execution_count": 4,
   "metadata": {},
   "outputs": [
    {
     "output_type": "stream",
     "name": "stdout",
     "text": [
      "This text is 8% positive and 15% subjective.\n"
     ]
    }
   ],
   "source": [
    "get_sentiment(\"Je ne nie pas que, dans la classe ouvrière, on rencontre parfois des gens qui ne respectent pas les objets que l'on met à leur disposition, mais cette constatation peut se faire dans les autres classes de la société également et je suis persuadé que lorsque les habitants de ces maisons ouvrières sauront que ces appareils sont placés pour leur donner plus d'hygiène, ils sauront en user avec discernement.\")"
   ]
  },
  {
   "cell_type": "code",
   "execution_count": null,
   "metadata": {},
   "outputs": [],
   "source": []
  },
  {
   "cell_type": "code",
   "execution_count": null,
   "metadata": {},
   "outputs": [],
   "source": []
  },
  {
   "cell_type": "code",
   "execution_count": null,
   "metadata": {},
   "outputs": [],
   "source": [
    "Mesdames et Messieurs, i l y aurait lieu de déclarer l'urgence pour une demande de crédit destiné à permettre à la Ville de participer à l'exposition de technique sanitaire ét d'hygiène urbaine de Lyon."
   ]
  }
 ]
}