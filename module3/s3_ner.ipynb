{
 "metadata": {
  "language_info": {
   "codemirror_mode": {
    "name": "ipython",
    "version": 3
   },
   "file_extension": ".py",
   "mimetype": "text/x-python",
   "name": "python",
   "nbconvert_exporter": "python",
   "pygments_lexer": "ipython3",
   "version": "3.8.6-final"
  },
  "orig_nbformat": 2,
  "kernelspec": {
   "name": "Python 3.8.6 64-bit",
   "display_name": "Python 3.8.6 64-bit",
   "metadata": {
    "interpreter": {
     "hash": "b035f594501fd99b0ba4fdbf39dd3ef4592c3539e4ec00f8ba05c88e0c5143ba"
    }
   }
  }
 },
 "nbformat": 4,
 "nbformat_minor": 2,
 "cells": [
  {
   "source": [
    "# Named-entity recognition with SpaCy"
   ],
   "cell_type": "markdown",
   "metadata": {}
  },
  {
   "cell_type": "code",
   "execution_count": null,
   "metadata": {},
   "outputs": [],
   "source": [
    "from collections import defaultdict\n",
    "import sys\n",
    "\n",
    "import spacy\n",
    "from spacy.lang.fr.examples import sentences"
   ]
  },
  {
   "source": [
    "Pour installer les modèles Spacy en français : `python -m spacy download fr_core_news_sm`"
   ],
   "cell_type": "markdown",
   "metadata": {
    "tags": []
   }
  },
  {
   "cell_type": "code",
   "execution_count": null,
   "metadata": {},
   "outputs": [],
   "source": [
    "nlp = spacy.load('fr_core_news_sm')"
   ]
  },
  {
   "source": [
    "# Exemple sur un corpus de Spacy"
   ],
   "cell_type": "markdown",
   "metadata": {}
  },
  {
   "cell_type": "code",
   "execution_count": null,
   "metadata": {},
   "outputs": [],
   "source": [
    "# Imprimer le corpus de Spacy\n",
    "\n",
    "sentences"
   ]
  },
  {
   "cell_type": "code",
<<<<<<< HEAD
   "execution_count": 9,
=======
   "execution_count": null,
>>>>>>> upstream/master
   "metadata": {},
   "outputs": [],
   "source": [
    "# Isoler la première phrase\n",
    "\n",
    "sent = sentences[0]\n",
    "\n",
    "sent"
   ]
  },
  {
   "cell_type": "code",
   "execution_count": null,
   "metadata": {},
   "outputs": [],
   "source": [
    "# Traiter la phrase avec Spacy\n",
    "\n",
    "doc = nlp(sent)"
   ]
  },
  {
   "cell_type": "code",
   "execution_count": null,
   "metadata": {},
   "outputs": [],
   "source": [
    "type(doc)"
   ]
  },
  {
   "source": [
    "### La documentation est accessible ici, https://spacy.io/api/doc"
   ],
   "cell_type": "markdown",
   "metadata": {}
  },
  {
   "cell_type": "code",
<<<<<<< HEAD
   "execution_count": 4,
   "metadata": {
    "tags": []
   },
   "outputs": [
    {
     "output_type": "stream",
     "name": "stdout",
     "text": [
      "'Apple cherche à acheter une start-up anglaise pour 1 milliard de dollars' contains the following entities: Apple (ORG)\n",
      "'Les voitures autonomes déplacent la responsabilité de l'assurance vers les constructeurs' contains no entities\n",
      "'San Francisco envisage d'interdire les robots coursiers sur les trottoirs' contains the following entities: San Francisco (LOC)\n",
      "'Londres est une grande ville du Royaume-Uni' contains the following entities: Londres (LOC), Royaume-Uni (LOC)\n",
      "'L’Italie choisit ArcelorMittal pour reprendre la plus grande aciérie d’Europe' contains the following entities: ArcelorMittal (MISC), Europe (LOC)\n",
      "'Apple lance HomePod parce qu'il se sent menacé par l'Echo d'Amazon' contains the following entities: Apple (ORG), HomePod (MISC), Echo (MISC)\n",
      "'La France ne devrait pas manquer d'électricité cet été, même en cas de canicule' contains the following entities: La France (LOC)\n",
      "'Nouvelles attaques de Trump contre le maire de Londres' contains the following entities: Trump (LOC), Londres (LOC)\n",
      "'Où es-tu ?' contains no entities\n",
      "'Qui est le président de la France ?' contains the following entities: la France (LOC)\n",
      "'Où est la capitale des États-Unis ?' contains the following entities: États-Unis (LOC)\n",
      "'Quand est né Barack Obama ?' contains the following entities: Barack Obama (PER)\n"
     ]
    }
   ],
=======
   "execution_count": null,
   "metadata": {},
   "outputs": [],
>>>>>>> upstream/master
   "source": [
    "doc.text"
   ]
  },
  {
   "cell_type": "code",
   "execution_count": null,
   "metadata": {},
   "outputs": [],
   "source": [
    "doc.to_json()"
   ]
  },
  {
   "source": [
    "## Appliquer l'approche sur toutes les phrases"
   ],
   "cell_type": "markdown",
   "metadata": {}
  },
  {
   "cell_type": "code",
   "execution_count": null,
   "metadata": {},
   "outputs": [],
   "source": [
<<<<<<< HEAD
    "Méthode 1"
   ]
  },
  {
   "cell_type": "code",
   "execution_count": 17,
   "metadata": {},
   "outputs": [
    {
     "output_type": "stream",
     "name": "stdout",
     "text": [
      "Le Bourgmestre appears 50 times in the corpus\nMessieurs appears 42 times in the corpus\nFontainas appears 34 times in the corpus\nDe Page appears 30 times in the corpus\nDe Vadder appears 29 times in the corpus\nLouis appears 28 times in the corpus\nEtterbeék appears 27 times in the corpus\nDe Meure appears 26 times in the corpus\nMertens appears 22 times in the corpus\nGoffart appears 22 times in the corpus\nWalter appears 22 times in the corpus\nJacobs appears 21 times in the corpus\nSubside appears 20 times in the corpus\nCorten-Crabbé appears 20 times in the corpus\nDepaire appears 18 times in the corpus\nDe Doncker appears 17 times in the corpus\nKaieman appears 17 times in the corpus\nFraude appears 17 times in the corpus\nDe Brouckere appears 16 times in the corpus\nM. V appears 16 times in the corpus\nPrésidence de M appears 13 times in the corpus\nM. le Bourgmestre appears 12 times in the corpus\n» Solé appears 11 times in the corpus\nLavallée appears 10 times in the corpus\nBischoffsheim appears 10 times in the corpus\nLoyer appears 10 times in the corpus\nApprobation appears 10 times in the corpus\nDeneck appears 10 times in the corpus\nCharles appears 9 times in the corpus\n» Solvay appears 9 times in the corpus\nDejonghe appears 9 times in the corpus\nLavalîée appears 9 times in the corpus\nCarnewal appears 9 times in the corpus\nBruno appears 9 times in the corpus\nCharlotte appears 9 times in the corpus\nM. Brugmann appears 9 times in the corpus\nCattoir appears 8 times in the corpus\n— Dépôt appears 8 times in the corpus\nVerstraeten appears 7 times in the corpus\nLéopold appears 7 times in the corpus\nSpaak appears 7 times in the corpus\nVandervelde appears 7 times in the corpus\nWatteeu appears 7 times in the corpus\nM. Watteeu appears 7 times in the corpus\nEchels-Dejonghe appears 6 times in the corpus\nVoyez infrà appears 6 times in the corpus\nSommeil appears 6 times in the corpus\n— Levée appears 6 times in the corpus\n— Construction appears 6 times in the corpus\nS. A appears 6 times in the corpus\n"
     ]
    }
   ],
   "source": [
    "n=1000000\n",
    "text = open(\"../module3/1857.txt\", encoding='utf-8').read()[:n]\n",
    "doc = nlp(text)\n",
    "people = defaultdict(int)\n",
    "for ent in doc.ents:\n",
    "    if ent.label_ == \"PER\" and len(ent.text) > 3:\n",
    "        people[ent.text] += 1\n",
    "sorted_people = sorted(people.items(), key=lambda kv: kv[1], reverse=True)\n",
    "for person, freq in sorted_people[:50]:\n",
    "    print(f\"{person} appears {freq} times in the corpus\")"
   ]
  },
  {
   "cell_type": "code",
   "execution_count": null,
   "metadata": {},
   "outputs": [],
   "source": [
    "Méthode 2 "
   ]
  },
  {
   "cell_type": "code",
   "execution_count": 18,
   "metadata": {},
   "outputs": [],
   "source": [
    "def search(n=1000000):\n",
    "    n=1000000\n",
    "    text = open(\"../module3/1857.txt\", encoding='utf-8').read()[:n]\n",
    "    doc = nlp(text)\n",
    "    people = defaultdict(int)\n",
    "    for ent in doc.ents:\n",
    "        if ent.label_ == \"PER\" and len(ent.text) > 3:\n",
    "            people[ent.text] += 1\n",
    "    sorted_people = sorted(people.items(), key=lambda kv: kv[1], reverse=True)\n",
    "    for person, freq in sorted_people[:50]:\n",
    "        print(f\"{person} appears {freq} times in the corpus\")"
   ]
  },
  {
   "cell_type": "code",
   "execution_count": 19,
   "metadata": {},
   "outputs": [
    {
     "output_type": "stream",
     "name": "stdout",
     "text": [
      "Le Bourgmestre appears 50 times in the corpus\nMessieurs appears 42 times in the corpus\nFontainas appears 34 times in the corpus\nDe Page appears 30 times in the corpus\nDe Vadder appears 29 times in the corpus\nLouis appears 28 times in the corpus\nEtterbeék appears 27 times in the corpus\nDe Meure appears 26 times in the corpus\nMertens appears 22 times in the corpus\nGoffart appears 22 times in the corpus\nWalter appears 22 times in the corpus\nJacobs appears 21 times in the corpus\nSubside appears 20 times in the corpus\nCorten-Crabbé appears 20 times in the corpus\nDepaire appears 18 times in the corpus\nDe Doncker appears 17 times in the corpus\nKaieman appears 17 times in the corpus\nFraude appears 17 times in the corpus\nDe Brouckere appears 16 times in the corpus\nM. V appears 16 times in the corpus\nPrésidence de M appears 13 times in the corpus\nM. le Bourgmestre appears 12 times in the corpus\n» Solé appears 11 times in the corpus\nLavallée appears 10 times in the corpus\nBischoffsheim appears 10 times in the corpus\nLoyer appears 10 times in the corpus\nApprobation appears 10 times in the corpus\nDeneck appears 10 times in the corpus\nCharles appears 9 times in the corpus\n» Solvay appears 9 times in the corpus\nDejonghe appears 9 times in the corpus\nLavalîée appears 9 times in the corpus\nCarnewal appears 9 times in the corpus\nBruno appears 9 times in the corpus\nCharlotte appears 9 times in the corpus\nM. Brugmann appears 9 times in the corpus\nCattoir appears 8 times in the corpus\n— Dépôt appears 8 times in the corpus\nVerstraeten appears 7 times in the corpus\nLéopold appears 7 times in the corpus\nSpaak appears 7 times in the corpus\nVandervelde appears 7 times in the corpus\nWatteeu appears 7 times in the corpus\nM. Watteeu appears 7 times in the corpus\nEchels-Dejonghe appears 6 times in the corpus\nVoyez infrà appears 6 times in the corpus\nSommeil appears 6 times in the corpus\n— Levée appears 6 times in the corpus\n— Construction appears 6 times in the corpus\nS. A appears 6 times in the corpus\n"
     ]
    }
=======
    "for sent in sentences:\n",
    "    doc = nlp(sent)\n",
    "    entities = []\n",
    "    for ent in doc.ents:\n",
    "        entities.append(f\"{ent.text} ({ent.label_})\")\n",
    "    if entities:\n",
    "        print(f\"'{doc.text}' contains the following entities: {', '.join(entities)}\")\n",
    "    else:\n",
    "        print(f\"'{doc.text}' contains no entities\")"
   ]
  },
  {
   "source": [
    "# Application sur le corpus"
>>>>>>> upstream/master
   ],
   "cell_type": "markdown",
   "metadata": {}
  },
  {
   "cell_type": "code",
   "execution_count": null,
   "metadata": {},
   "outputs": [],
   "source": [
    "# Charger le texte\n",
    "\n",
    "n=1000000\n",
    "text = open(\"../data/all.txt\", encoding='utf-8').read()[:n]"
   ]
  },
  {
   "cell_type": "code",
   "execution_count": null,
   "metadata": {},
   "outputs": [],
   "source": [
    "%%time\n",
    "# Traiter le texte\n",
    "\n",
    "doc = nlp(text)"
   ]
  },
  {
   "cell_type": "code",
   "execution_count": null,
   "metadata": {},
   "outputs": [],
   "source": [
<<<<<<< HEAD
    "search ()"
=======
    "# Compter les entités\n",
    "\n",
    "people = defaultdict(int)\n",
    "\n",
    "for ent in doc.ents:\n",
    "    if ent.label_ == \"PER\" and len(ent.text) > 3:\n",
    "        people[ent.text] += 1"
   ]
  },
  {
   "cell_type": "code",
   "execution_count": null,
   "metadata": {},
   "outputs": [],
   "source": [
    "# Trier et imprimer\n",
    "\n",
    "sorted_people = sorted(people.items(), key=lambda kv: kv[1], reverse=True)\n",
    "\n",
    "for person, freq in sorted_people[:50]:\n",
    "    print(f\"{person} appears {freq} times in the corpus\")"
>>>>>>> upstream/master
   ]
  },
  {
   "cell_type": "code",
   "execution_count": null,
   "metadata": {},
   "outputs": [],
   "source": []
  }
 ]
}