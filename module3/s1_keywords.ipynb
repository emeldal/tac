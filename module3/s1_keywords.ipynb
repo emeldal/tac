{
 "metadata": {
  "language_info": {
   "codemirror_mode": {
    "name": "ipython",
    "version": 3
   },
   "file_extension": ".py",
   "mimetype": "text/x-python",
   "name": "python",
   "nbconvert_exporter": "python",
   "pygments_lexer": "ipython3",
   "version": "3.8.6-final"
  },
  "orig_nbformat": 2,
  "kernelspec": {
   "name": "Python 3.8.6 64-bit",
   "display_name": "Python 3.8.6 64-bit",
   "metadata": {
    "interpreter": {
     "hash": "b035f594501fd99b0ba4fdbf39dd3ef4592c3539e4ec00f8ba05c88e0c5143ba"
    }
   }
  }
 },
 "nbformat": 4,
 "nbformat_minor": 2,
 "cells": [
  {
   "source": [
    "# Testing keyword extraction with YAKE"
   ],
   "cell_type": "markdown",
   "metadata": {}
  },
  {
   "cell_type": "code",
   "execution_count": 2,
   "metadata": {},
   "outputs": [],
   "source": [
    "import os\n",
    "import yake"
   ]
  },
  {
   "source": [
    "## Extraire les mots clés des documents avec YAKE"
   ],
   "cell_type": "markdown",
   "metadata": {}
  },
  {
   "cell_type": "code",
   "execution_count": 3,
   "metadata": {
    "tags": []
   },
   "outputs": [
    {
     "output_type": "stream",
     "name": "stdout",
     "text": [
      "Bxl_1857_Tome_I1_Part_1.txt mentions these keywords: rue haute, rue de flandre, ville de bruxelles, rue granvelle, rue des tanneurs, collège des bourgmestre, d'une rue nouvelle...\n",
      "Bxl_1857_Tome_I1_Part_2.txt mentions these keywords: rue de flandre, rue haute, collège des bourgmestre, bourgmestre et échevins, voie publique, travaux publics, rue granvelle, rue des tanneurs, collège propose...\n",
      "Bxl_1857_Tome_I1_Part_3.txt mentions these keywords: rue de flandre, collège des bourgmestre, rue haute, collège pourra, bourgmestre et échevins, conseil provincial, rue d'anderîecht...\n",
      "Bxl_1857_Tome_I1_Part_4.txt mentions these keywords: rue haute, rue de flandre, rue d'anderîecht, rue granvelle, rue des tanneurs, travaux publics...\n",
      "Bxl_1857_Tome_I1_Part_5.txt mentions these keywords: prix du pain, travaux publics, section des travaux, rue de flandre, rue d'anderîecht, rue haute...\n",
      "Bxl_1857_Tome_II1_Part_1.txt mentions these keywords: rue haute, rue de flandre, rue d'anderlecht, rue granvelle, rue des tanneurs, nouvelle rue, rue des fripiers...\n",
      "Bxl_1857_Tome_II1_Part_2.txt mentions these keywords: brut par brut, rue de flandre, rue haute, rue d'anderlecht, rue granvelle, rue des tanneurs, l'hôtel de ville...\n",
      "Bxl_1857_Tome_II1_Part_3.txt mentions these keywords: d'une maison rue, maison rue, rue de flandre, rue haute, expropriation d'une maison, d'une maison, rue des tanneurs...\n",
      "Bxl_1857_Tome_II1_Part_4.txt mentions these keywords: rue haute, service sanitaire, frais d'entretien, voir compte moral...\n",
      "Bxl_1857_Tome_II1_Part_5.txt mentions these keywords: rue haute, rue de flandre, rue des tanneurs, conseil général d'administration, ville de bruxelles, rue des fripiers, rue des teinturiers, rue granvelle...\n",
      "Bxl_1857_Tome_II1_Part_6.txt mentions these keywords: prix du pain, travaux publics, section des travaux, rue haute, taxes communales...\n"
     ]
    }
   ],
   "source": [
    "ignored = set([\"conseil communal\", \"conseil général\"])\n",
    "\n",
    "kw_extractor = yake.KeywordExtractor(lan=\"fr\", top=20)\n",
    "data_path = \"../data/txt/\"\n",
    "files = os.listdir(data_path)\n",
    "for f in sorted(files):\n",
    "    if f.startswith(\"Bxl_1857\"):\n",
    "        text = open(f'{data_path}/{f}', encoding='utf-8').read()\n",
    "        keywords = kw_extractor.extract_keywords(text)\n",
    "        kept = []\n",
    "        for score, kw in keywords:\n",
    "            words = kw.split()\n",
    "            if len(words) > 1 and kw not in ignored:\n",
    "                kept.append(kw)\n",
    "        print(f\"{f} mentions these keywords: {', '.join(kept)}...\")"
   ]
  },
  {
   "cell_type": "code",
   "execution_count": null,
   "metadata": {},
   "outputs": [],
   "source": []
  }
 ]
}