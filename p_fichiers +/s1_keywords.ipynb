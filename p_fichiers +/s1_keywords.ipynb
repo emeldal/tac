{
 "metadata": {
  "language_info": {
   "codemirror_mode": {
    "name": "ipython",
    "version": 3
   },
   "file_extension": ".py",
   "mimetype": "text/x-python",
   "name": "python",
   "nbconvert_exporter": "python",
   "pygments_lexer": "ipython3",
   "version": "3.8.6-final"
  },
  "orig_nbformat": 2,
  "kernelspec": {
   "name": "python3",
   "display_name": "Python 3.8.6 64-bit",
   "metadata": {
    "interpreter": {
     "hash": "b035f594501fd99b0ba4fdbf39dd3ef4592c3539e4ec00f8ba05c88e0c5143ba"
    }
   }
  }
 },
 "nbformat": 4,
 "nbformat_minor": 2,
 "cells": [
  {
   "source": [
    "# Testing keyword extraction with YAKE"
   ],
   "cell_type": "markdown",
   "metadata": {}
  },
  {
   "cell_type": "code",
   "execution_count": 29,
   "metadata": {},
   "outputs": [],
   "source": [
    "import os\n",
    "import yake"
   ]
  },
  {
   "source": [
    "## Extraire les mots clés des documents avec YAKE"
   ],
   "cell_type": "markdown",
   "metadata": {}
  },
  {
   "cell_type": "code",
   "execution_count": 30,
   "metadata": {
    "tags": []
   },
   "outputs": [
    {
     "output_type": "execute_result",
     "data": {
      "text/plain": [
       "{'conseil communal', 'conseil général'}"
      ]
     },
     "metadata": {},
     "execution_count": 30
    }
   ],
   "source": [
    "# Faire une liste des mots à ignorer\n",
    "ignored = set([\"conseil communal\", \"conseil général\"])\n",
    "ignored"
   ]
  },
  {
   "cell_type": "code",
   "execution_count": 31,
   "metadata": {},
   "outputs": [
    {
     "output_type": "execute_result",
     "data": {
      "text/plain": [
       "<yake.yake.KeywordExtractor at 0x1d5174cea30>"
      ]
     },
     "metadata": {},
     "execution_count": 31
    }
   ],
   "source": [
    "# Instantier l'extracteur de mots clés\n",
    "kw_extractor = yake.KeywordExtractor(lan=\"fr\", top=20)\n",
    "kw_extractor"
   ]
  },
  {
   "cell_type": "code",
   "execution_count": 32,
   "metadata": {},
   "outputs": [],
   "source": [
    "# Lister les PDFs\n",
    "data_path = \"../data/txt/\"\n",
    "files = os.listdir(data_path)"
   ]
  },
  {
   "cell_type": "code",
   "execution_count": 33,
   "metadata": {},
   "outputs": [
    {
     "output_type": "execute_result",
     "data": {
      "text/plain": [
       "2829"
      ]
     },
     "metadata": {},
     "execution_count": 33
    }
   ],
   "source": [
    "# Imprimer le nombre de PDFs identifiés\n",
    "len(files)"
   ]
  },
  {
   "cell_type": "code",
   "execution_count": 34,
   "metadata": {},
   "outputs": [
    {
     "output_type": "execute_result",
     "data": {
      "text/plain": [
       "['bul',\n",
       " 'Bxl_1847_Tome_I1_Part_1.txt',\n",
       " 'Bxl_1847_Tome_I1_Part_2.txt',\n",
       " 'Bxl_1847_Tome_I1_Part_3.txt',\n",
       " 'Bxl_1847_Tome_I1_Part_4.txt',\n",
       " 'Bxl_1847_Tome_I1_Part_5.txt',\n",
       " 'Bxl_1848_Tome_I1_Part_1.txt',\n",
       " 'Bxl_1848_Tome_I1_Part_2.txt',\n",
       " 'Bxl_1848_Tome_I1_Part_3.txt',\n",
       " 'Bxl_1849_Tome_I1_Part_1.txt',\n",
       " 'Bxl_1849_Tome_I1_Part_2.txt',\n",
       " 'Bxl_1849_Tome_I1_Part_3.txt',\n",
       " 'Bxl_1849_Tome_I1_Part_4.txt',\n",
       " 'Bxl_1849_Tome_I1_Part_5.txt',\n",
       " 'Bxl_1849_Tome_II1_Part_1.txt',\n",
       " 'Bxl_1849_Tome_II1_Part_2.txt',\n",
       " 'Bxl_1849_Tome_II1_Part_3.txt',\n",
       " 'Bxl_1849_Tome_II1_Part_4.txt',\n",
       " 'Bxl_1849_Tome_II1_Part_5.txt',\n",
       " 'Bxl_1849_Tome_II1_Part_6.txt']"
      ]
     },
     "metadata": {},
     "execution_count": 34
    }
   ],
   "source": [
    "# Les dix premiers PDFs\n",
    "files[:20]"
   ]
  },
  {
   "cell_type": "code",
   "execution_count": 24,
   "metadata": {},
   "outputs": [
    {
     "output_type": "execute_result",
     "data": {
      "text/plain": [
       "2677"
      ]
     },
     "metadata": {},
     "execution_count": 24
    }
   ],
   "source": [
    "# Enlever les fichiers qui ne commencent pas par Bxl_\n",
    "bxl_files = [f for f in files if f.startswith('Bxl_')]\n",
    "len(bxl_files)"
   ]
  },
  {
   "cell_type": "code",
   "execution_count": 25,
   "metadata": {},
   "outputs": [
    {
     "output_type": "execute_result",
     "data": {
      "text/plain": [
       "'Bxl_1851_Tome_II1_Part_7.txt'"
      ]
     },
     "metadata": {},
     "execution_count": 25
    }
   ],
   "source": [
    "# Choisir un fichier\n",
    "this_file = bxl_files[42]\n",
    "this_file"
   ]
  },
  {
   "cell_type": "code",
   "execution_count": 26,
   "metadata": {},
   "outputs": [
    {
     "output_type": "execute_result",
     "data": {
      "text/plain": [
       "\"— 587\\n\\n_\\n\\nP r e m i è r e b a l a n c e à f a i r e . I l y a d a n s ce p r o j e t u n i m m e n s e avantage p o u r les propriétaires r i v e r a i n s . . . . J e n e m ' y r a l l i e r a i q u e s i\\nje s u i s assuré d ' u n c o n c o u r s s u f f i s a n t de l e u r p a r t à l a d é p e n s e . A\\ncette conditionne v o t e r a i ce p r o j e t , p a r c e q u ' i l est u t i l e , p a r c e q u ' i l\\nest p e u c o û t e u x , et s u r t o u t p a r c e q u ' i l e n t e r r e t o u s l\""
      ]
     },
     "metadata": {},
     "execution_count": 26
    }
   ],
   "source": [
    "# Récupérer le texte dans le fichier\n",
    "text = open(f'{data_path}/{this_file}', encoding='utf-8').read()\n",
    "text[:500]"
   ]
  },
  {
   "cell_type": "code",
   "execution_count": 27,
   "metadata": {},
   "outputs": [],
   "source": [
    "# Extraire les mots clés de ce texte\n",
    "keywords = kw_extractor.extract_keywords(text)"
   ]
  },
  {
   "cell_type": "code",
   "execution_count": 11,
   "metadata": {},
   "outputs": [
    {
     "output_type": "execute_result",
     "data": {
      "text/plain": [
       "[(0.002915277651733182, \"c'est\"),\n",
       " (0.0031347655094047812, 'conseil'),\n",
       " (0.004412925741544969, 'collège'),\n",
       " (0.004479387999783052, 'projet'),\n",
       " (0.005885065382619684, 'montagne'),\n",
       " (0.007989494569296957, 'section'),\n",
       " (0.008681299536199177, \"d'une\"),\n",
       " (0.009602187874178401, \"l'administration des hospices\"),\n",
       " (0.01109513348604184, 'hospices'),\n",
       " (0.012021524631033412, 'mètres'),\n",
       " (0.012301299226574346, 'séance'),\n",
       " (0.012351275790050669, 'budget'),\n",
       " (0.012668954166379821, 'rapport'),\n",
       " (0.013683411179325389, 'pâté'),\n",
       " (0.015523671218216297, 'vote'),\n",
       " (0.015892891369880216, 'faire'),\n",
       " (0.017160597212780168, \"l'administration\"),\n",
       " (0.019406305334008427, 'taxes communales'),\n",
       " (0.020749498483378037, \"n'est\"),\n",
       " (0.02110305098601052, 'approbation')]"
      ]
     },
     "metadata": {},
     "execution_count": 11
    }
   ],
   "source": [
    "keywords"
   ]
  },
  {
   "cell_type": "code",
   "execution_count": 28,
   "metadata": {},
   "outputs": [
    {
     "output_type": "execute_result",
     "data": {
      "text/plain": [
       "[\"l'administration des hospices\", 'taxes communales']"
      ]
     },
     "metadata": {},
     "execution_count": 28
    }
   ],
   "source": [
    "# Ne garder que les bigrams\n",
    "kept = []\n",
    "for score, kw in keywords:\n",
    "    words = kw.split()\n",
    "    if len(words) > 1 and kw not in ignored:\n",
    "        kept.append(kw)\n",
    "kept"
   ]
  },
  {
   "source": [
    "# Faire la même opération sur tous les documents"
   ],
   "cell_type": "markdown",
   "metadata": {}
  },
  {
   "cell_type": "code",
   "execution_count": 13,
   "metadata": {},
   "outputs": [
    {
     "output_type": "stream",
     "name": "stdout",
     "text": [
      "Bxl_1847_Tome_I1_Part_1.txt mentions these keywords: marchés couverts, d'un marché couvert, d'un marché, d'un marché dans, nouveau marché, l'établissement d'un marché, marché dans...\n",
      "Bxl_1847_Tome_I1_Part_2.txt mentions these keywords: belgique communale, l'administration communale...\n",
      "Bxl_1847_Tome_I1_Part_3.txt mentions these keywords: rue royale, rue royale neuve, rue royale jusqu'à, rue royale serait, rue royale extérieure...\n",
      "Bxl_1847_Tome_I1_Part_4.txt mentions these keywords: rue royale, conseil provincial, rue duquesnoy...\n",
      "Bxl_1847_Tome_I1_Part_5.txt mentions these keywords: domicile de secours, dépôt de mendicité...\n",
      "Bxl_1848_Tome_I1_Part_1.txt mentions these keywords: conseils de prud'hommes, d'un conseil, l'institution d'un conseil, l'établissement d'un conseil, l'organisation d'un conseil, conseil d'un plan...\n",
      "Bxl_1848_Tome_I1_Part_2.txt mentions these keywords: société civile...\n",
      "Bxl_1848_Tome_I1_Part_3.txt mentions these keywords: hardy de beaulieu...\n",
      "Bxl_1849_Tome_I1_Part_1.txt mentions these keywords: section des finances...\n",
      "Bxl_1849_Tome_I1_Part_2.txt mentions these keywords: voie publique, section des travaux...\n"
     ]
    }
   ],
   "source": [
    "for f in sorted(bxl_files)[:10]:\n",
    "    text = open(f'{data_path}/{f}', encoding='utf-8').read()\n",
    "    keywords = kw_extractor.extract_keywords(text)\n",
    "    kept = []\n",
    "    for score, kw in keywords:\n",
    "        words = kw.split()\n",
    "        if len(words) > 1 and kw not in ignored:\n",
    "            kept.append(kw)\n",
    "    print(f\"{f} mentions these keywords: {', '.join(kept)}...\")"
   ]
  },
  {
   "cell_type": "code",
   "execution_count": null,
   "metadata": {},
   "outputs": [],
   "source": []
  }
 ]
}