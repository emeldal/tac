{
 "metadata": {
  "language_info": {
   "codemirror_mode": {
    "name": "ipython",
    "version": 3
   },
   "file_extension": ".py",
   "mimetype": "text/x-python",
   "name": "python",
   "nbconvert_exporter": "python",
   "pygments_lexer": "ipython3",
   "version": "3.8.6-final"
  },
  "orig_nbformat": 2,
  "kernelspec": {
   "name": "python3",
   "display_name": "Python 3.8.6 64-bit",
   "metadata": {
    "interpreter": {
     "hash": "b035f594501fd99b0ba4fdbf39dd3ef4592c3539e4ec00f8ba05c88e0c5143ba"
    }
   }
  }
 },
 "nbformat": 4,
 "nbformat_minor": 2,
 "cells": [
  {
   "cell_type": "code",
   "execution_count": 71,
   "metadata": {},
   "outputs": [],
   "source": [
    "import collections\n",
    "import os\n",
    "import string\n",
    "import sys\n",
    "\n",
    "import pandas as pd\n",
    "from nltk import word_tokenize\n",
    "from nltk.corpus import stopwords\n",
    "from pprint import pprint\n",
    "from sklearn.cluster import KMeans\n",
    "from sklearn.feature_extraction.text import TfidfVectorizer"
   ]
  },
  {
   "cell_type": "code",
   "execution_count": 72,
   "metadata": {},
   "outputs": [
    {
     "output_type": "stream",
     "name": "stderr",
     "text": [
      "[nltk_data] Downloading package punkt to\n[nltk_data]     C:\\Users\\emeld\\AppData\\Roaming\\nltk_data...\n[nltk_data]   Package punkt is already up-to-date!\n"
     ]
    },
    {
     "output_type": "execute_result",
     "data": {
      "text/plain": [
       "True"
      ]
     },
     "metadata": {},
     "execution_count": 72
    }
   ],
   "source": [
    "import nltk\n",
    "\n",
    "nltk.download('punkt')"
   ]
  },
  {
   "cell_type": "code",
   "execution_count": 73,
   "metadata": {},
   "outputs": [],
   "source": [
    "data_path = \"../data/txt/\""
   ]
  },
  {
   "source": [
    "# Choix d'une décennie et du nombre de clusters"
   ],
   "cell_type": "markdown",
   "metadata": {}
  },
  {
   "cell_type": "code",
   "execution_count": 74,
   "metadata": {},
   "outputs": [],
   "source": [
    "DECADE = '1920'\n",
    "N_CLUSTERS = 6"
   ]
  },
  {
   "source": [
    "# Chargement des fichiers de la décennie"
   ],
   "cell_type": "markdown",
   "metadata": {}
  },
  {
   "cell_type": "code",
   "execution_count": 75,
   "metadata": {},
   "outputs": [],
   "source": [
    "files = [f for f in sorted(os.listdir(data_path)) if f\"_{DECADE[:-1]}\" in f]"
   ]
  },
  {
   "cell_type": "code",
   "execution_count": 76,
   "metadata": {},
   "outputs": [
    {
     "output_type": "execute_result",
     "data": {
      "text/plain": [
       "['Bxl_1920_Tome_I2_Part_1.txt', 'Bxl_1920_Tome_I2_Part_10.txt']"
      ]
     },
     "metadata": {},
     "execution_count": 76
    }
   ],
   "source": [
    "# Exemple de fichiers\n",
    "files [:2]"
   ]
  },
  {
   "cell_type": "code",
   "execution_count": 77,
   "metadata": {},
   "outputs": [],
   "source": [
    "texts = [open(data_path + f, encoding='utf8', errors='ignore').read() for f in files]\n"
   ]
  },
  {
   "cell_type": "code",
   "execution_count": 41,
   "metadata": {},
   "outputs": [
    {
     "output_type": "execute_result",
     "data": {
      "text/plain": [
       "'\\x0cVILLE\\n\\nDÈ\\n\\nBRUXELLES\\n\\nBULLETIN COMMUNAL\\nA N N É E\\n\\nPREMIÈRE\\nTOME\\n\\nCOMPTE\\n\\nRENDU\\n\\n1920\\n\\nPARTIE\\nII\\n\\nDES\\n\\nSÉANCES\\n\\nBRUXELLES\\nTYPOGRAPHIE ET LITHOGRAPHIE E. GUYOT\\n12, rue P a c l i é c o ,\\n\\n1920\\n\\n12\\n\\n\\x0c\\x0cCOMPTE RENDU DE L A SÉANCE D U 1 2 J U I L L E T 1 9 2 0 .\\n\\nVILLE\\n\\nD E\\n\\nBULLETIN\\n\\nCOMMUNAL\\n\\nAnnée\\n\\nC O N S E I L\\nSéance\\n\\nB R U X E L L E S\\n\\n1920.\\n\\nC O M M U N A L\\ndu 1 2 Juillet\\n\\n1920.\\n\\nPrésidence de M'"
      ]
     },
     "metadata": {},
     "execution_count": 41
    }
   ],
   "source": [
    "# Exemple de textes\n",
    "texts[0][:400]"
   ]
  },
  {
   "source": [
    "# Vectorisation du texte"
   ],
   "cell_type": "markdown",
   "metadata": {}
  },
  {
   "cell_type": "code",
   "execution_count": 78,
   "metadata": {},
   "outputs": [],
   "source": [
    "def process_text(text, stem=True):\n",
    "    \"\"\" Tokenize text and remove punctuation \"\"\"\n",
    "    text = text.translate(string.punctuation)\n",
    "    tokens = word_tokenize(text)\n",
    "    return tokens"
   ]
  },
  {
   "cell_type": "code",
   "execution_count": 79,
   "metadata": {},
   "outputs": [],
   "source": [
    "vectorizer = TfidfVectorizer(tokenizer=process_text,\n",
    "                                stop_words=stopwords.words('french'),\n",
    "                                max_df=0.5,\n",
    "                                min_df=0.1,\n",
    "                                lowercase=True)"
   ]
  },
  {
   "cell_type": "code",
   "execution_count": 80,
   "metadata": {},
   "outputs": [
    {
     "output_type": "stream",
     "name": "stdout",
     "text": [
      "Wall time: 42.4 s\n"
     ]
    }
   ],
   "source": [
    "%time tfidf_vectors = vectorizer.fit_transform(texts)"
   ]
  },
  {
   "cell_type": "code",
   "execution_count": 81,
   "metadata": {},
   "outputs": [
    {
     "output_type": "execute_result",
     "data": {
      "text/plain": [
       "<178x6665 sparse matrix of type '<class 'numpy.float64'>'\n",
       "\twith 251545 stored elements in Compressed Sparse Row format>"
      ]
     },
     "metadata": {},
     "execution_count": 81
    }
   ],
   "source": [
    "tfidf_vectors"
   ]
  },
  {
   "cell_type": "code",
   "execution_count": 82,
   "metadata": {},
   "outputs": [
    {
     "output_type": "execute_result",
     "data": {
      "text/plain": [
       "camille       0.236540\n",
       "huysmans      0.231977\n",
       "conrardy      0.221826\n",
       "hallet        0.188366\n",
       "bremaecker    0.153632\n",
       "                ...   \n",
       "literies      0.000000\n",
       "litre         0.000000\n",
       "litres        0.000000\n",
       "lits          0.000000\n",
       "#             0.000000\n",
       "Length: 6665, dtype: float64"
      ]
     },
     "metadata": {},
     "execution_count": 82
    }
   ],
   "source": [
    "# Exemple de vecteur TFIDF\n",
    "pd.Series(\n",
    "    tfidf_vectors[0].toarray()[0],\n",
    "    index=vectorizer.get_feature_names()\n",
    "    ).sort_values(ascending=False)"
   ]
  },
  {
   "source": [
    "# Comprendre les vecteurs et leurs \"distances\""
   ],
   "cell_type": "markdown",
   "metadata": {}
  },
  {
   "cell_type": "code",
   "execution_count": 83,
   "metadata": {},
   "outputs": [],
   "source": [
    "from scipy.spatial.distance import cosine"
   ]
  },
  {
   "cell_type": "code",
   "execution_count": 84,
   "metadata": {},
   "outputs": [
    {
     "output_type": "execute_result",
     "data": {
      "text/plain": [
       "0.0"
      ]
     },
     "metadata": {},
     "execution_count": 84
    }
   ],
   "source": [
    "cosine([1, 2, 3], [1, 2, 3])"
   ]
  },
  {
   "cell_type": "code",
   "execution_count": 85,
   "metadata": {},
   "outputs": [
    {
     "output_type": "execute_result",
     "data": {
      "text/plain": [
       "0.02004211298777725"
      ]
     },
     "metadata": {},
     "execution_count": 85
    }
   ],
   "source": [
    "cosine([1, 2, 3], [1, 2, 2])"
   ]
  },
  {
   "cell_type": "code",
   "execution_count": 17,
   "metadata": {},
   "outputs": [
    {
     "output_type": "execute_result",
     "data": {
      "text/plain": [
       "0.07417990022744858"
      ]
     },
     "metadata": {},
     "execution_count": 17
    }
   ],
   "source": [
    "cosine([1, 2, 3], [2, 2, 2])"
   ]
  },
  {
   "cell_type": "code",
   "execution_count": 88,
   "metadata": {},
   "outputs": [],
   "source": [
    "tfidf_array = tfidf_vectors.toarray()"
   ]
  },
  {
   "cell_type": "code",
   "execution_count": 89,
   "metadata": {},
   "outputs": [
    {
     "output_type": "execute_result",
     "data": {
      "text/plain": [
       "array([0., 0., 0., ..., 0., 0., 0.])"
      ]
     },
     "metadata": {},
     "execution_count": 89
    }
   ],
   "source": [
    "tfidf_array[0]"
   ]
  },
  {
   "cell_type": "code",
   "execution_count": 90,
   "metadata": {},
   "outputs": [
    {
     "output_type": "execute_result",
     "data": {
      "text/plain": [
       "'\\x0cVILLE\\n\\nDÈ\\n\\nBRUXELLES\\n\\nBULLETIN COMMUNAL\\nA N N É E\\n\\nPREMIÈRE\\nTOME\\n\\nCOMPTE\\n\\nRENDU\\n\\n1920\\n\\nPARTIE\\nII\\n\\nDES\\n\\nSÉANCES\\n\\nBRUXELLES\\nTYPOGRAPHIE ET LITHOGRAPHIE E. GUYOT\\n12, rue P a c l i é c o ,\\n\\n1920\\n\\n12\\n\\n\\x0c\\x0cC'"
      ]
     },
     "metadata": {},
     "execution_count": 90
    }
   ],
   "source": [
    "texts[0][:200]"
   ]
  },
  {
   "cell_type": "code",
   "execution_count": 91,
   "metadata": {},
   "outputs": [
    {
     "output_type": "execute_result",
     "data": {
      "text/plain": [
       "array([0., 0., 0., ..., 0., 0., 0.])"
      ]
     },
     "metadata": {},
     "execution_count": 91
    }
   ],
   "source": [
    "tfidf_array[0]"
   ]
  },
  {
   "cell_type": "code",
   "execution_count": 92,
   "metadata": {},
   "outputs": [
    {
     "output_type": "execute_result",
     "data": {
      "text/plain": [
       "0.8879884802924477"
      ]
     },
     "metadata": {},
     "execution_count": 92
    }
   ],
   "source": [
    "cosine(tfidf_array[0], tfidf_array[1])"
   ]
  },
  {
   "source": [
    "# Clustering des vecteurs TFIDF"
   ],
   "cell_type": "markdown",
   "metadata": {}
  },
  {
   "source": [
    "Article intéressant sur le KMeans clustering :\n",
    "- https://medium.com/dataseries/k-means-clustering-explained-visually-in-5-minutes-b900cc69d175"
   ],
   "cell_type": "markdown",
   "metadata": {}
  },
  {
   "cell_type": "code",
   "execution_count": 93,
   "metadata": {},
   "outputs": [],
   "source": [
    "km_model = KMeans(n_clusters=N_CLUSTERS)"
   ]
  },
  {
   "cell_type": "code",
   "execution_count": 94,
   "metadata": {},
   "outputs": [
    {
     "output_type": "execute_result",
     "data": {
      "text/plain": [
       "KMeans(n_clusters=6)"
      ]
     },
     "metadata": {},
     "execution_count": 94
    }
   ],
   "source": [
    "km_model.fit(tfidf_vectors)"
   ]
  },
  {
   "cell_type": "code",
   "execution_count": 95,
   "metadata": {},
   "outputs": [],
   "source": [
    "clustering = collections.defaultdict(list)\n",
    "\n",
    "for idx, label in enumerate(km_model.labels_):\n",
    "    clustering[label].append(files[idx])"
   ]
  },
  {
   "cell_type": "code",
   "execution_count": null,
   "metadata": {},
   "outputs": [],
   "source": [
    "#6 clusters : résultat "
   ]
  },
  {
   "cell_type": "code",
   "execution_count": 96,
   "metadata": {},
   "outputs": [
    {
     "output_type": "stream",
     "name": "stdout",
     "text": [
      "{0: ['Bxl_1920_Tome_I2_Part_15.txt',\n     'Bxl_1920_Tome_I2_Part_16.txt',\n     'Bxl_1920_Tome_I2_Part_17.txt',\n     'Bxl_1920_Tome_I2_Part_18.txt',\n     'Bxl_1920_Tome_I2_Part_2.txt',\n     'Bxl_1920_Tome_I2_Part_8.txt',\n     'Bxl_1921_Tome_I1_Part_4.txt',\n     'Bxl_1923_Tome_I1_Part_7.txt',\n     'Bxl_1923_Tome_I2_Part_3.txt',\n     'Bxl_1923_Tome_I2_Part_4.txt',\n     'Bxl_1923_Tome_I2_Part_8.txt',\n     'Bxl_1925_Tome_II1_1_Part_2.txt',\n     'Bxl_1925_Tome_II1_1_Part_3.txt',\n     'Bxl_1925_Tome_II1_1_Part_4.txt',\n     'Bxl_1925_Tome_II1_2_Part_3.txt',\n     'Bxl_1925_Tome_II1_2_Part_8.txt',\n     'Bxl_1926_Tome_I2_Part_11.txt',\n     'Bxl_1926_Tome_I2_Part_16.txt',\n     'Bxl_1926_Tome_I2_Part_6.txt',\n     'Bxl_1926_Tome_II1_Part_11.txt',\n     'Bxl_1926_Tome_II1_Part_16.txt',\n     'Bxl_1926_Tome_II1_Part_6.txt',\n     'Bxl_1928_Tome_II1_Part_2.txt',\n     'Bxl_1928_Tome_II1_Part_8.txt',\n     'Bxl_1928_Tome_II2_Part_10.txt',\n     'Bxl_1928_Tome_II2_Part_11.txt',\n     'Bxl_1928_Tome_II2_Part_12.txt',\n     'Bxl_1928_Tome_II2_Part_7.txt',\n     'Bxl_1928_Tome_II2_Part_8.txt',\n     'Bxl_1928_Tome_II2_Part_9.txt',\n     'Bxl_1929_Tome_II1_Part_3.txt',\n     'Bxl_1929_Tome_II1_Part_4.txt',\n     'Bxl_1929_Tome_I_Part_10.txt',\n     'Bxl_1929_Tome_I_Part_9.txt'],\n 1: ['Bxl_1920_Tome_I2_Part_1.txt',\n     'Bxl_1920_Tome_I2_Part_13.txt',\n     'Bxl_1920_Tome_I2_Part_14.txt',\n     'Bxl_1920_Tome_I2_Part_4.txt',\n     'Bxl_1921_Tome_I1_Part_1.txt',\n     'Bxl_1921_Tome_I1_Part_2.txt',\n     'Bxl_1921_Tome_I1_Part_3.txt',\n     'Bxl_1921_Tome_I1_Part_5.txt',\n     'Bxl_1921_Tome_I1_Part_7.txt',\n     'Bxl_1921_Tome_I1_Part_8.txt',\n     'Bxl_1923_Tome_I1_Part_1.txt',\n     'Bxl_1923_Tome_I1_Part_2.txt',\n     'Bxl_1923_Tome_I1_Part_3.txt',\n     'Bxl_1923_Tome_I1_Part_4.txt',\n     'Bxl_1923_Tome_I1_Part_5.txt',\n     'Bxl_1923_Tome_I1_Part_6.txt',\n     'Bxl_1923_Tome_I1_Part_8.txt',\n     'Bxl_1923_Tome_I2_Part_1.txt',\n     'Bxl_1923_Tome_I2_Part_9.txt',\n     'Bxl_1924_Tome_I1_Part_1.txt',\n     'Bxl_1924_Tome_I1_Part_2.txt',\n     'Bxl_1924_Tome_I1_Part_3.txt',\n     'Bxl_1924_Tome_I1_Part_4.txt',\n     'Bxl_1925_Tome_II1_1_Part_1.txt',\n     'Bxl_1925_Tome_II1_1_Part_5.txt',\n     'Bxl_1926_Tome_I1_Part_1.txt',\n     'Bxl_1926_Tome_I1_Part_2.txt',\n     'Bxl_1926_Tome_I1_Part_3.txt',\n     'Bxl_1926_Tome_I1_Part_4.txt',\n     'Bxl_1926_Tome_I1_Part_5.txt',\n     'Bxl_1926_Tome_I1_Part_6.txt',\n     'Bxl_1926_Tome_I1_Part_7.txt',\n     'Bxl_1926_Tome_I2_Part_1.txt',\n     'Bxl_1926_Tome_I2_Part_2.txt',\n     'Bxl_1926_Tome_I2_Part_7.txt',\n     'Bxl_1926_Tome_II1_Part_1.txt',\n     'Bxl_1926_Tome_II1_Part_2.txt',\n     'Bxl_1926_Tome_II1_Part_7.txt',\n     'Bxl_1927_Tome_I_Part_1.txt',\n     'Bxl_1927_Tome_I_Part_11.txt',\n     'Bxl_1927_Tome_I_Part_2.txt',\n     'Bxl_1927_Tome_I_Part_3.txt',\n     'Bxl_1927_Tome_I_Part_4.txt',\n     'Bxl_1927_Tome_I_Part_5.txt',\n     'Bxl_1927_Tome_I_Part_6.txt',\n     'Bxl_1927_Tome_I_Part_7.txt',\n     'Bxl_1927_Tome_I_Part_8.txt',\n     'Bxl_1928_Tome_II1_Part_1.txt',\n     'Bxl_1928_Tome_II1_Part_3.txt',\n     'Bxl_1928_Tome_II1_Part_4.txt',\n     'Bxl_1928_Tome_II2_Part_1.txt',\n     'Bxl_1928_Tome_II2_Part_2.txt',\n     'Bxl_1928_Tome_II2_Part_3.txt',\n     'Bxl_1928_Tome_II2_Part_4.txt',\n     'Bxl_1928_Tome_II2_Part_5.txt',\n     'Bxl_1928_Tome_II2_Part_6.txt',\n     'Bxl_1929_Tome_II1_Part_1.txt',\n     'Bxl_1929_Tome_II1_Part_2.txt',\n     'Bxl_1929_Tome_II2_Part_1.txt',\n     'Bxl_1929_Tome_II2_Part_2.txt',\n     'Bxl_1929_Tome_II2_Part_3.txt',\n     'Bxl_1929_Tome_II2_Part_4.txt',\n     'Bxl_1929_Tome_II2_Part_5.txt',\n     'Bxl_1929_Tome_II2_Part_6.txt',\n     'Bxl_1929_Tome_II2_Part_7.txt',\n     'Bxl_1929_Tome_I_Part_1.txt',\n     'Bxl_1929_Tome_I_Part_2.txt',\n     'Bxl_1929_Tome_I_Part_3.txt',\n     'Bxl_1929_Tome_I_Part_7.txt',\n     'Bxl_1929_Tome_I_Part_8.txt'],\n 2: ['Bxl_1920_Tome_I2_Part_6.txt',\n     'Bxl_1920_Tome_I2_Part_7.txt',\n     'Bxl_1923_Tome_I2_Part_6.txt',\n     'Bxl_1923_Tome_I2_Part_7.txt',\n     'Bxl_1925_Tome_II1_1_Part_7.txt',\n     'Bxl_1925_Tome_II1_2_Part_1.txt',\n     'Bxl_1925_Tome_II1_2_Part_2.txt',\n     'Bxl_1926_Tome_I2_Part_10.txt',\n     'Bxl_1926_Tome_I2_Part_9.txt',\n     'Bxl_1926_Tome_II1_Part_10.txt',\n     'Bxl_1926_Tome_II1_Part_9.txt',\n     'Bxl_1928_Tome_II1_Part_6.txt',\n     'Bxl_1928_Tome_II1_Part_7.txt',\n     'Bxl_1929_Tome_II1_Part_6.txt',\n     'Bxl_1929_Tome_II1_Part_7.txt'],\n 3: ['Bxl_1921_Tome_I1_Part_6.txt',\n     'Bxl_1923_Tome_I1_Part_9.txt',\n     'Bxl_1923_Tome_I2_Part_2.txt',\n     'Bxl_1924_Tome_I1_Part_5.txt',\n     'Bxl_1924_Tome_I1_Part_6.txt',\n     'Bxl_1924_Tome_I1_Part_7.txt',\n     'Bxl_1926_Tome_I2_Part_3.txt',\n     'Bxl_1926_Tome_I2_Part_4.txt',\n     'Bxl_1926_Tome_I2_Part_5.txt',\n     'Bxl_1926_Tome_II1_Part_3.txt',\n     'Bxl_1926_Tome_II1_Part_4.txt',\n     'Bxl_1926_Tome_II1_Part_5.txt',\n     'Bxl_1927_Tome_I_Part_10.txt',\n     'Bxl_1927_Tome_I_Part_9.txt',\n     'Bxl_1929_Tome_I_Part_4.txt',\n     'Bxl_1929_Tome_I_Part_5.txt',\n     'Bxl_1929_Tome_I_Part_6.txt'],\n 4: ['Bxl_1920_Tome_I2_Part_12.txt',\n     'Bxl_1922_Tome_II1_Part_1.txt',\n     'Bxl_1922_Tome_II1_Part_2.txt',\n     'Bxl_1922_Tome_II1_Part_3.txt',\n     'Bxl_1922_Tome_II1_Part_4.txt',\n     'Bxl_1923_Tome_II1_Part_1.txt',\n     'Bxl_1923_Tome_II1_Part_2.txt',\n     'Bxl_1923_Tome_II1_Part_3.txt',\n     'Bxl_1925_Tome_II1_2_Part_7.txt',\n     'Bxl_1926_Tome_I1_Part_9.txt',\n     'Bxl_1927_Tome_I_Part_12.txt',\n     'Bxl_1927_Tome_I_Part_13.txt',\n     'Bxl_1928_Tome_II1_Part_12.txt'],\n 5: ['Bxl_1920_Tome_I2_Part_10.txt',\n     'Bxl_1920_Tome_I2_Part_11.txt',\n     'Bxl_1920_Tome_I2_Part_19.txt',\n     'Bxl_1920_Tome_I2_Part_3.txt',\n     'Bxl_1920_Tome_I2_Part_5.txt',\n     'Bxl_1920_Tome_I2_Part_9.txt',\n     'Bxl_1921_Tome_I1_Part_9.txt',\n     'Bxl_1923_Tome_I1_Part_10.txt',\n     'Bxl_1923_Tome_I2_Part_5.txt',\n     'Bxl_1925_Tome_II1_1_Part_6.txt',\n     'Bxl_1925_Tome_II1_2_Part_4.txt',\n     'Bxl_1925_Tome_II1_2_Part_5.txt',\n     'Bxl_1925_Tome_II1_2_Part_6.txt',\n     'Bxl_1926_Tome_I1_Part_8.txt',\n     'Bxl_1926_Tome_I2_Part_12.txt',\n     'Bxl_1926_Tome_I2_Part_13.txt',\n     'Bxl_1926_Tome_I2_Part_14.txt',\n     'Bxl_1926_Tome_I2_Part_15.txt',\n     'Bxl_1926_Tome_I2_Part_8.txt',\n     'Bxl_1926_Tome_II1_Part_12.txt',\n     'Bxl_1926_Tome_II1_Part_13.txt',\n     'Bxl_1926_Tome_II1_Part_14.txt',\n     'Bxl_1926_Tome_II1_Part_15.txt',\n     'Bxl_1926_Tome_II1_Part_8.txt',\n     'Bxl_1928_Tome_II1_Part_10.txt',\n     'Bxl_1928_Tome_II1_Part_11.txt',\n     'Bxl_1928_Tome_II1_Part_5.txt',\n     'Bxl_1928_Tome_II1_Part_9.txt',\n     'Bxl_1929_Tome_II1_Part_5.txt']}\n"
     ]
    }
   ],
   "source": [
    "pprint(dict(clustering))"
   ]
  },
  {
   "cell_type": "code",
   "execution_count": 97,
   "metadata": {},
   "outputs": [],
   "source": [
    "import os\n",
    "import yake\n",
    "\n",
    "ignored = set([\"conseil communal\", \"conseil général\"])\n",
    "kw_extractor = yake.KeywordExtractor(lan=\"fr\", top=20)\n",
    "\n",
    "data_path = \"../data/txt/\"\n",
    "files = os.listdir(data_path)"
   ]
  },
  {
   "cell_type": "code",
   "execution_count": 98,
   "metadata": {},
   "outputs": [],
   "source": [
    "cluster_6_0 = ['Bxl_1920_Tome_I2_Part_15.txt',\n",
    "     'Bxl_1920_Tome_I2_Part_16.txt',\n",
    "     'Bxl_1920_Tome_I2_Part_17.txt',\n",
    "     'Bxl_1920_Tome_I2_Part_18.txt',\n",
    "     'Bxl_1920_Tome_I2_Part_2.txt',\n",
    "     'Bxl_1920_Tome_I2_Part_8.txt',\n",
    "     'Bxl_1921_Tome_I1_Part_4.txt',\n",
    "     'Bxl_1923_Tome_I1_Part_7.txt',\n",
    "     'Bxl_1923_Tome_I2_Part_3.txt',\n",
    "     'Bxl_1923_Tome_I2_Part_4.txt',\n",
    "     'Bxl_1923_Tome_I2_Part_8.txt',\n",
    "     'Bxl_1925_Tome_II1_1_Part_2.txt',\n",
    "     'Bxl_1925_Tome_II1_1_Part_3.txt',\n",
    "     'Bxl_1925_Tome_II1_1_Part_4.txt',\n",
    "     'Bxl_1925_Tome_II1_2_Part_3.txt',\n",
    "     'Bxl_1925_Tome_II1_2_Part_8.txt',\n",
    "     'Bxl_1926_Tome_I2_Part_11.txt',\n",
    "     'Bxl_1926_Tome_I2_Part_16.txt',\n",
    "     'Bxl_1926_Tome_I2_Part_6.txt',\n",
    "     'Bxl_1926_Tome_II1_Part_11.txt',\n",
    "     'Bxl_1926_Tome_II1_Part_16.txt',\n",
    "     'Bxl_1926_Tome_II1_Part_6.txt',\n",
    "     'Bxl_1928_Tome_II1_Part_2.txt',\n",
    "     'Bxl_1928_Tome_II1_Part_8.txt',\n",
    "     'Bxl_1928_Tome_II2_Part_10.txt',\n",
    "     'Bxl_1928_Tome_II2_Part_11.txt',\n",
    "     'Bxl_1928_Tome_II2_Part_12.txt',\n",
    "     'Bxl_1928_Tome_II2_Part_7.txt',\n",
    "     'Bxl_1928_Tome_II2_Part_8.txt',\n",
    "     'Bxl_1928_Tome_II2_Part_9.txt',\n",
    "     'Bxl_1929_Tome_II1_Part_3.txt',\n",
    "     'Bxl_1929_Tome_II1_Part_4.txt',\n",
    "     'Bxl_1929_Tome_I_Part_10.txt',\n",
    "     'Bxl_1929_Tome_I_Part_9.txt']"
   ]
  },
  {
   "cell_type": "code",
   "execution_count": 100,
   "metadata": {},
   "outputs": [
    {
     "output_type": "stream",
     "name": "stdout",
     "text": [
      "Bxl_1920_Tome_I2_Part_15.txt mentions these keywords: entretien des toitures, travaux de jardinage, agents spéciaux, prévisions évaluations recettes...\n",
      "Bxl_1920_Tome_I2_Part_16.txt mentions these keywords: voir bulletin communal, bulletin communal, voir bulletin, frais d'administration...\n",
      "Bxl_1920_Tome_I2_Part_17.txt mentions these keywords: maison rue, voir bulletin communal, recettes effectuées, bulletin communal, cahier d'explications, voir bulletin...\n",
      "Bxl_1920_Tome_I2_Part_18.txt mentions these keywords: maison rue, supplément jusqu'à nouvel, jusqu'à nouvel ordre, supplément jusqu'à, nouvel ordre, jusqu'à nouvel...\n",
      "Bxl_1920_Tome_I2_Part_2.txt mentions these keywords: date dépense dépenses, dépense dépenses, service ordinaire, l'école professionnelle, service extraordinaire, reçu recettes, nature des recettes, recettes effectuées...\n",
      "Bxl_1920_Tome_I2_Part_8.txt mentions these keywords: jardin d'enfants, mètres cubes, rue ducale, avenue louise...\n",
      "Bxl_1921_Tome_I1_Part_4.txt mentions these keywords: titres remboursables, primes annuité, titres sortis, payé intérêts, totaux nombre primes, voir page, chef de coupons, camille huysmans, paiements effectués...\n",
      "Bxl_1923_Tome_I1_Part_7.txt mentions these keywords: titres remboursables, primes annuité ensemble, titres sortis, coupons indûment détachés, primes annuité, coupons indûment, payé intérêts, voir page, annuité ensemble, chef de coupons, annuité payé...\n",
      "Bxl_1923_Tome_I2_Part_3.txt mentions these keywords: vicinal de bruxelles, fer vicinal, date dépense dépenses, bruxelles à ninove, bruxelles à humbeek, chemin de fer, bruxelles à haecht, dépenses date dépense, commune de laeken, reçu recettes...\n",
      "Bxl_1923_Tome_I2_Part_4.txt mentions these keywords: recettes extraordinaires, avis favorable, service extraordinaire, service ordinaire...\n",
      "Bxl_1923_Tome_I2_Part_8.txt mentions these keywords: ...\n",
      "Bxl_1925_Tome_II1_1_Part_2.txt mentions these keywords: titres remboursables, titres sortis, coupons indûment détachés, coupons indûment, primes annuité ensemble, primes annuité, chef de coupons, détachés de titres, rectification du chef, voir page, payé intérêts, paiements effectués...\n",
      "Bxl_1925_Tome_II1_1_Part_3.txt mentions these keywords: vicinal de bruxelles, chemin de fer, fer vicinal, bruxelles à humbeek, bruxelles à ninove, maison rue, capital supplémentaire...\n",
      "Bxl_1925_Tome_II1_1_Part_4.txt mentions these keywords: entretien d'une tombe, recettes extraordinaires, service extraordinaire, entretien d'une, service ordinaire, recettes ordinaires...\n",
      "Bxl_1925_Tome_II1_2_Part_3.txt mentions these keywords: école école école, jardin d'enfants, l'année scolaire, ecole communale, avenue louise, écoles primaires communales, écoles primaires...\n",
      "Bxl_1925_Tome_II1_2_Part_8.txt mentions these keywords: ...\n",
      "Bxl_1926_Tome_I2_Part_11.txt mentions these keywords: rue verhoeven rue, rue félix sterckx, rue ernest, rue félix, rue claessens, place royale rue, rue léon, rue antoine, rue antoine dansaert...\n",
      "Bxl_1926_Tome_I2_Part_16.txt mentions these keywords: voir ecoles, voir prostitution, voir assistance, voir assistance préventive, théâtre royal, chemins de fer...\n",
      "Bxl_1926_Tome_I2_Part_6.txt mentions these keywords: reçu recettes, vicinal de bruxelles, nature des recettes, recette évaluation nature, fer vicinal, recettes extraordinaires, recettes ordinaires, service extraordinaire, service ordinaire, ire deuxi...\n",
      "Bxl_1926_Tome_II1_Part_11.txt mentions these keywords: rue félix sterckx, rue antoine dansaert, rue antoine, rue félix, rue ernest, caisse communale, d'une nouvelle rue, rue van...\n",
      "Bxl_1926_Tome_II1_Part_16.txt mentions these keywords: voir ecoles, voir assistance, voir prostitution, voir assistance régies, assistance régies, voir morts prostitution, morts prostitution...\n",
      "Bxl_1926_Tome_II1_Part_6.txt mentions these keywords: reçu recettes, vicinal de bruxelles, service ordinaire, recettes extraordinaires, service extraordinaire, subsides de l'etat, recettes ordinaires, chemin de fer, fer vicinal...\n",
      "Bxl_1928_Tome_II1_Part_2.txt mentions these keywords: reçu recettes, recettes extraordinaires, nature des recettes, service extraordinaire, l'école professionnelle, pensions communales, depense dépenses date...\n",
      "Bxl_1928_Tome_II1_Part_8.txt mentions these keywords: mètres carrés, rue vanden branden, rue vanden...\n",
      "Bxl_1928_Tome_II2_Part_10.txt mentions these keywords: maison rue, maison rue van, rue van artevelde, rue van, rue antoine dansaert, maison rue royale, maison rue haute, rue haute, indication observations affectation...\n",
      "Bxl_1928_Tome_II2_Part_11.txt mentions these keywords: avis favorable, conseiller communal, comité scolaire, traitements du personnel...\n",
      "Bxl_1928_Tome_II2_Part_12.txt mentions these keywords: conseiller communal, société coopérative, comité scolaire, arrêté définitif...\n",
      "Bxl_1928_Tome_II2_Part_7.txt mentions these keywords: allocations dépenses effectuées, allocations dépenses, allocation allocations dépenses, évaluations recettes effectuées, dépenses effectuées, allocations modifiées, pensions communales, évaluations recettes, recettes effectuées, dépenses allocations modifiées, recettes reports...\n",
      "Bxl_1928_Tome_II2_Part_8.txt mentions these keywords: entretien des toitures, rafraîchissement des peintures, frais d'administration éclairage, jardin d'enfants, frais d'administration...\n",
      "Bxl_1928_Tome_II2_Part_9.txt mentions these keywords: commune de laeken, l'ancienne commune, recettes effectuées, voir art., crédit communal, ville de bruxelles...\n",
      "Bxl_1929_Tome_II1_Part_3.txt mentions these keywords: foyer bruxellois, pensions communales, frais d'administration...\n",
      "Bxl_1929_Tome_II1_Part_4.txt mentions these keywords: commission d'assistance publique, commission d'assistance, service extraordinaire, ville de bruxelles, recettes extraordinaires, chemin de fer, d'assistance publique...\n"
     ]
    },
    {
     "output_type": "error",
     "ename": "UnboundLocalError",
     "evalue": "local variable 'block_of_word_obj' referenced before assignment",
     "traceback": [
      "\u001b[1;31m---------------------------------------------------------------------------\u001b[0m",
      "\u001b[1;31mUnboundLocalError\u001b[0m                         Traceback (most recent call last)",
      "\u001b[1;32m<ipython-input-100-0d4d1f63f2f1>\u001b[0m in \u001b[0;36m<module>\u001b[1;34m\u001b[0m\n\u001b[0;32m      1\u001b[0m \u001b[1;32mfor\u001b[0m \u001b[0mf\u001b[0m \u001b[1;32min\u001b[0m \u001b[0msorted\u001b[0m\u001b[1;33m(\u001b[0m\u001b[0mcluster_6_0\u001b[0m\u001b[1;33m)\u001b[0m\u001b[1;33m:\u001b[0m\u001b[1;33m\u001b[0m\u001b[1;33m\u001b[0m\u001b[0m\n\u001b[0;32m      2\u001b[0m     \u001b[0mtext\u001b[0m \u001b[1;33m=\u001b[0m \u001b[0mopen\u001b[0m\u001b[1;33m(\u001b[0m\u001b[1;34mf'{data_path}/{f}'\u001b[0m\u001b[1;33m,\u001b[0m \u001b[0mencoding\u001b[0m\u001b[1;33m=\u001b[0m\u001b[1;34m'utf-8'\u001b[0m\u001b[1;33m)\u001b[0m\u001b[1;33m.\u001b[0m\u001b[0mread\u001b[0m\u001b[1;33m(\u001b[0m\u001b[1;33m)\u001b[0m\u001b[1;33m\u001b[0m\u001b[1;33m\u001b[0m\u001b[0m\n\u001b[1;32m----> 3\u001b[1;33m     \u001b[0mkeywords\u001b[0m \u001b[1;33m=\u001b[0m \u001b[0mkw_extractor\u001b[0m\u001b[1;33m.\u001b[0m\u001b[0mextract_keywords\u001b[0m\u001b[1;33m(\u001b[0m\u001b[0mtext\u001b[0m\u001b[1;33m)\u001b[0m\u001b[1;33m\u001b[0m\u001b[1;33m\u001b[0m\u001b[0m\n\u001b[0m\u001b[0;32m      4\u001b[0m     \u001b[0mkept\u001b[0m \u001b[1;33m=\u001b[0m \u001b[1;33m[\u001b[0m\u001b[1;33m]\u001b[0m\u001b[1;33m\u001b[0m\u001b[1;33m\u001b[0m\u001b[0m\n\u001b[0;32m      5\u001b[0m     \u001b[1;32mfor\u001b[0m \u001b[0mscore\u001b[0m\u001b[1;33m,\u001b[0m \u001b[0mkw\u001b[0m \u001b[1;32min\u001b[0m \u001b[0mkeywords\u001b[0m\u001b[1;33m:\u001b[0m\u001b[1;33m\u001b[0m\u001b[1;33m\u001b[0m\u001b[0m\n",
      "\u001b[1;32m~\\AppData\\Local\\Programs\\Python\\Python38\\lib\\site-packages\\yake\\yake.py\u001b[0m in \u001b[0;36mextract_keywords\u001b[1;34m(self, text)\u001b[0m\n\u001b[0;32m     44\u001b[0m         \u001b[0mtext\u001b[0m \u001b[1;33m=\u001b[0m \u001b[0mtext\u001b[0m\u001b[1;33m.\u001b[0m\u001b[0mreplace\u001b[0m\u001b[1;33m(\u001b[0m\u001b[1;34m'\\n\\t'\u001b[0m\u001b[1;33m,\u001b[0m\u001b[1;34m' '\u001b[0m\u001b[1;33m)\u001b[0m\u001b[1;33m\u001b[0m\u001b[1;33m\u001b[0m\u001b[0m\n\u001b[0;32m     45\u001b[0m \u001b[1;33m\u001b[0m\u001b[0m\n\u001b[1;32m---> 46\u001b[1;33m         \u001b[0mdc\u001b[0m \u001b[1;33m=\u001b[0m \u001b[0mDataCore\u001b[0m\u001b[1;33m(\u001b[0m\u001b[0mtext\u001b[0m\u001b[1;33m=\u001b[0m\u001b[0mtext\u001b[0m\u001b[1;33m,\u001b[0m \u001b[0mstopword_set\u001b[0m\u001b[1;33m=\u001b[0m\u001b[0mself\u001b[0m\u001b[1;33m.\u001b[0m\u001b[0mstopword_set\u001b[0m\u001b[1;33m,\u001b[0m \u001b[0mwindowsSize\u001b[0m\u001b[1;33m=\u001b[0m\u001b[0mself\u001b[0m\u001b[1;33m.\u001b[0m\u001b[0mwindowsSize\u001b[0m\u001b[1;33m,\u001b[0m \u001b[0mn\u001b[0m\u001b[1;33m=\u001b[0m\u001b[0mself\u001b[0m\u001b[1;33m.\u001b[0m\u001b[0mn\u001b[0m\u001b[1;33m)\u001b[0m\u001b[1;33m\u001b[0m\u001b[1;33m\u001b[0m\u001b[0m\n\u001b[0m\u001b[0;32m     47\u001b[0m         \u001b[0mdc\u001b[0m\u001b[1;33m.\u001b[0m\u001b[0mbuild_single_terms_features\u001b[0m\u001b[1;33m(\u001b[0m\u001b[0mfeatures\u001b[0m\u001b[1;33m=\u001b[0m\u001b[0mself\u001b[0m\u001b[1;33m.\u001b[0m\u001b[0mfeatures\u001b[0m\u001b[1;33m)\u001b[0m\u001b[1;33m\u001b[0m\u001b[1;33m\u001b[0m\u001b[0m\n\u001b[0;32m     48\u001b[0m         \u001b[0mdc\u001b[0m\u001b[1;33m.\u001b[0m\u001b[0mbuild_mult_terms_features\u001b[0m\u001b[1;33m(\u001b[0m\u001b[0mfeatures\u001b[0m\u001b[1;33m=\u001b[0m\u001b[0mself\u001b[0m\u001b[1;33m.\u001b[0m\u001b[0mfeatures\u001b[0m\u001b[1;33m)\u001b[0m\u001b[1;33m\u001b[0m\u001b[1;33m\u001b[0m\u001b[0m\n",
      "\u001b[1;32m~\\AppData\\Local\\Programs\\Python\\Python38\\lib\\site-packages\\yake\\datarepresentation.py\u001b[0m in \u001b[0;36m__init__\u001b[1;34m(self, text, stopword_set, windowsSize, n, tagsToDiscard, exclude)\u001b[0m\n\u001b[0;32m     34\u001b[0m         \u001b[0mself\u001b[0m\u001b[1;33m.\u001b[0m\u001b[0mstopword_set\u001b[0m \u001b[1;33m=\u001b[0m \u001b[0mstopword_set\u001b[0m\u001b[1;33m\u001b[0m\u001b[1;33m\u001b[0m\u001b[0m\n\u001b[0;32m     35\u001b[0m \u001b[1;33m\u001b[0m\u001b[0m\n\u001b[1;32m---> 36\u001b[1;33m         \u001b[0mself\u001b[0m\u001b[1;33m.\u001b[0m\u001b[0m_build\u001b[0m\u001b[1;33m(\u001b[0m\u001b[0mtext\u001b[0m\u001b[1;33m,\u001b[0m \u001b[0mwindowsSize\u001b[0m\u001b[1;33m,\u001b[0m \u001b[0mn\u001b[0m\u001b[1;33m)\u001b[0m\u001b[1;33m\u001b[0m\u001b[1;33m\u001b[0m\u001b[0m\n\u001b[0m\u001b[0;32m     37\u001b[0m \u001b[1;33m\u001b[0m\u001b[0m\n\u001b[0;32m     38\u001b[0m     \u001b[1;32mdef\u001b[0m \u001b[0mbuild_candidate\u001b[0m\u001b[1;33m(\u001b[0m\u001b[0mself\u001b[0m\u001b[1;33m,\u001b[0m \u001b[0mcandidate_string\u001b[0m\u001b[1;33m)\u001b[0m\u001b[1;33m:\u001b[0m\u001b[1;33m\u001b[0m\u001b[1;33m\u001b[0m\u001b[0m\n",
      "\u001b[1;32m~\\AppData\\Local\\Programs\\Python\\Python38\\lib\\site-packages\\yake\\datarepresentation.py\u001b[0m in \u001b[0;36m_build\u001b[1;34m(self, text, windowsSize, n)\u001b[0m\n\u001b[0;32m    108\u001b[0m                 \u001b[0mself\u001b[0m\u001b[1;33m.\u001b[0m\u001b[0msentences_obj\u001b[0m\u001b[1;33m.\u001b[0m\u001b[0mappend\u001b[0m\u001b[1;33m(\u001b[0m\u001b[0msentence_obj_aux\u001b[0m\u001b[1;33m)\u001b[0m\u001b[1;33m\u001b[0m\u001b[1;33m\u001b[0m\u001b[0m\n\u001b[0;32m    109\u001b[0m \u001b[1;33m\u001b[0m\u001b[0m\n\u001b[1;32m--> 110\u001b[1;33m         \u001b[1;32mif\u001b[0m \u001b[0mlen\u001b[0m\u001b[1;33m(\u001b[0m\u001b[0mblock_of_word_obj\u001b[0m\u001b[1;33m)\u001b[0m \u001b[1;33m>\u001b[0m \u001b[1;36m0\u001b[0m\u001b[1;33m:\u001b[0m\u001b[1;33m\u001b[0m\u001b[1;33m\u001b[0m\u001b[0m\n\u001b[0m\u001b[0;32m    111\u001b[0m             \u001b[0msentence_obj_aux\u001b[0m\u001b[1;33m.\u001b[0m\u001b[0mappend\u001b[0m\u001b[1;33m(\u001b[0m \u001b[0mblock_of_word_obj\u001b[0m \u001b[1;33m)\u001b[0m\u001b[1;33m\u001b[0m\u001b[1;33m\u001b[0m\u001b[0m\n\u001b[0;32m    112\u001b[0m \u001b[1;33m\u001b[0m\u001b[0m\n",
      "\u001b[1;31mUnboundLocalError\u001b[0m: local variable 'block_of_word_obj' referenced before assignment"
     ]
    }
   ],
   "source": [
    "for f in sorted(cluster_6_0):\n",
    "    text = open(f'{data_path}/{f}', encoding='utf-8').read()\n",
    "    keywords = kw_extractor.extract_keywords(text)\n",
    "    kept = []\n",
    "    for score, kw in keywords:\n",
    "        words = kw.split()\n",
    "        if len(words) > 1 and kw not in ignored:\n",
    "            kept.append(kw)\n",
    "    print(f\"{f} mentions these keywords: {', '.join(kept)}...\")"
   ]
  },
  {
   "cell_type": "code",
   "execution_count": null,
   "metadata": {},
   "outputs": [],
   "source": []
  },
  {
   "cell_type": "code",
   "execution_count": 103,
   "metadata": {},
   "outputs": [],
   "source": [
    "cluster_6_1 = ['Bxl_1920_Tome_I2_Part_1.txt',\n",
    "     'Bxl_1920_Tome_I2_Part_13.txt',\n",
    "     'Bxl_1920_Tome_I2_Part_14.txt',\n",
    "     'Bxl_1920_Tome_I2_Part_4.txt',\n",
    "     'Bxl_1921_Tome_I1_Part_1.txt',\n",
    "     'Bxl_1921_Tome_I1_Part_2.txt',\n",
    "     'Bxl_1921_Tome_I1_Part_3.txt',\n",
    "     'Bxl_1921_Tome_I1_Part_5.txt',\n",
    "     'Bxl_1921_Tome_I1_Part_7.txt',\n",
    "     'Bxl_1921_Tome_I1_Part_8.txt',\n",
    "     'Bxl_1923_Tome_I1_Part_1.txt',\n",
    "     'Bxl_1923_Tome_I1_Part_2.txt',\n",
    "     'Bxl_1923_Tome_I1_Part_3.txt',\n",
    "     'Bxl_1923_Tome_I1_Part_4.txt',\n",
    "     'Bxl_1923_Tome_I1_Part_5.txt',\n",
    "     'Bxl_1923_Tome_I1_Part_6.txt',\n",
    "     'Bxl_1923_Tome_I1_Part_8.txt',\n",
    "     'Bxl_1923_Tome_I2_Part_1.txt',\n",
    "     'Bxl_1923_Tome_I2_Part_9.txt',\n",
    "     'Bxl_1924_Tome_I1_Part_1.txt',\n",
    "     'Bxl_1924_Tome_I1_Part_2.txt',\n",
    "     'Bxl_1924_Tome_I1_Part_3.txt',\n",
    "     'Bxl_1924_Tome_I1_Part_4.txt',\n",
    "     'Bxl_1925_Tome_II1_1_Part_1.txt',\n",
    "     'Bxl_1925_Tome_II1_1_Part_5.txt',\n",
    "     'Bxl_1926_Tome_I1_Part_1.txt',\n",
    "     'Bxl_1926_Tome_I1_Part_2.txt',\n",
    "     'Bxl_1926_Tome_I1_Part_3.txt',\n",
    "     'Bxl_1926_Tome_I1_Part_4.txt',\n",
    "     'Bxl_1926_Tome_I1_Part_5.txt',\n",
    "     'Bxl_1926_Tome_I1_Part_6.txt',\n",
    "     'Bxl_1926_Tome_I1_Part_7.txt',\n",
    "     'Bxl_1926_Tome_I2_Part_1.txt',\n",
    "     'Bxl_1926_Tome_I2_Part_2.txt',\n",
    "     'Bxl_1926_Tome_I2_Part_7.txt',\n",
    "     'Bxl_1926_Tome_II1_Part_1.txt',\n",
    "     'Bxl_1926_Tome_II1_Part_2.txt',\n",
    "     'Bxl_1926_Tome_II1_Part_7.txt',\n",
    "     'Bxl_1927_Tome_I_Part_1.txt',\n",
    "     'Bxl_1927_Tome_I_Part_11.txt',\n",
    "     'Bxl_1927_Tome_I_Part_2.txt',\n",
    "     'Bxl_1927_Tome_I_Part_3.txt',\n",
    "     'Bxl_1927_Tome_I_Part_4.txt',\n",
    "     'Bxl_1927_Tome_I_Part_5.txt',\n",
    "     'Bxl_1927_Tome_I_Part_6.txt',\n",
    "     'Bxl_1927_Tome_I_Part_7.txt',\n",
    "     'Bxl_1927_Tome_I_Part_8.txt',\n",
    "     'Bxl_1928_Tome_II1_Part_1.txt',\n",
    "     'Bxl_1928_Tome_II1_Part_3.txt',\n",
    "     'Bxl_1928_Tome_II1_Part_4.txt',\n",
    "     'Bxl_1928_Tome_II2_Part_1.txt',\n",
    "     'Bxl_1928_Tome_II2_Part_2.txt',\n",
    "     'Bxl_1928_Tome_II2_Part_3.txt',\n",
    "     'Bxl_1928_Tome_II2_Part_4.txt',\n",
    "     'Bxl_1928_Tome_II2_Part_5.txt',\n",
    "     'Bxl_1928_Tome_II2_Part_6.txt',\n",
    "     'Bxl_1929_Tome_II1_Part_1.txt',\n",
    "     'Bxl_1929_Tome_II1_Part_2.txt',\n",
    "     'Bxl_1929_Tome_II2_Part_1.txt',\n",
    "     'Bxl_1929_Tome_II2_Part_2.txt',\n",
    "     'Bxl_1929_Tome_II2_Part_3.txt',\n",
    "     'Bxl_1929_Tome_II2_Part_4.txt',\n",
    "     'Bxl_1929_Tome_II2_Part_5.txt',\n",
    "     'Bxl_1929_Tome_II2_Part_6.txt',\n",
    "     'Bxl_1929_Tome_II2_Part_7.txt',\n",
    "     'Bxl_1929_Tome_I_Part_1.txt',\n",
    "     'Bxl_1929_Tome_I_Part_2.txt',\n",
    "     'Bxl_1929_Tome_I_Part_3.txt',\n",
    "     'Bxl_1929_Tome_I_Part_7.txt',\n",
    "     'Bxl_1929_Tome_I_Part_8.txt']"
   ]
  },
  {
   "cell_type": "code",
   "execution_count": 102,
   "metadata": {},
   "outputs": [
    {
     "output_type": "stream",
     "name": "stdout",
     "text": [
      "Bxl_1920_Tome_I2_Part_1.txt mentions these keywords: camille huysmans, section des finances, avis favorable, l'echevin hallet...\n",
      "Bxl_1920_Tome_I2_Part_13.txt mentions these keywords: section des finances, avis favorable, collège vous propose, crédit supplémentaire, finances a émis, vote d'un crédit, ressources ordinaires, dépenses ordinaires...\n",
      "Bxl_1920_Tome_I2_Part_14.txt mentions these keywords: l'echevin lemonnier, allocations allocations dépenses, francs francs francs, l'echevin jacqmain, allocations allocations, allocations allocations modifiées...\n",
      "Bxl_1920_Tome_I2_Part_4.txt mentions these keywords: avis favorable, ville de bruxelles, section des finances, l'echevin lemonnier, collège a l'honneur...\n",
      "Bxl_1921_Tome_I1_Part_1.txt mentions these keywords: section des finances, collège vous propose, avis favorable, ressources ordinaires...\n",
      "Bxl_1921_Tome_I1_Part_2.txt mentions these keywords: huisman-van den nest, den nest, camille huysmans, l'echevin jacqmain, drapeau national...\n",
      "Bxl_1921_Tome_I1_Part_3.txt mentions these keywords: avis favorable, fondation rockefeller, section des finances, conseil des hospices, collège vous propose, vote d'un crédit...\n",
      "Bxl_1921_Tome_I1_Part_5.txt mentions these keywords: conseil d'arbitrage, section des finances, avis favorable, l'echevin hallet...\n",
      "Bxl_1921_Tome_I1_Part_7.txt mentions these keywords: section des finances, vote d'un crédit, collège vous propose, van den nest, avis favorable, huisman van den, d'un crédit supplémentaire, ressources ordinaires, d'un crédit, émis un avis...\n",
      "Bxl_1921_Tome_I1_Part_8.txt mentions these keywords: verhaeghe de naeyer, conseil général d'administration, ville de bruxelles, van den nest...\n",
      "Bxl_1923_Tome_I1_Part_1.txt mentions these keywords: mesdames et messieurs, crédit supplémentaire, ville de bruxelles, avis favorable, collège a l'honneur...\n",
      "Bxl_1923_Tome_I1_Part_2.txt mentions these keywords: crédit supplémentaire, avis favorable, mesdames et messieurs, écoles moyennes...\n",
      "Bxl_1923_Tome_I1_Part_3.txt mentions these keywords: mesdames et messieurs, personnel occupé, personnel enseignant...\n",
      "Bxl_1923_Tome_I1_Part_4.txt mentions these keywords: conseil d'appel, conseil de prud'hommes...\n",
      "Bxl_1923_Tome_I1_Part_5.txt mentions these keywords: conseil d'appel, ville de bruxelles, mesdames et messieurs, hospice hospice refuge, conseil de prud'hommes, conseil général d'administration, crédit supplémentaire...\n",
      "Bxl_1923_Tome_I1_Part_6.txt mentions these keywords: mesdames et messieurs, crédit supplémentaire, conseil des hospices, avis favorable, vote d'un crédit...\n",
      "Bxl_1923_Tome_I1_Part_8.txt mentions these keywords: maison rue, mesdames et messieurs, juin juin...\n",
      "Bxl_1923_Tome_I2_Part_1.txt mentions these keywords: mesdames et messieurs, l'exercice conseil général, conseil général collège, nature budget budget...\n",
      "Bxl_1923_Tome_I2_Part_9.txt mentions these keywords: l'ordre public, loi communale...\n",
      "Bxl_1924_Tome_I1_Part_1.txt mentions these keywords: conseil général d'administration, avis favorable, mesdames et messieurs, van remoortel, collège a l'honneur...\n",
      "Bxl_1924_Tome_I1_Part_2.txt mentions these keywords: mesdames et messieurs, avis favorable, conseil des hospices, van remoortel, conseil général d'administration...\n",
      "Bxl_1924_Tome_I1_Part_3.txt mentions these keywords: van remoortel, van den nest, avis favorable...\n",
      "Bxl_1924_Tome_I1_Part_4.txt mentions these keywords: agents de change, l'echevin wauwermans, verhaeghe-de naeyer, bourse de bruxelles...\n",
      "Bxl_1925_Tome_II1_1_Part_1.txt mentions these keywords: mesdames et messieurs, l'echevin wauwermans...\n",
      "Bxl_1925_Tome_II1_1_Part_5.txt mentions these keywords: mesdames et messieurs, l'echevin lemonnier, ville de bruxelles, van remoortel...\n",
      "Bxl_1926_Tome_I1_Part_1.txt mentions these keywords: arts et métiers, l'echevin jacqmain, mesdames et messieurs, l'echevin lemonnier...\n",
      "Bxl_1926_Tome_I1_Part_2.txt mentions these keywords: l'echevin jacqmain, mesdames et messieurs, l'echevin lemonnier...\n",
      "Bxl_1926_Tome_I1_Part_3.txt mentions these keywords: van remoortel, l'echevin jacqmain, père de famille...\n",
      "Bxl_1926_Tome_I1_Part_4.txt mentions these keywords: commission d'assistance publique, commission d'assistance, d'assistance publique, mesdames et messieurs, crédit supplémentaire, avis favorable...\n",
      "Bxl_1926_Tome_I1_Part_5.txt mentions these keywords: commission d'assistance publique, d'assistance publique, collège a l'honneur, question d'une exposition, commission d'assistance, d'une exposition...\n",
      "Bxl_1926_Tome_I1_Part_6.txt mentions these keywords: commission d'assistance publique, commission d'assistance, d'assistance publique, collège a l'honneur...\n",
      "Bxl_1926_Tome_I1_Part_7.txt mentions these keywords: stationnement stationnement...\n",
      "Bxl_1926_Tome_I2_Part_1.txt mentions these keywords: pensions communales, commission d'assistance publique, crédits supplémentaires...\n",
      "Bxl_1926_Tome_I2_Part_2.txt mentions these keywords: place colignon rue, section sections sections...\n",
      "Bxl_1926_Tome_I2_Part_7.txt mentions these keywords: collège a l'honneur, mesdames et messieurs, crédit supplémentaire...\n",
      "Bxl_1926_Tome_II1_Part_1.txt mentions these keywords: commission d'assistance publique, commission d'assistance, pensions communales, mesdames et messieurs, partie mobile, avis favorable...\n",
      "Bxl_1926_Tome_II1_Part_2.txt mentions these keywords: l'echevin jacqmain, société bruxelloise, van remoortel, pouvoir autorisant...\n",
      "Bxl_1926_Tome_II1_Part_7.txt mentions these keywords: mesdames et messieurs, commission d'assistance publique, d'assistance publique, collège a l'honneur, commission d'assistance, avis favorable, avons l'honneur...\n",
      "Bxl_1927_Tome_I_Part_1.txt mentions these keywords: van overstraeten, van remoortel, van den nest, huisman van den, monsieur van overstraeten, huisman van, mesdames et messieurs, van den, van overstraeten s'est...\n",
      "Bxl_1927_Tome_I_Part_11.txt mentions these keywords: ville de bruxelles, mesdames et messieurs, bail emphytéotique, commission d'assistance publique, francs payés...\n",
      "Bxl_1927_Tome_I_Part_2.txt mentions these keywords: van overstraeten, mesdames et messieurs, ville de bruxelles, l'echevin lemonnier, tramways bruxellois, l'echevin coelst, huisman van den...\n",
      "Bxl_1927_Tome_I_Part_3.txt mentions these keywords: van remoortel, l'echevin coelst, ville de bruxelles, van overstraeten, écoles libres, l'echevin pattou, l'echevin jacqmain, l'enseignement libre...\n",
      "Bxl_1927_Tome_I_Part_4.txt mentions these keywords: l'echevin wauwermans, van overstraeten, commission d'assistance publique, mesdames et messieurs, avis favorable...\n",
      "Bxl_1927_Tome_I_Part_5.txt mentions these keywords: van overstraeten, van remoortel, ville de bruxelles, huisman van den, van den nest, commission d'assistance publique, monsieur van overstraeten, huisman van, l'echevin van...\n",
      "Bxl_1927_Tome_I_Part_6.txt mentions these keywords: francs francs francs, francs francs, mesdames et messieurs, refuge des ursulines, commission d'assistance publique, hospice hospice refuge...\n",
      "Bxl_1927_Tome_I_Part_7.txt mentions these keywords: van remoortel, van overstraeten, van den nest, huisman van den, huisman van, mesdames et messieurs, tramways bruxellois, van den, l'echevin van...\n",
      "Bxl_1927_Tome_I_Part_8.txt mentions these keywords: tramways bruxellois, chemins de fer, ville de bruxelles, fer économiques, société anonyme, recette tramways bruxellois, société générale, tramways concédé, foyer bruxellois...\n",
      "Bxl_1928_Tome_II1_Part_1.txt mentions these keywords: l'echevin wauwermans, date depense dépenses, membres répondent...\n",
      "Bxl_1928_Tome_II1_Part_3.txt mentions these keywords: commission d'assistance publique, l'echevin jacqmain, commission d'assistance, verhaeghe-de naeyer, van den nest, l'echevin waucquez, d'assistance publique...\n",
      "Bxl_1928_Tome_II1_Part_4.txt mentions these keywords: mesdames et messieurs, l'echevin lemonnier, l'echevin coelst, francs versée, avis favorable, collège a l'honneur...\n",
      "Bxl_1928_Tome_II2_Part_1.txt mentions these keywords: l'echevin waucquez, l'echevin jacqmain, huisman van den, van den nest, mesdames et messieurs, huisman van, personnel enseignant, ville de bruxelles, van remoortel...\n",
      "Bxl_1928_Tome_II2_Part_2.txt mentions these keywords: ville de bruxelles, société de l'exposition, mesdames et messieurs, rue courbe...\n",
      "Bxl_1928_Tome_II2_Part_3.txt mentions these keywords: l'echevin waucquez, l'echevin jacqmain, l'echevin coelst, van remoortel, ville de bruxelles...\n",
      "Bxl_1928_Tome_II2_Part_4.txt mentions these keywords: l'echevin lemonnier, mesdames et messieurs, l'echevin jacqmain, l'echevin coelst, l'echevin van...\n",
      "Bxl_1928_Tome_II2_Part_5.txt mentions these keywords: l'echevin waucquez, l'echevin coelst, l'echevin lemonnier, mesdames et messieurs, l'echevin jacqmain, écoles libres, l'echevin wauwermans, ville de bruxelles, van remoortel...\n",
      "Bxl_1928_Tome_II2_Part_6.txt mentions these keywords: l'echevin waucquez, l'echevin coelst, l'echevin pattou, l'echevin jacqmain, ville de bruxelles, rue courbe...\n",
      "Bxl_1929_Tome_II1_Part_1.txt mentions these keywords: l'echevin lemonnier, mesdames et messieurs, ville de bruxelles, commission d'assistance publique, place royale, avis favorable...\n",
      "Bxl_1929_Tome_II1_Part_2.txt mentions these keywords: mesdames et messieurs, bourgmestre jules anspach, société bruxellois bruxelles, subside à l'école, commission d'assistance publique, jules anspach, tramways bruxellois...\n",
      "Bxl_1929_Tome_II2_Part_1.txt mentions these keywords: l'echevin coelst, l'echevin jacqmain, van remoortel, bus de warnaffe, l'echevin waucquez, mesdames et messieurs...\n",
      "Bxl_1929_Tome_II2_Part_2.txt mentions these keywords: commission d'assistance publique, mesdames et messieurs, avis favorable, d'assistance publique, commission d'assistance...\n",
      "Bxl_1929_Tome_II2_Part_3.txt mentions these keywords: l'echevin coelst, l'echevin wauwermans, l'echevin lemonnier, l'echevin waucquez, ville de bruxelles, l'echevin pattou...\n",
      "Bxl_1929_Tome_II2_Part_4.txt mentions these keywords: l'echevin jacqmain, van remoortel, l'echevin lemonnier, l'echevin coelst, bus de warnaffe...\n",
      "Bxl_1929_Tome_II2_Part_5.txt mentions these keywords: van remoortel, commission d'assistance publique, médecins d'état civil, service médical, l'echevin wauwermans...\n",
      "Bxl_1929_Tome_II2_Part_6.txt mentions these keywords: l'echevin jacqmain, l'echevin coelst, l'echevin waucquez, ville de bruxelles, l'echevin lemonnier...\n",
      "Bxl_1929_Tome_II2_Part_7.txt mentions these keywords: service extraordinaire, recettes extraordinaires...\n",
      "Bxl_1929_Tome_I_Part_1.txt mentions these keywords: déduction faite, mesdames et messieurs, francs versée, avis favorable, commission d'assistance publique...\n",
      "Bxl_1929_Tome_I_Part_2.txt mentions these keywords: foire commerciale, mesdames et messieurs, l'echevin jacqmain, foire commerciale bruxelles, foire commerciale officielle, ville de bruxelles, avis favorable...\n",
      "Bxl_1929_Tome_I_Part_3.txt mentions these keywords: commission d'assistance publique, commission d'assistance, d'assistance publique, crédits supplémentaires, mesdames et messieurs, d'un crédit supplémentaire, avis favorable...\n",
      "Bxl_1929_Tome_I_Part_7.txt mentions these keywords: rue courbe, d'une concession, d'une concession temporaire, l'echevin waucquez, concessions temporaires...\n",
      "Bxl_1929_Tome_I_Part_8.txt mentions these keywords: l'echevin coelst, mesdames et messieurs, vote d'un crédit, crédit supplémentaire, l'echevin wauwermans...\n"
     ]
    }
   ],
   "source": [
    "for f in sorted(cluster_6_1):\n",
    "    text = open(f'{data_path}/{f}', encoding='utf-8').read()\n",
    "    keywords = kw_extractor.extract_keywords(text)\n",
    "    kept = []\n",
    "    for score, kw in keywords:\n",
    "        words = kw.split()\n",
    "        if len(words) > 1 and kw not in ignored:\n",
    "            kept.append(kw)\n",
    "    print(f\"{f} mentions these keywords: {', '.join(kept)}...\")"
   ]
  },
  {
   "cell_type": "code",
   "execution_count": null,
   "metadata": {},
   "outputs": [],
   "source": []
  },
  {
   "cell_type": "code",
   "execution_count": 104,
   "metadata": {},
   "outputs": [],
   "source": [
    "cluster_6_2 = ['Bxl_1920_Tome_I2_Part_6.txt',\n",
    "     'Bxl_1920_Tome_I2_Part_7.txt',\n",
    "     'Bxl_1923_Tome_I2_Part_6.txt',\n",
    "     'Bxl_1923_Tome_I2_Part_7.txt',\n",
    "     'Bxl_1925_Tome_II1_1_Part_7.txt',\n",
    "     'Bxl_1925_Tome_II1_2_Part_1.txt',\n",
    "     'Bxl_1925_Tome_II1_2_Part_2.txt',\n",
    "     'Bxl_1926_Tome_I2_Part_10.txt',\n",
    "     'Bxl_1926_Tome_I2_Part_9.txt',\n",
    "     'Bxl_1926_Tome_II1_Part_10.txt',\n",
    "     'Bxl_1926_Tome_II1_Part_9.txt',\n",
    "     'Bxl_1928_Tome_II1_Part_6.txt',\n",
    "     'Bxl_1928_Tome_II1_Part_7.txt',\n",
    "     'Bxl_1929_Tome_II1_Part_6.txt',\n",
    "     'Bxl_1929_Tome_II1_Part_7.txt']"
   ]
  },
  {
   "cell_type": "code",
   "execution_count": 105,
   "metadata": {},
   "outputs": [
    {
     "output_type": "stream",
     "name": "stdout",
     "text": [
      "Bxl_1920_Tome_I2_Part_6.txt mentions these keywords: divisions territoriales, sexe masculin, classe pauvre...\n",
      "Bxl_1920_Tome_I2_Part_7.txt mentions these keywords: voie publique, décès voie publique, service s'est occupé, ans. ans. ans., service s'est, population décès voie...\n",
      "Bxl_1923_Tome_I2_Part_6.txt mentions these keywords: naissances vivantes...\n",
      "Bxl_1923_Tome_I2_Part_7.txt mentions these keywords: voie publique, divisions territoriales, décès voie publique, voie décès publique, bronchite aiguë, district divisions territoriales, méningite aiguë...\n",
      "Bxl_1925_Tome_II1_1_Part_7.txt mentions these keywords: naissances vivantes, naissances vivantes enregistrées, parents habitant bruxelles, maladies contagieuses...\n",
      "Bxl_1925_Tome_II1_2_Part_1.txt mentions these keywords: bronchite sans épithète, bronchite sans, bronchite aiguë, diarrhée et entérite, sans épithète, divisions territoriales...\n",
      "Bxl_1925_Tome_II1_2_Part_2.txt mentions these keywords: voie publique rue, voie publique, décès voie publique, voie rue, rue léopold, rue félix-sterckx, rue claessens, publique rue, rue dieudonné-lefèvre...\n",
      "Bxl_1926_Tome_I2_Part_10.txt mentions these keywords: divisions territoriales, diarrhée et entérite, voie publique, bronchite aiguë, myocardite aiguë, méningite aiguë, entérite cholériforme, méningite cérébro-spinale épidémique...\n",
      "Bxl_1926_Tome_I2_Part_9.txt mentions these keywords: naissances vivantes, enfants légitimes, parents habitant bruxelles...\n",
      "Bxl_1926_Tome_II1_Part_10.txt mentions these keywords: voie publique, diarrhée et entérite, bronchite aiguë, divisions territoriales, myocardite aiguë, méningite aiguë...\n",
      "Bxl_1926_Tome_II1_Part_9.txt mentions these keywords: sexe masc, l'hygiène publique...\n",
      "Bxl_1928_Tome_II1_Part_6.txt mentions these keywords: liste votes nominatifs, nombre de sièges, sièges attribués, liste votes, nombre de votes, votes nominatifs, nombre total, sexe masc...\n",
      "Bxl_1928_Tome_II1_Part_7.txt mentions these keywords: voie publique, diarrhée et entérite, divisions territoriales, district divisions territoriales...\n",
      "Bxl_1929_Tome_II1_Part_6.txt mentions these keywords: nombre des votes, total liste total, sièges acquis immédiatement, votes de liste, total chiffre électoral, nombre de sièges, sièges acquis, liste total chiffre, total chiffre, votes nominatifs, acquis immédiatement, l'ordre de présentation, totaux nombre...\n",
      "Bxl_1929_Tome_II1_Part_7.txt mentions these keywords: mortalité due, conséquences de l'accouchement, tuberculose pulmonaire, causes décès, naissances enregistrées, diarrhée et entérite...\n"
     ]
    }
   ],
   "source": [
    "for f in sorted(cluster_6_2):\n",
    "    text = open(f'{data_path}/{f}', encoding='utf-8').read()\n",
    "    keywords = kw_extractor.extract_keywords(text)\n",
    "    kept = []\n",
    "    for score, kw in keywords:\n",
    "        words = kw.split()\n",
    "        if len(words) > 1 and kw not in ignored:\n",
    "            kept.append(kw)\n",
    "    print(f\"{f} mentions these keywords: {', '.join(kept)}...\")"
   ]
  },
  {
   "cell_type": "code",
   "execution_count": null,
   "metadata": {},
   "outputs": [],
   "source": []
  },
  {
   "cell_type": "code",
   "execution_count": 106,
   "metadata": {},
   "outputs": [],
   "source": [
    "cluster_6_3 = ['Bxl_1921_Tome_I1_Part_6.txt',\n",
    "     'Bxl_1923_Tome_I1_Part_9.txt',\n",
    "     'Bxl_1923_Tome_I2_Part_2.txt',\n",
    "     'Bxl_1924_Tome_I1_Part_5.txt',\n",
    "     'Bxl_1924_Tome_I1_Part_6.txt',\n",
    "     'Bxl_1924_Tome_I1_Part_7.txt',\n",
    "     'Bxl_1926_Tome_I2_Part_3.txt',\n",
    "     'Bxl_1926_Tome_I2_Part_4.txt',\n",
    "     'Bxl_1926_Tome_I2_Part_5.txt',\n",
    "     'Bxl_1926_Tome_II1_Part_3.txt',\n",
    "     'Bxl_1926_Tome_II1_Part_4.txt',\n",
    "     'Bxl_1926_Tome_II1_Part_5.txt',\n",
    "     'Bxl_1927_Tome_I_Part_10.txt',\n",
    "     'Bxl_1927_Tome_I_Part_9.txt',\n",
    "     'Bxl_1929_Tome_I_Part_4.txt',\n",
    "     'Bxl_1929_Tome_I_Part_5.txt',\n",
    "     'Bxl_1929_Tome_I_Part_6.txt']"
   ]
  },
  {
   "cell_type": "code",
   "execution_count": 107,
   "metadata": {},
   "outputs": [
    {
     "output_type": "stream",
     "name": "stdout",
     "text": [
      "Bxl_1921_Tome_I1_Part_6.txt mentions these keywords: frais d'entretien, nature budget budget, montant des dépenses, l'exercice conseil général, dépenses portées, service médical, service administratif, dépenses présumées, conseil général d'administration, service intérieur...\n",
      "Bxl_1923_Tome_I1_Part_9.txt mentions these keywords: écoles primaires...\n",
      "Bxl_1923_Tome_I2_Part_2.txt mentions these keywords: conseil général collège, l'exercice conseil général, l'exercice conseil, général collège, frais service administratif, frais frais, traitement du personnel, service administratif, frais d'entretien, service frais intérieur...\n",
      "Bxl_1924_Tome_I1_Part_5.txt mentions these keywords: conseil des hospices, frais d'entretien, van de meulebroeck...\n",
      "Bxl_1924_Tome_I1_Part_6.txt mentions these keywords: conseil général conseil, l'exercice conseil général, général conseil communal, frais d'entretien, service administratif, service médical, montant des dépenses, traitement du personnel...\n",
      "Bxl_1924_Tome_I1_Part_7.txt mentions these keywords: frais d'entretien, fonds belges...\n",
      "Bxl_1926_Tome_I2_Part_3.txt mentions these keywords: frais d'entretien, service médical, service extraordinaire, dépenses présumées, remboursement de frais, service ordinaire, commission d'assistance, service administratif...\n",
      "Bxl_1926_Tome_I2_Part_4.txt mentions these keywords: obligation compagnie belge, obligation compagnie, anciennement art, chemin de fer, obligations tramways, obligations chemin, compagnie belge chemins, francs le kilogramme...\n",
      "Bxl_1926_Tome_I2_Part_5.txt mentions these keywords: date dépense dépenses, vicinal de bruxelles, dépense dépenses, anciennement art, dépenses dépense date, date dépense, fer vicinal, chemin de fer, capital supplémentaire...\n",
      "Bxl_1926_Tome_II1_Part_3.txt mentions these keywords: frais d'entretien, service médical, remboursement de frais, service extraordinaire, frais de bureau, service ordinaire, commission d'assistance, l'hôpital brugmann...\n",
      "Bxl_1926_Tome_II1_Part_4.txt mentions these keywords: anciennement art, obligation compagnie belge, obligation compagnie, obligations tramways, chemin de fer, obligations chemin, compagnie belge chemins, francs le kilogramme, budget des hospices...\n",
      "Bxl_1926_Tome_II1_Part_5.txt mentions these keywords: anciennement art, vicinal de bruxelles, menus travaux d'entretien, chemin de fer, fer vicinal, entretien menus travaux...\n",
      "Bxl_1927_Tome_I_Part_10.txt mentions these keywords: chemin de fer, francs le kilogramme, frais d'entretien, magasin central, fournitures à faire...\n",
      "Bxl_1927_Tome_I_Part_9.txt mentions these keywords: frais d'entretien, commission d'assistance, frais de bureau, service extraordinaire, service médical, dépenses portées, frais d'entretien d'indigents, remboursement de frais...\n",
      "Bxl_1929_Tome_I_Part_4.txt mentions these keywords: frais d'entretien, dépenses dépenses dépenses, remboursement de frais, malades étrangers, d'entretien de malades, dépenses extraordinaires, service extraordinaire, service ordinaire...\n",
      "Bxl_1929_Tome_I_Part_5.txt mentions these keywords: frais d'entretien, obligations obligations obligations, chemins de fer, dépenses portées faites, remboursement des frais, service intérieur, service médical, service extraordinaire...\n",
      "Bxl_1929_Tome_I_Part_6.txt mentions these keywords: fournitures à faire, francs le kilogramme, magasin central, magasin de vêtements, traitement du personnel...\n"
     ]
    }
   ],
   "source": [
    "for f in sorted(cluster_6_3):\n",
    "    text = open(f'{data_path}/{f}', encoding='utf-8').read()\n",
    "    keywords = kw_extractor.extract_keywords(text)\n",
    "    kept = []\n",
    "    for score, kw in keywords:\n",
    "        words = kw.split()\n",
    "        if len(words) > 1 and kw not in ignored:\n",
    "            kept.append(kw)\n",
    "    print(f\"{f} mentions these keywords: {', '.join(kept)}...\")"
   ]
  },
  {
   "cell_type": "code",
   "execution_count": null,
   "metadata": {},
   "outputs": [],
   "source": []
  },
  {
   "cell_type": "code",
   "execution_count": 108,
   "metadata": {},
   "outputs": [],
   "source": [
    "cluster_6_4 = ['Bxl_1920_Tome_I2_Part_12.txt',\n",
    "     'Bxl_1922_Tome_II1_Part_1.txt',\n",
    "     'Bxl_1922_Tome_II1_Part_2.txt',\n",
    "     'Bxl_1922_Tome_II1_Part_3.txt',\n",
    "     'Bxl_1922_Tome_II1_Part_4.txt',\n",
    "     'Bxl_1923_Tome_II1_Part_1.txt',\n",
    "     'Bxl_1923_Tome_II1_Part_2.txt',\n",
    "     'Bxl_1923_Tome_II1_Part_3.txt',\n",
    "     'Bxl_1925_Tome_II1_2_Part_7.txt',\n",
    "     'Bxl_1926_Tome_I1_Part_9.txt',\n",
    "     'Bxl_1927_Tome_I_Part_12.txt',\n",
    "     'Bxl_1927_Tome_I_Part_13.txt',\n",
    "     'Bxl_1928_Tome_II1_Part_12.txt']"
   ]
  },
  {
   "cell_type": "code",
   "execution_count": 109,
   "metadata": {},
   "outputs": [
    {
     "output_type": "stream",
     "name": "stdout",
     "text": [
      "Bxl_1920_Tome_I2_Part_12.txt mentions these keywords: paiement d'une somme, maison rue...\n",
      "Bxl_1922_Tome_II1_Part_1.txt mentions these keywords: collège des bourgmestre, l'hôtel de ville, bourgmestre et échevins, cahier des charges, ville jusqu'au jour, voies publiques...\n",
      "Bxl_1922_Tome_II1_Part_2.txt mentions these keywords: école école école, rue rue rue, collège des bourgmestre, cahier des charges, école école, l'hôtel de ville, société royale, bourgmestre et echevins...\n",
      "Bxl_1922_Tome_II1_Part_3.txt mentions these keywords: voie publique, collège des bourgmestre, bourgmestre et echevins, l'hôtel de ville, cahier des charges...\n",
      "Bxl_1922_Tome_II1_Part_4.txt mentions these keywords: voie publique, reprise des cours, voitures de place...\n",
      "Bxl_1923_Tome_II1_Part_1.txt mentions these keywords: l'hôtel de ville, collège des bourgmestre, cahier des charges, bourgmestre et echevins, secrétariat de l'hôtel, adolphe max...\n",
      "Bxl_1923_Tome_II1_Part_2.txt mentions these keywords: école école école, école école, bourgmestre et echevins, collège des bourgmestre, l'hôtel de ville, cahier des charges, ville jusqu'au jour, adolphe max...\n",
      "Bxl_1923_Tome_II1_Part_3.txt mentions these keywords: bourgmestre et echevins, collège des bourgmestre...\n",
      "Bxl_1925_Tome_II1_2_Part_7.txt mentions these keywords: l'affaire est terminée, assigner la ville, société anonyme, ville d'une somme, section bruxelles, d'une somme...\n",
      "Bxl_1926_Tome_I1_Part_9.txt mentions these keywords: conseiller communal, société anonyme, démission et mise...\n",
      "Bxl_1927_Tome_I_Part_12.txt mentions these keywords: conseiller communal, avis favorable, l'echevin jacqmain...\n",
      "Bxl_1927_Tome_I_Part_13.txt mentions these keywords: conseiller communal, qualité de conseiller, installation en qualité, prestation de serment, comité scolaire, qualité de membre, membre du comité, serment et installation...\n",
      "Bxl_1928_Tome_II1_Part_12.txt mentions these keywords: l'affaire s'est terminée, voir ecoles, l'affaire s'est, s'est terminée, affaire terminée...\n"
     ]
    }
   ],
   "source": [
    "for f in sorted(cluster_6_4):\n",
    "    text = open(f'{data_path}/{f}', encoding='utf-8').read()\n",
    "    keywords = kw_extractor.extract_keywords(text)\n",
    "    kept = []\n",
    "    for score, kw in keywords:\n",
    "        words = kw.split()\n",
    "        if len(words) > 1 and kw not in ignored:\n",
    "            kept.append(kw)\n",
    "    print(f\"{f} mentions these keywords: {', '.join(kept)}...\")"
   ]
  },
  {
   "cell_type": "code",
   "execution_count": null,
   "metadata": {},
   "outputs": [],
   "source": []
  },
  {
   "cell_type": "code",
   "execution_count": 110,
   "metadata": {},
   "outputs": [],
   "source": [
    "cluster_6_5 = ['Bxl_1920_Tome_I2_Part_10.txt',\n",
    "     'Bxl_1920_Tome_I2_Part_11.txt',\n",
    "     'Bxl_1920_Tome_I2_Part_19.txt',\n",
    "     'Bxl_1920_Tome_I2_Part_3.txt',\n",
    "     'Bxl_1920_Tome_I2_Part_5.txt',\n",
    "     'Bxl_1920_Tome_I2_Part_9.txt',\n",
    "     'Bxl_1921_Tome_I1_Part_9.txt',\n",
    "     'Bxl_1923_Tome_I1_Part_10.txt',\n",
    "     'Bxl_1923_Tome_I2_Part_5.txt',\n",
    "     'Bxl_1925_Tome_II1_1_Part_6.txt',\n",
    "     'Bxl_1925_Tome_II1_2_Part_4.txt',\n",
    "     'Bxl_1925_Tome_II1_2_Part_5.txt',\n",
    "     'Bxl_1925_Tome_II1_2_Part_6.txt',\n",
    "     'Bxl_1926_Tome_I1_Part_8.txt',\n",
    "     'Bxl_1926_Tome_I2_Part_12.txt',\n",
    "     'Bxl_1926_Tome_I2_Part_13.txt',\n",
    "     'Bxl_1926_Tome_I2_Part_14.txt',\n",
    "     'Bxl_1926_Tome_I2_Part_15.txt',\n",
    "     'Bxl_1926_Tome_I2_Part_8.txt',\n",
    "     'Bxl_1926_Tome_II1_Part_12.txt',\n",
    "     'Bxl_1926_Tome_II1_Part_13.txt',\n",
    "     'Bxl_1926_Tome_II1_Part_14.txt',\n",
    "     'Bxl_1926_Tome_II1_Part_15.txt',\n",
    "     'Bxl_1926_Tome_II1_Part_8.txt',\n",
    "     'Bxl_1928_Tome_II1_Part_10.txt',\n",
    "     'Bxl_1928_Tome_II1_Part_11.txt',\n",
    "     'Bxl_1928_Tome_II1_Part_5.txt',\n",
    "     'Bxl_1928_Tome_II1_Part_9.txt',\n",
    "     'Bxl_1929_Tome_II1_Part_5.txt']"
   ]
  },
  {
   "cell_type": "code",
   "execution_count": 111,
   "metadata": {},
   "outputs": [
    {
     "output_type": "stream",
     "name": "stdout",
     "text": [
      "Bxl_1920_Tome_I2_Part_10.txt mentions these keywords: l'année scolaire, l'année scolaire bruxelles, cours professionnels, nombre d'élèves, population moyenne, commission administrative, nombre d'élèves habitant, comité administratif, école professionnelle...\n",
      "Bxl_1920_Tome_I2_Part_11.txt mentions these keywords: comité central industriel, comité central, délégué du comité, chambre syndicale, central industriel, ville de bruxelles, conseiller communal, ministre plénipotentiaire, comité national, envoyé extraordinaire, comité exécutif...\n",
      "Bxl_1920_Tome_I2_Part_19.txt mentions these keywords: titre définitif, nommée institutrice primaire, concession de terrain, comité scolaire, terrain pour sépulture, primaire à titre, institutrice primaire, nommée institutrice, nommé instituteur...\n",
      "Bxl_1920_Tome_I2_Part_3.txt mentions these keywords: foire commerciale, chef de bureau, chef de division, commis de direction, commis d'ordre, sous-chefs de bureau, commis principaux, direction administrative...\n",
      "Bxl_1920_Tome_I2_Part_5.txt mentions these keywords: votes de liste, listes électorales, liste attribués, votes nominatifs...\n",
      "Bxl_1920_Tome_I2_Part_9.txt mentions these keywords: conseiller communal, cours d'éducation, membres délégués, cours cours, écoles population membres, cours cours inférieurs, école moyenne...\n",
      "Bxl_1921_Tome_I1_Part_9.txt mentions these keywords: conseiller communal, nouvel ordre, concession de terrain, écoles primaires, prestation de serment...\n",
      "Bxl_1923_Tome_I1_Part_10.txt mentions these keywords: comité scolaire, conseiller communal...\n",
      "Bxl_1923_Tome_I2_Part_5.txt mentions these keywords: don de l'auteur...\n",
      "Bxl_1925_Tome_II1_1_Part_6.txt mentions these keywords: nombre des votes, nombre nombre montant, listes électorales, nombre total, votes de liste, liquidation nombre nombre, nombre de sièges, nombre nombre...\n",
      "Bxl_1925_Tome_II1_2_Part_4.txt mentions these keywords: jeunes filles, membres délégués rue, conseiller communal, membres délégués, cours d'éducation...\n",
      "Bxl_1925_Tome_II1_2_Part_5.txt mentions these keywords: l'année scolaire, nombre d'élèves habitant, nombre d'élèves, fin de l'année, d'élèves habitant, élèves élèves élèves...\n",
      "Bxl_1925_Tome_II1_2_Part_6.txt mentions these keywords: cours public...\n",
      "Bxl_1926_Tome_I1_Part_8.txt mentions these keywords: démission et mise, veuve veuve veuve, comité scolaire...\n",
      "Bxl_1926_Tome_I2_Part_12.txt mentions these keywords: année année année, jardin d'enfants, jardin d'enfants rue, rue blaes, comité scolaire, écoles primaires, membres délégués...\n",
      "Bxl_1926_Tome_I2_Part_13.txt mentions these keywords: l'année scolaire, cours cours lingerie...\n",
      "Bxl_1926_Tome_I2_Part_14.txt mentions these keywords: l'année scolaire, cours l'année scolaire, nombre d'elèves habitant, fin de l'année, début l'année scolaire, scolaire inscriptions l'année, nombre d'elèves, population présente, inscriptions l'année, cours l'année, ecole professionnelle, d'elèves habitant...\n",
      "Bxl_1926_Tome_I2_Part_15.txt mentions these keywords: commission d'assistance publique, section bruxelles, d'assistance publique, commission d'assistance, voir ecoles...\n",
      "Bxl_1926_Tome_I2_Part_8.txt mentions these keywords: nombre des votes, division nombre, district district, liste total chiffre, votes de liste...\n",
      "Bxl_1926_Tome_II1_Part_12.txt mentions these keywords: jardin d'enfants, année année année, rue van artevelde, rue van, rue claessens, écoles primaires, rue blaes...\n",
      "Bxl_1926_Tome_II1_Part_13.txt mentions these keywords: élèves élèves élèves, élèves élèves, l'année scolaire, total filles total...\n",
      "Bxl_1926_Tome_II1_Part_14.txt mentions these keywords: l'année scolaire, cours l'année scolaire, fin de l'année, nombre d'elèves habitant, début l'année scolaire, population présente, nombre d'elèves, cours de l'année, début de l'année...\n",
      "Bxl_1926_Tome_II1_Part_15.txt mentions these keywords: commission d'assistance publique, commission d'assistance, section bruxelles, d'assistance publique, affaire terminée, voir ecoles...\n",
      "Bxl_1926_Tome_II1_Part_8.txt mentions these keywords: division nombre, permis de conduire, nombre des votes...\n",
      "Bxl_1928_Tome_II1_Part_10.txt mentions these keywords: l'année scolaire, cours l'année scolaire, comité administratif, début l'année scolaire, nombre d'élèves, cours de l'année...\n",
      "Bxl_1928_Tome_II1_Part_11.txt mentions these keywords: l'année scolaire, commission d'assistance publique, cours public, l'année scolaire bruxelles, nombre d'élèves habitant, nombre d'élèves...\n",
      "Bxl_1928_Tome_II1_Part_5.txt mentions these keywords: nombre de sièges, liste attribués, sièges attribués, liste nombre, nombre total, nombre de votes, nombre de suffrages, votes nominatifs, district district total, candidats nombre, liste votes nominatifs...\n",
      "Bxl_1928_Tome_II1_Part_9.txt mentions these keywords: avenue louise, écoles primaires, membres délégués, rue haute, rue blanche, jardin d'enfants...\n",
      "Bxl_1929_Tome_II1_Part_5.txt mentions these keywords: mesdames et messieurs, musée communal, pensions communales, don de l'auteur, crédits supplémentaires, arrêtés du conseil...\n"
     ]
    }
   ],
   "source": [
    "for f in sorted(cluster_6_5):\n",
    "    text = open(f'{data_path}/{f}', encoding='utf-8').read()\n",
    "    keywords = kw_extractor.extract_keywords(text)\n",
    "    kept = []\n",
    "    for score, kw in keywords:\n",
    "        words = kw.split()\n",
    "        if len(words) > 1 and kw not in ignored:\n",
    "            kept.append(kw)\n",
    "    print(f\"{f} mentions these keywords: {', '.join(kept)}...\")"
   ]
  },
  {
   "cell_type": "code",
   "execution_count": null,
   "metadata": {},
   "outputs": [],
   "source": []
  },
  {
   "cell_type": "code",
   "execution_count": null,
   "metadata": {},
   "outputs": [],
   "source": [
    "#10 clusters : résultat "
   ]
  },
  {
   "cell_type": "code",
   "execution_count": 26,
   "metadata": {},
   "outputs": [
    {
     "output_type": "stream",
     "name": "stdout",
     "text": [
      "{0: ['Bxl_1920_Tome_I2_Part_10.txt',\n     'Bxl_1920_Tome_I2_Part_11.txt',\n     'Bxl_1920_Tome_I2_Part_8.txt',\n     'Bxl_1920_Tome_I2_Part_9.txt',\n     'Bxl_1925_Tome_II1_2_Part_3.txt',\n     'Bxl_1925_Tome_II1_2_Part_4.txt',\n     'Bxl_1925_Tome_II1_2_Part_5.txt',\n     'Bxl_1925_Tome_II1_2_Part_6.txt',\n     'Bxl_1926_Tome_I2_Part_12.txt',\n     'Bxl_1926_Tome_I2_Part_13.txt',\n     'Bxl_1926_Tome_I2_Part_14.txt',\n     'Bxl_1926_Tome_II1_Part_12.txt',\n     'Bxl_1926_Tome_II1_Part_13.txt',\n     'Bxl_1926_Tome_II1_Part_14.txt',\n     'Bxl_1928_Tome_II1_Part_10.txt',\n     'Bxl_1928_Tome_II1_Part_11.txt',\n     'Bxl_1928_Tome_II1_Part_9.txt'],\n 1: ['Bxl_1921_Tome_I1_Part_8.txt',\n     'Bxl_1923_Tome_I1_Part_1.txt',\n     'Bxl_1923_Tome_I1_Part_2.txt',\n     'Bxl_1923_Tome_I1_Part_3.txt',\n     'Bxl_1923_Tome_I1_Part_4.txt',\n     'Bxl_1923_Tome_I1_Part_5.txt',\n     'Bxl_1923_Tome_I1_Part_6.txt',\n     'Bxl_1923_Tome_I1_Part_8.txt',\n     'Bxl_1923_Tome_I2_Part_1.txt',\n     'Bxl_1923_Tome_I2_Part_4.txt',\n     'Bxl_1924_Tome_I1_Part_1.txt',\n     'Bxl_1924_Tome_I1_Part_2.txt',\n     'Bxl_1924_Tome_I1_Part_3.txt',\n     'Bxl_1924_Tome_I1_Part_4.txt',\n     'Bxl_1925_Tome_II1_1_Part_1.txt',\n     'Bxl_1925_Tome_II1_1_Part_5.txt',\n     'Bxl_1926_Tome_I1_Part_1.txt',\n     'Bxl_1926_Tome_I1_Part_2.txt',\n     'Bxl_1926_Tome_I1_Part_3.txt',\n     'Bxl_1926_Tome_I1_Part_4.txt',\n     'Bxl_1926_Tome_I1_Part_5.txt',\n     'Bxl_1926_Tome_I1_Part_6.txt',\n     'Bxl_1926_Tome_I2_Part_1.txt',\n     'Bxl_1926_Tome_I2_Part_2.txt',\n     'Bxl_1926_Tome_I2_Part_7.txt',\n     'Bxl_1926_Tome_II1_Part_1.txt',\n     'Bxl_1926_Tome_II1_Part_7.txt',\n     'Bxl_1927_Tome_I_Part_6.txt'],\n 2: ['Bxl_1920_Tome_I2_Part_5.txt',\n     'Bxl_1923_Tome_I2_Part_5.txt',\n     'Bxl_1925_Tome_II1_1_Part_6.txt',\n     'Bxl_1926_Tome_I2_Part_8.txt',\n     'Bxl_1926_Tome_II1_Part_8.txt',\n     'Bxl_1928_Tome_II1_Part_5.txt',\n     'Bxl_1928_Tome_II2_Part_10.txt',\n     'Bxl_1928_Tome_II2_Part_11.txt',\n     'Bxl_1928_Tome_II2_Part_12.txt',\n     'Bxl_1929_Tome_II1_Part_5.txt',\n     'Bxl_1929_Tome_II1_Part_6.txt'],\n 3: ['Bxl_1921_Tome_I1_Part_6.txt',\n     'Bxl_1923_Tome_I1_Part_9.txt',\n     'Bxl_1923_Tome_I2_Part_2.txt',\n     'Bxl_1924_Tome_I1_Part_5.txt',\n     'Bxl_1924_Tome_I1_Part_6.txt',\n     'Bxl_1924_Tome_I1_Part_7.txt',\n     'Bxl_1926_Tome_I1_Part_9.txt',\n     'Bxl_1926_Tome_I2_Part_3.txt',\n     'Bxl_1926_Tome_II1_Part_3.txt',\n     'Bxl_1927_Tome_I_Part_12.txt',\n     'Bxl_1927_Tome_I_Part_13.txt',\n     'Bxl_1927_Tome_I_Part_9.txt',\n     'Bxl_1928_Tome_II1_Part_12.txt',\n     'Bxl_1929_Tome_I_Part_4.txt'],\n 4: ['Bxl_1923_Tome_I2_Part_9.txt',\n     'Bxl_1926_Tome_I1_Part_7.txt',\n     'Bxl_1926_Tome_II1_Part_2.txt',\n     'Bxl_1927_Tome_I_Part_1.txt',\n     'Bxl_1927_Tome_I_Part_2.txt',\n     'Bxl_1927_Tome_I_Part_3.txt',\n     'Bxl_1927_Tome_I_Part_4.txt',\n     'Bxl_1927_Tome_I_Part_5.txt',\n     'Bxl_1927_Tome_I_Part_7.txt',\n     'Bxl_1927_Tome_I_Part_8.txt',\n     'Bxl_1928_Tome_II1_Part_1.txt',\n     'Bxl_1928_Tome_II1_Part_3.txt',\n     'Bxl_1928_Tome_II1_Part_4.txt',\n     'Bxl_1928_Tome_II2_Part_1.txt',\n     'Bxl_1928_Tome_II2_Part_2.txt',\n     'Bxl_1928_Tome_II2_Part_3.txt',\n     'Bxl_1928_Tome_II2_Part_4.txt',\n     'Bxl_1928_Tome_II2_Part_5.txt',\n     'Bxl_1928_Tome_II2_Part_6.txt',\n     'Bxl_1929_Tome_II1_Part_1.txt',\n     'Bxl_1929_Tome_II1_Part_2.txt',\n     'Bxl_1929_Tome_II2_Part_1.txt',\n     'Bxl_1929_Tome_II2_Part_2.txt',\n     'Bxl_1929_Tome_II2_Part_3.txt',\n     'Bxl_1929_Tome_II2_Part_4.txt',\n     'Bxl_1929_Tome_II2_Part_5.txt',\n     'Bxl_1929_Tome_II2_Part_6.txt',\n     'Bxl_1929_Tome_II2_Part_7.txt',\n     'Bxl_1929_Tome_I_Part_1.txt',\n     'Bxl_1929_Tome_I_Part_2.txt',\n     'Bxl_1929_Tome_I_Part_3.txt',\n     'Bxl_1929_Tome_I_Part_7.txt',\n     'Bxl_1929_Tome_I_Part_8.txt',\n     'Bxl_1929_Tome_I_Part_9.txt'],\n 5: ['Bxl_1920_Tome_I2_Part_1.txt',\n     'Bxl_1920_Tome_I2_Part_12.txt',\n     'Bxl_1920_Tome_I2_Part_13.txt',\n     'Bxl_1920_Tome_I2_Part_14.txt',\n     'Bxl_1920_Tome_I2_Part_18.txt',\n     'Bxl_1920_Tome_I2_Part_19.txt',\n     'Bxl_1920_Tome_I2_Part_3.txt',\n     'Bxl_1920_Tome_I2_Part_4.txt',\n     'Bxl_1921_Tome_I1_Part_1.txt',\n     'Bxl_1921_Tome_I1_Part_2.txt',\n     'Bxl_1921_Tome_I1_Part_3.txt',\n     'Bxl_1921_Tome_I1_Part_4.txt',\n     'Bxl_1921_Tome_I1_Part_5.txt',\n     'Bxl_1921_Tome_I1_Part_7.txt',\n     'Bxl_1921_Tome_I1_Part_9.txt',\n     'Bxl_1922_Tome_II1_Part_4.txt',\n     'Bxl_1923_Tome_I1_Part_10.txt',\n     'Bxl_1923_Tome_I1_Part_7.txt',\n     'Bxl_1925_Tome_II1_1_Part_2.txt',\n     'Bxl_1925_Tome_II1_2_Part_7.txt',\n     'Bxl_1925_Tome_II1_2_Part_8.txt',\n     'Bxl_1926_Tome_I1_Part_8.txt',\n     'Bxl_1926_Tome_I2_Part_15.txt',\n     'Bxl_1926_Tome_II1_Part_15.txt',\n     'Bxl_1929_Tome_I_Part_10.txt'],\n 6: ['Bxl_1920_Tome_I2_Part_6.txt',\n     'Bxl_1923_Tome_I2_Part_6.txt',\n     'Bxl_1925_Tome_II1_1_Part_7.txt',\n     'Bxl_1926_Tome_I2_Part_9.txt',\n     'Bxl_1926_Tome_II1_Part_9.txt',\n     'Bxl_1928_Tome_II1_Part_6.txt',\n     'Bxl_1929_Tome_II1_Part_7.txt'],\n 7: ['Bxl_1920_Tome_I2_Part_7.txt',\n     'Bxl_1922_Tome_II1_Part_1.txt',\n     'Bxl_1922_Tome_II1_Part_2.txt',\n     'Bxl_1922_Tome_II1_Part_3.txt',\n     'Bxl_1923_Tome_I2_Part_7.txt',\n     'Bxl_1923_Tome_I2_Part_8.txt',\n     'Bxl_1923_Tome_II1_Part_1.txt',\n     'Bxl_1923_Tome_II1_Part_2.txt',\n     'Bxl_1923_Tome_II1_Part_3.txt',\n     'Bxl_1925_Tome_II1_2_Part_1.txt',\n     'Bxl_1925_Tome_II1_2_Part_2.txt',\n     'Bxl_1926_Tome_I2_Part_10.txt',\n     'Bxl_1926_Tome_I2_Part_11.txt',\n     'Bxl_1926_Tome_II1_Part_10.txt',\n     'Bxl_1926_Tome_II1_Part_11.txt',\n     'Bxl_1928_Tome_II1_Part_7.txt',\n     'Bxl_1928_Tome_II1_Part_8.txt'],\n 8: ['Bxl_1926_Tome_I2_Part_4.txt',\n     'Bxl_1926_Tome_I2_Part_5.txt',\n     'Bxl_1926_Tome_II1_Part_4.txt',\n     'Bxl_1926_Tome_II1_Part_5.txt',\n     'Bxl_1927_Tome_I_Part_10.txt',\n     'Bxl_1927_Tome_I_Part_11.txt',\n     'Bxl_1929_Tome_I_Part_5.txt',\n     'Bxl_1929_Tome_I_Part_6.txt'],\n 9: ['Bxl_1920_Tome_I2_Part_15.txt',\n     'Bxl_1920_Tome_I2_Part_16.txt',\n     'Bxl_1920_Tome_I2_Part_17.txt',\n     'Bxl_1920_Tome_I2_Part_2.txt',\n     'Bxl_1923_Tome_I2_Part_3.txt',\n     'Bxl_1925_Tome_II1_1_Part_3.txt',\n     'Bxl_1925_Tome_II1_1_Part_4.txt',\n     'Bxl_1926_Tome_I2_Part_16.txt',\n     'Bxl_1926_Tome_I2_Part_6.txt',\n     'Bxl_1926_Tome_II1_Part_16.txt',\n     'Bxl_1926_Tome_II1_Part_6.txt',\n     'Bxl_1928_Tome_II1_Part_2.txt',\n     'Bxl_1928_Tome_II2_Part_7.txt',\n     'Bxl_1928_Tome_II2_Part_8.txt',\n     'Bxl_1928_Tome_II2_Part_9.txt',\n     'Bxl_1929_Tome_II1_Part_3.txt',\n     'Bxl_1929_Tome_II1_Part_4.txt']}\n"
     ]
    }
   ],
   "source": [
    "pprint(dict(clustering))"
   ]
  },
  {
   "cell_type": "code",
   "execution_count": 69,
   "metadata": {},
   "outputs": [],
   "source": []
  },
  {
   "cell_type": "code",
   "execution_count": null,
   "metadata": {},
   "outputs": [],
   "source": []
  },
  {
   "cell_type": "code",
   "execution_count": 23,
   "metadata": {},
   "outputs": [],
   "source": [
    "import os\n",
    "import yake\n",
    "\n",
    "ignored = set([\"conseil communal\", \"conseil général\"])\n",
    "kw_extractor = yake.KeywordExtractor(lan=\"fr\", top=20)\n",
    "\n",
    "data_path = \"../data/txt/\"\n",
    "files = os.listdir(data_path)"
   ]
  },
  {
   "cell_type": "code",
   "execution_count": 32,
   "metadata": {},
   "outputs": [],
   "source": [
    "cluster_0 = ['Bxl_1920_Tome_I2_Part_10.txt',\n",
    "     'Bxl_1920_Tome_I2_Part_11.txt',\n",
    "     'Bxl_1920_Tome_I2_Part_9.txt',\n",
    "     'Bxl_1925_Tome_II1_2_Part_3.txt',\n",
    "     'Bxl_1925_Tome_II1_2_Part_4.txt',\n",
    "     'Bxl_1925_Tome_II1_2_Part_5.txt',\n",
    "     'Bxl_1925_Tome_II1_2_Part_6.txt',\n",
    "     'Bxl_1926_Tome_I2_Part_12.txt',\n",
    "     'Bxl_1926_Tome_I2_Part_13.txt',\n",
    "     'Bxl_1926_Tome_I2_Part_14.txt',\n",
    "     'Bxl_1926_Tome_II1_Part_12.txt',\n",
    "     'Bxl_1926_Tome_II1_Part_13.txt',\n",
    "     'Bxl_1926_Tome_II1_Part_14.txt',\n",
    "     'Bxl_1928_Tome_II1_Part_10.txt',\n",
    "     'Bxl_1928_Tome_II1_Part_9.txt']"
   ]
  },
  {
   "cell_type": "code",
   "execution_count": 33,
   "metadata": {},
   "outputs": [
    {
     "output_type": "stream",
     "name": "stdout",
     "text": [
      "Bxl_1920_Tome_I2_Part_10.txt mentions these keywords: l'année scolaire, l'année scolaire bruxelles, cours professionnels, nombre d'élèves, population moyenne, commission administrative, nombre d'élèves habitant, comité administratif, école professionnelle...\n",
      "Bxl_1920_Tome_I2_Part_11.txt mentions these keywords: comité central industriel, comité central, délégué du comité, chambre syndicale, central industriel, ville de bruxelles, conseiller communal, ministre plénipotentiaire, comité national, envoyé extraordinaire, comité exécutif...\n",
      "Bxl_1920_Tome_I2_Part_9.txt mentions these keywords: conseiller communal, cours d'éducation, membres délégués, cours cours, écoles population membres, cours cours inférieurs, école moyenne...\n",
      "Bxl_1925_Tome_II1_2_Part_3.txt mentions these keywords: école école école, jardin d'enfants, l'année scolaire, ecole communale, avenue louise, écoles primaires communales, écoles primaires...\n",
      "Bxl_1925_Tome_II1_2_Part_4.txt mentions these keywords: jeunes filles, membres délégués rue, conseiller communal, membres délégués, cours d'éducation...\n",
      "Bxl_1925_Tome_II1_2_Part_5.txt mentions these keywords: l'année scolaire, nombre d'élèves habitant, nombre d'élèves, fin de l'année, d'élèves habitant, élèves élèves élèves...\n",
      "Bxl_1925_Tome_II1_2_Part_6.txt mentions these keywords: cours public...\n",
      "Bxl_1926_Tome_I2_Part_12.txt mentions these keywords: année année année, jardin d'enfants, jardin d'enfants rue, rue blaes, comité scolaire, écoles primaires, membres délégués...\n",
      "Bxl_1926_Tome_I2_Part_13.txt mentions these keywords: l'année scolaire, cours cours lingerie...\n",
      "Bxl_1926_Tome_I2_Part_14.txt mentions these keywords: l'année scolaire, cours l'année scolaire, nombre d'elèves habitant, fin de l'année, début l'année scolaire, scolaire inscriptions l'année, nombre d'elèves, population présente, inscriptions l'année, cours l'année, ecole professionnelle, d'elèves habitant...\n",
      "Bxl_1926_Tome_II1_Part_12.txt mentions these keywords: jardin d'enfants, année année année, rue van artevelde, rue van, rue claessens, écoles primaires, rue blaes...\n",
      "Bxl_1926_Tome_II1_Part_13.txt mentions these keywords: élèves élèves élèves, élèves élèves, l'année scolaire, total filles total...\n",
      "Bxl_1926_Tome_II1_Part_14.txt mentions these keywords: l'année scolaire, cours l'année scolaire, fin de l'année, nombre d'elèves habitant, début l'année scolaire, population présente, nombre d'elèves, cours de l'année, début de l'année...\n",
      "Bxl_1928_Tome_II1_Part_10.txt mentions these keywords: l'année scolaire, cours l'année scolaire, comité administratif, début l'année scolaire, nombre d'élèves, cours de l'année...\n",
      "Bxl_1928_Tome_II1_Part_9.txt mentions these keywords: avenue louise, écoles primaires, membres délégués, rue haute, rue blanche, jardin d'enfants...\n"
     ]
    }
   ],
   "source": [
    "for f in sorted(cluster_0):\n",
    "    text = open(f'{data_path}/{f}', encoding='utf-8').read()\n",
    "    keywords = kw_extractor.extract_keywords(text)\n",
    "    kept = []\n",
    "    for score, kw in keywords:\n",
    "        words = kw.split()\n",
    "        if len(words) > 1 and kw not in ignored:\n",
    "            kept.append(kw)\n",
    "    print(f\"{f} mentions these keywords: {', '.join(kept)}...\")"
   ]
  },
  {
   "cell_type": "code",
   "execution_count": null,
   "metadata": {},
   "outputs": [],
   "source": []
  },
  {
   "cell_type": "code",
   "execution_count": 34,
   "metadata": {},
   "outputs": [],
   "source": [
    "cluster_1 = ['Bxl_1921_Tome_I1_Part_8.txt',\n",
    "     'Bxl_1923_Tome_I1_Part_1.txt',\n",
    "     'Bxl_1923_Tome_I1_Part_2.txt',\n",
    "     'Bxl_1923_Tome_I1_Part_3.txt',\n",
    "     'Bxl_1923_Tome_I1_Part_4.txt',\n",
    "     'Bxl_1923_Tome_I1_Part_5.txt',\n",
    "     'Bxl_1923_Tome_I1_Part_6.txt',\n",
    "     'Bxl_1923_Tome_I1_Part_8.txt',\n",
    "     'Bxl_1923_Tome_I2_Part_1.txt',\n",
    "     'Bxl_1923_Tome_I2_Part_4.txt',\n",
    "     'Bxl_1924_Tome_I1_Part_1.txt',\n",
    "     'Bxl_1924_Tome_I1_Part_2.txt',\n",
    "     'Bxl_1924_Tome_I1_Part_3.txt',\n",
    "     'Bxl_1924_Tome_I1_Part_4.txt',\n",
    "     'Bxl_1925_Tome_II1_1_Part_1.txt',\n",
    "     'Bxl_1925_Tome_II1_1_Part_5.txt',\n",
    "     'Bxl_1926_Tome_I1_Part_1.txt',\n",
    "     'Bxl_1926_Tome_I1_Part_2.txt',\n",
    "     'Bxl_1926_Tome_I1_Part_3.txt',\n",
    "     'Bxl_1926_Tome_I1_Part_4.txt',\n",
    "     'Bxl_1926_Tome_I1_Part_5.txt',\n",
    "     'Bxl_1926_Tome_I1_Part_6.txt',\n",
    "     'Bxl_1926_Tome_I2_Part_1.txt',\n",
    "     'Bxl_1926_Tome_I2_Part_2.txt',\n",
    "     'Bxl_1926_Tome_I2_Part_7.txt',\n",
    "     'Bxl_1926_Tome_II1_Part_1.txt',\n",
    "     'Bxl_1926_Tome_II1_Part_7.txt',\n",
    "     'Bxl_1927_Tome_I_Part_6.txt']"
   ]
  },
  {
   "cell_type": "code",
   "execution_count": 35,
   "metadata": {},
   "outputs": [
    {
     "output_type": "stream",
     "name": "stdout",
     "text": [
      "Bxl_1921_Tome_I1_Part_8.txt mentions these keywords: verhaeghe de naeyer, conseil général d'administration, ville de bruxelles, van den nest...\n",
      "Bxl_1923_Tome_I1_Part_1.txt mentions these keywords: mesdames et messieurs, crédit supplémentaire, ville de bruxelles, avis favorable, collège a l'honneur...\n",
      "Bxl_1923_Tome_I1_Part_2.txt mentions these keywords: crédit supplémentaire, avis favorable, mesdames et messieurs, écoles moyennes...\n",
      "Bxl_1923_Tome_I1_Part_3.txt mentions these keywords: mesdames et messieurs, personnel occupé, personnel enseignant...\n",
      "Bxl_1923_Tome_I1_Part_4.txt mentions these keywords: conseil d'appel, conseil de prud'hommes...\n",
      "Bxl_1923_Tome_I1_Part_5.txt mentions these keywords: conseil d'appel, ville de bruxelles, mesdames et messieurs, hospice hospice refuge, conseil de prud'hommes, conseil général d'administration, crédit supplémentaire...\n",
      "Bxl_1923_Tome_I1_Part_6.txt mentions these keywords: mesdames et messieurs, crédit supplémentaire, conseil des hospices, avis favorable, vote d'un crédit...\n",
      "Bxl_1923_Tome_I1_Part_8.txt mentions these keywords: maison rue, mesdames et messieurs, juin juin...\n",
      "Bxl_1923_Tome_I2_Part_1.txt mentions these keywords: mesdames et messieurs, l'exercice conseil général, conseil général collège, nature budget budget...\n",
      "Bxl_1923_Tome_I2_Part_4.txt mentions these keywords: recettes extraordinaires, avis favorable, service extraordinaire, service ordinaire...\n",
      "Bxl_1924_Tome_I1_Part_1.txt mentions these keywords: conseil général d'administration, avis favorable, mesdames et messieurs, van remoortel, collège a l'honneur...\n",
      "Bxl_1924_Tome_I1_Part_2.txt mentions these keywords: mesdames et messieurs, avis favorable, conseil des hospices, van remoortel, conseil général d'administration...\n",
      "Bxl_1924_Tome_I1_Part_3.txt mentions these keywords: van remoortel, van den nest, avis favorable...\n",
      "Bxl_1924_Tome_I1_Part_4.txt mentions these keywords: agents de change, l'echevin wauwermans, verhaeghe-de naeyer, bourse de bruxelles...\n",
      "Bxl_1925_Tome_II1_1_Part_1.txt mentions these keywords: mesdames et messieurs, l'echevin wauwermans...\n",
      "Bxl_1925_Tome_II1_1_Part_5.txt mentions these keywords: mesdames et messieurs, l'echevin lemonnier, ville de bruxelles, van remoortel...\n",
      "Bxl_1926_Tome_I1_Part_1.txt mentions these keywords: arts et métiers, l'echevin jacqmain, mesdames et messieurs, l'echevin lemonnier...\n",
      "Bxl_1926_Tome_I1_Part_2.txt mentions these keywords: l'echevin jacqmain, mesdames et messieurs, l'echevin lemonnier...\n",
      "Bxl_1926_Tome_I1_Part_3.txt mentions these keywords: van remoortel, l'echevin jacqmain, père de famille...\n",
      "Bxl_1926_Tome_I1_Part_4.txt mentions these keywords: commission d'assistance publique, commission d'assistance, d'assistance publique, mesdames et messieurs, crédit supplémentaire, avis favorable...\n",
      "Bxl_1926_Tome_I1_Part_5.txt mentions these keywords: commission d'assistance publique, d'assistance publique, collège a l'honneur, question d'une exposition, commission d'assistance, d'une exposition...\n",
      "Bxl_1926_Tome_I1_Part_6.txt mentions these keywords: commission d'assistance publique, commission d'assistance, d'assistance publique, collège a l'honneur...\n",
      "Bxl_1926_Tome_I2_Part_1.txt mentions these keywords: pensions communales, commission d'assistance publique, crédits supplémentaires...\n",
      "Bxl_1926_Tome_I2_Part_2.txt mentions these keywords: place colignon rue, section sections sections...\n",
      "Bxl_1926_Tome_I2_Part_7.txt mentions these keywords: collège a l'honneur, mesdames et messieurs, crédit supplémentaire...\n",
      "Bxl_1926_Tome_II1_Part_1.txt mentions these keywords: commission d'assistance publique, commission d'assistance, pensions communales, mesdames et messieurs, partie mobile, avis favorable...\n",
      "Bxl_1926_Tome_II1_Part_7.txt mentions these keywords: mesdames et messieurs, commission d'assistance publique, d'assistance publique, collège a l'honneur, commission d'assistance, avis favorable, avons l'honneur...\n",
      "Bxl_1927_Tome_I_Part_6.txt mentions these keywords: francs francs francs, francs francs, mesdames et messieurs, refuge des ursulines, commission d'assistance publique, hospice hospice refuge...\n"
     ]
    }
   ],
   "source": [
    "for f in sorted(cluster_1):\n",
    "    text = open(f'{data_path}/{f}', encoding='utf-8').read()\n",
    "    keywords = kw_extractor.extract_keywords(text)\n",
    "    kept = []\n",
    "    for score, kw in keywords:\n",
    "        words = kw.split()\n",
    "        if len(words) > 1 and kw not in ignored:\n",
    "            kept.append(kw)\n",
    "    print(f\"{f} mentions these keywords: {', '.join(kept)}...\")"
   ]
  },
  {
   "cell_type": "code",
   "execution_count": null,
   "metadata": {},
   "outputs": [],
   "source": []
  },
  {
   "cell_type": "code",
   "execution_count": 40,
   "metadata": {},
   "outputs": [],
   "source": [
    "cluster_2 = ['Bxl_1920_Tome_I2_Part_5.txt',\n",
    "     'Bxl_1923_Tome_I2_Part_5.txt',\n",
    "     'Bxl_1925_Tome_II1_1_Part_6.txt',\n",
    "     'Bxl_1926_Tome_I2_Part_8.txt',\n",
    "     'Bxl_1926_Tome_II1_Part_8.txt',\n",
    "     'Bxl_1928_Tome_II1_Part_5.txt',\n",
    "     'Bxl_1928_Tome_II2_Part_10.txt',\n",
    "     'Bxl_1928_Tome_II2_Part_11.txt',\n",
    "     'Bxl_1928_Tome_II2_Part_12.txt',\n",
    "     'Bxl_1929_Tome_II1_Part_5.txt',\n",
    "     'Bxl_1929_Tome_II1_Part_6.txt']"
   ]
  },
  {
   "cell_type": "code",
   "execution_count": 37,
   "metadata": {},
   "outputs": [
    {
     "output_type": "stream",
     "name": "stdout",
     "text": [
      "Bxl_1920_Tome_I2_Part_5.txt mentions these keywords: votes de liste, listes électorales, liste attribués, votes nominatifs...\n",
      "Bxl_1923_Tome_I2_Part_5.txt mentions these keywords: don de l'auteur...\n",
      "Bxl_1925_Tome_II1_1_Part_6.txt mentions these keywords: nombre des votes, nombre nombre montant, listes électorales, nombre total, votes de liste, liquidation nombre nombre, nombre de sièges, nombre nombre...\n",
      "Bxl_1926_Tome_I2_Part_8.txt mentions these keywords: nombre des votes, division nombre, district district, liste total chiffre, votes de liste...\n",
      "Bxl_1926_Tome_II1_Part_8.txt mentions these keywords: division nombre, permis de conduire, nombre des votes...\n",
      "Bxl_1928_Tome_II1_Part_5.txt mentions these keywords: nombre de sièges, liste attribués, sièges attribués, liste nombre, nombre total, nombre de votes, nombre de suffrages, votes nominatifs, district district total, candidats nombre, liste votes nominatifs...\n",
      "Bxl_1928_Tome_II2_Part_10.txt mentions these keywords: maison rue, maison rue van, rue van artevelde, rue van, rue antoine dansaert, maison rue royale, maison rue haute, rue haute, indication observations affectation...\n",
      "Bxl_1928_Tome_II2_Part_11.txt mentions these keywords: avis favorable, conseiller communal, comité scolaire, traitements du personnel...\n",
      "Bxl_1928_Tome_II2_Part_12.txt mentions these keywords: conseiller communal, société coopérative, comité scolaire, arrêté définitif...\n",
      "Bxl_1929_Tome_II1_Part_5.txt mentions these keywords: mesdames et messieurs, musée communal, pensions communales, don de l'auteur, crédits supplémentaires, arrêtés du conseil...\n",
      "Bxl_1929_Tome_II1_Part_6.txt mentions these keywords: nombre des votes, total liste total, sièges acquis immédiatement, votes de liste, total chiffre électoral, nombre de sièges, sièges acquis, liste total chiffre, total chiffre, votes nominatifs, acquis immédiatement, l'ordre de présentation, totaux nombre...\n"
     ]
    }
   ],
   "source": [
    "for f in sorted(cluster_2):\n",
    "    text = open(f'{data_path}/{f}', encoding='utf-8').read()\n",
    "    keywords = kw_extractor.extract_keywords(text)\n",
    "    kept = []\n",
    "    for score, kw in keywords:\n",
    "        words = kw.split()\n",
    "        if len(words) > 1 and kw not in ignored:\n",
    "            kept.append(kw)\n",
    "    print(f\"{f} mentions these keywords: {', '.join(kept)}...\")"
   ]
  },
  {
   "cell_type": "code",
   "execution_count": null,
   "metadata": {},
   "outputs": [],
   "source": []
  },
  {
   "cell_type": "code",
   "execution_count": 24,
   "metadata": {},
   "outputs": [],
   "source": [
    "cluster_3 = ['Bxl_1921_Tome_I1_Part_6.txt',\n",
    "     'Bxl_1923_Tome_I1_Part_9.txt',\n",
    "     'Bxl_1923_Tome_I2_Part_2.txt',\n",
    "     'Bxl_1924_Tome_I1_Part_5.txt',\n",
    "     'Bxl_1924_Tome_I1_Part_6.txt',\n",
    "     'Bxl_1924_Tome_I1_Part_7.txt',\n",
    "     'Bxl_1926_Tome_I1_Part_9.txt',\n",
    "     'Bxl_1926_Tome_I2_Part_3.txt',\n",
    "     'Bxl_1926_Tome_II1_Part_3.txt',\n",
    "     'Bxl_1927_Tome_I_Part_12.txt',\n",
    "     'Bxl_1927_Tome_I_Part_13.txt',\n",
    "     'Bxl_1927_Tome_I_Part_9.txt',\n",
    "     'Bxl_1928_Tome_II1_Part_12.txt',\n",
    "     'Bxl_1929_Tome_I_Part_4.txt']"
   ]
  },
  {
   "cell_type": "code",
   "execution_count": 25,
   "metadata": {},
   "outputs": [
    {
     "output_type": "stream",
     "name": "stdout",
     "text": [
      "Bxl_1921_Tome_I1_Part_6.txt mentions these keywords: frais d'entretien, nature budget budget, montant des dépenses, l'exercice conseil général, dépenses portées, service médical, service administratif, dépenses présumées, conseil général d'administration, service intérieur...\n",
      "Bxl_1923_Tome_I1_Part_9.txt mentions these keywords: écoles primaires...\n",
      "Bxl_1923_Tome_I2_Part_2.txt mentions these keywords: conseil général collège, l'exercice conseil général, l'exercice conseil, général collège, frais service administratif, frais frais, traitement du personnel, service administratif, frais d'entretien, service frais intérieur...\n",
      "Bxl_1924_Tome_I1_Part_5.txt mentions these keywords: conseil des hospices, frais d'entretien, van de meulebroeck...\n",
      "Bxl_1924_Tome_I1_Part_6.txt mentions these keywords: conseil général conseil, l'exercice conseil général, général conseil communal, frais d'entretien, service administratif, service médical, montant des dépenses, traitement du personnel...\n",
      "Bxl_1924_Tome_I1_Part_7.txt mentions these keywords: frais d'entretien, fonds belges...\n",
      "Bxl_1926_Tome_I1_Part_9.txt mentions these keywords: conseiller communal, société anonyme, démission et mise...\n",
      "Bxl_1926_Tome_I2_Part_3.txt mentions these keywords: frais d'entretien, service médical, service extraordinaire, dépenses présumées, remboursement de frais, service ordinaire, commission d'assistance, service administratif...\n",
      "Bxl_1926_Tome_II1_Part_3.txt mentions these keywords: frais d'entretien, service médical, remboursement de frais, service extraordinaire, frais de bureau, service ordinaire, commission d'assistance, l'hôpital brugmann...\n",
      "Bxl_1927_Tome_I_Part_12.txt mentions these keywords: conseiller communal, avis favorable, l'echevin jacqmain...\n",
      "Bxl_1927_Tome_I_Part_13.txt mentions these keywords: conseiller communal, qualité de conseiller, installation en qualité, prestation de serment, comité scolaire, qualité de membre, membre du comité, serment et installation...\n",
      "Bxl_1927_Tome_I_Part_9.txt mentions these keywords: frais d'entretien, commission d'assistance, frais de bureau, service extraordinaire, service médical, dépenses portées, frais d'entretien d'indigents, remboursement de frais...\n",
      "Bxl_1928_Tome_II1_Part_12.txt mentions these keywords: l'affaire s'est terminée, voir ecoles, l'affaire s'est, s'est terminée, affaire terminée...\n",
      "Bxl_1929_Tome_I_Part_4.txt mentions these keywords: frais d'entretien, dépenses dépenses dépenses, remboursement de frais, malades étrangers, d'entretien de malades, dépenses extraordinaires, service extraordinaire, service ordinaire...\n"
     ]
    }
   ],
   "source": [
    "for f in sorted(cluster_3):\n",
    "    text = open(f'{data_path}/{f}', encoding='utf-8').read()\n",
    "    keywords = kw_extractor.extract_keywords(text)\n",
    "    kept = []\n",
    "    for score, kw in keywords:\n",
    "        words = kw.split()\n",
    "        if len(words) > 1 and kw not in ignored:\n",
    "            kept.append(kw)\n",
    "    print(f\"{f} mentions these keywords: {', '.join(kept)}...\")"
   ]
  },
  {
   "cell_type": "code",
   "execution_count": 26,
   "metadata": {},
   "outputs": [
    {
     "output_type": "stream",
     "name": "stdout",
     "text": [
      "Bxl_1921_Tome_I1_Part_6.txt mentions these keywords: frais, service, dépenses, conseil, frais d'entretien, nature budget budget, francs, section, budget, montant des dépenses, l'exercice conseil général, dépenses portées, service médical, service administratif, dépenses présumées, conseil général d'administration, service intérieur, traitement...\n",
      "Bxl_1923_Tome_I1_Part_9.txt mentions these keywords: rue, intérêts, frais, personnel, recettes, dépenses, veuve, école, art, conseil, ville, voitures, remboursement, place, collège, section, compte, legs, écoles primaires...\n",
      "Bxl_1923_Tome_I2_Part_2.txt mentions these keywords: conseil général collège, l'exercice conseil général, frais, service, budget, conseil, l'exercice conseil, dépenses, général collège, collège, rue, frais service administratif, frais frais, traitement du personnel, service administratif, frais d'entretien, traitement, service frais intérieur, juillet...\n",
      "Bxl_1924_Tome_I1_Part_5.txt mentions these keywords: hospices, conseil, frais, conseil des hospices, recettes, bruxelles, dépenses, collège, avril, ville, frais d'entretien, bienfaisance, francs, van de meulebroeck, section, communal, service, meulebroeck...\n",
      "Bxl_1924_Tome_I1_Part_6.txt mentions these keywords: frais, conseil général conseil, l'exercice conseil général, dépenses, général conseil communal, service, conseil, hospices, francs, frais d'entretien, service administratif, rue, budget, service médical, montant des dépenses, traitement, traitement du personnel, général...\n",
      "Bxl_1924_Tome_I1_Part_7.txt mentions these keywords: francs, hospices, frais, intérêts, frais d'entretien, recettes, malades, bienfaisance, obligations, d'entretien, l'hôpital, fonds, actions, l'administration, caisse, années, fonds belges, intervention, enfants, société...\n",
      "Bxl_1926_Tome_I1_Part_9.txt mentions these keywords: ville, société, rue, conseiller communal, budget, voir, proposition, mise, conseiller, démission, majoration, demande, observations, subside, communal, société anonyme, démission et mise, pension, acquisition, bruxelles...\n",
      "Bxl_1926_Tome_I2_Part_3.txt mentions these keywords: frais, frais d'entretien, dépenses, service, recettes, budget, remboursement, service médical, section, service extraordinaire, dépenses présumées, remboursement de frais, montant, service ordinaire, commission d'assistance, francs, intérêts, traitement, service administratif...\n",
      "Bxl_1926_Tome_II1_Part_3.txt mentions these keywords: frais, frais d'entretien, service, dépenses, recettes, budget, remboursement, service médical, section, traitement, remboursement de frais, intérêts, francs, service extraordinaire, frais de bureau, service ordinaire, commission d'assistance, montant, l'hôpital brugmann...\n",
      "Bxl_1927_Tome_I_Part_12.txt mentions these keywords: brunfaut, conseiller communal, ville, conseil, proposition, avis favorable, bourgmestre, communal, l'echevin jacqmain, bruxelles, van, juin, collège, avis, conseiller, veuve, question, personnel, cours, jacqmain...\n",
      "Bxl_1927_Tome_I_Part_13.txt mentions these keywords: conseiller communal, conseiller, communal, qualité, qualité de conseiller, société, rue, ville, installation en qualité, voir, prestation de serment, comité, comité scolaire, qualité de membre, proposition, prestation, membre du comité, installation, serment et installation, serment...\n",
      "Bxl_1927_Tome_I_Part_9.txt mentions these keywords: frais, frais d'entretien, recettes, dépenses, service, francs, budget, remboursement, traitement, section, commission d'assistance, montant, brugmann, frais de bureau, service extraordinaire, service médical, dépenses portées, frais d'entretien d'indigents, remboursement de frais...\n",
      "Bxl_1928_Tome_II1_Part_12.txt mentions these keywords: ville, voir, l'affaire s'est terminée, cours, l'affaire, ecoles, voir ecoles, rapport, francs, l'affaire s'est, s'est terminée, affaire terminée, terminée, service, conseil, société, transports, jugement, concessions...\n",
      "Bxl_1929_Tome_I_Part_4.txt mentions these keywords: recettes, francs, frais d'entretien, dépenses, frais, dépenses dépenses dépenses, service, remboursement de frais, remboursement, l'hôpital, malades étrangers, budget, malades, d'entretien de malades, dépenses extraordinaires, augmentation, d'entretien, service extraordinaire, service ordinaire, collège...\n"
     ]
    }
   ],
   "source": [
    "for f in sorted(cluster_3):\n",
    "    text = open(f'{data_path}/{f}', encoding='utf-8').read()\n",
    "    keywords = kw_extractor.extract_keywords(text)\n",
    "    kept = []\n",
    "    for score, kw in keywords:\n",
    "        words = kw.split()\n",
    "        if len(words) > 0 and kw not in ignored:\n",
    "            kept.append(kw)\n",
    "    print(f\"{f} mentions these keywords: {', '.join(kept)}...\")"
   ]
  },
  {
   "cell_type": "code",
   "execution_count": null,
   "metadata": {},
   "outputs": [],
   "source": []
  },
  {
   "cell_type": "code",
   "execution_count": 42,
   "metadata": {},
   "outputs": [],
   "source": [
    "cluster_4 = ['Bxl_1923_Tome_I2_Part_9.txt',\n",
    "     'Bxl_1926_Tome_I1_Part_7.txt',\n",
    "     'Bxl_1926_Tome_II1_Part_2.txt',\n",
    "     'Bxl_1927_Tome_I_Part_1.txt',\n",
    "     'Bxl_1927_Tome_I_Part_2.txt',\n",
    "     'Bxl_1927_Tome_I_Part_3.txt',\n",
    "     'Bxl_1927_Tome_I_Part_4.txt',\n",
    "     'Bxl_1927_Tome_I_Part_5.txt',\n",
    "     'Bxl_1927_Tome_I_Part_7.txt',\n",
    "     'Bxl_1927_Tome_I_Part_8.txt',\n",
    "     'Bxl_1928_Tome_II1_Part_1.txt',\n",
    "     'Bxl_1928_Tome_II1_Part_3.txt',\n",
    "     'Bxl_1928_Tome_II1_Part_4.txt',\n",
    "     'Bxl_1928_Tome_II2_Part_1.txt',\n",
    "     'Bxl_1928_Tome_II2_Part_2.txt',\n",
    "     'Bxl_1928_Tome_II2_Part_3.txt',\n",
    "     'Bxl_1928_Tome_II2_Part_4.txt',\n",
    "     'Bxl_1928_Tome_II2_Part_5.txt',\n",
    "     'Bxl_1928_Tome_II2_Part_6.txt',\n",
    "     'Bxl_1929_Tome_II1_Part_1.txt',\n",
    "     'Bxl_1929_Tome_II1_Part_2.txt',\n",
    "     'Bxl_1929_Tome_II2_Part_1.txt',\n",
    "     'Bxl_1929_Tome_II2_Part_2.txt',\n",
    "     'Bxl_1929_Tome_II2_Part_3.txt',\n",
    "     'Bxl_1929_Tome_II2_Part_4.txt',\n",
    "     'Bxl_1929_Tome_II2_Part_5.txt',\n",
    "     'Bxl_1929_Tome_II2_Part_6.txt',\n",
    "     'Bxl_1929_Tome_II2_Part_7.txt',\n",
    "     'Bxl_1929_Tome_I_Part_1.txt',\n",
    "     'Bxl_1929_Tome_I_Part_2.txt',\n",
    "     'Bxl_1929_Tome_I_Part_3.txt',\n",
    "     'Bxl_1929_Tome_I_Part_7.txt',\n",
    "     'Bxl_1929_Tome_I_Part_8.txt',\n",
    "     'Bxl_1929_Tome_I_Part_9.txt']"
   ]
  },
  {
   "cell_type": "code",
   "execution_count": 43,
   "metadata": {},
   "outputs": [
    {
     "output_type": "stream",
     "name": "stdout",
     "text": [
      "Bxl_1923_Tome_I2_Part_9.txt mentions these keywords: l'ordre public, loi communale...\n",
      "Bxl_1926_Tome_I1_Part_7.txt mentions these keywords: stationnement stationnement...\n",
      "Bxl_1926_Tome_II1_Part_2.txt mentions these keywords: l'echevin jacqmain, société bruxelloise, van remoortel, pouvoir autorisant...\n",
      "Bxl_1927_Tome_I_Part_1.txt mentions these keywords: van overstraeten, van remoortel, van den nest, huisman van den, monsieur van overstraeten, huisman van, mesdames et messieurs, van den, van overstraeten s'est...\n",
      "Bxl_1927_Tome_I_Part_2.txt mentions these keywords: van overstraeten, mesdames et messieurs, ville de bruxelles, l'echevin lemonnier, tramways bruxellois, l'echevin coelst, huisman van den...\n",
      "Bxl_1927_Tome_I_Part_3.txt mentions these keywords: van remoortel, l'echevin coelst, ville de bruxelles, van overstraeten, écoles libres, l'echevin pattou, l'echevin jacqmain, l'enseignement libre...\n",
      "Bxl_1927_Tome_I_Part_4.txt mentions these keywords: l'echevin wauwermans, van overstraeten, commission d'assistance publique, mesdames et messieurs, avis favorable...\n",
      "Bxl_1927_Tome_I_Part_5.txt mentions these keywords: van overstraeten, van remoortel, ville de bruxelles, huisman van den, van den nest, commission d'assistance publique, monsieur van overstraeten, huisman van, l'echevin van...\n",
      "Bxl_1927_Tome_I_Part_7.txt mentions these keywords: van remoortel, van overstraeten, van den nest, huisman van den, huisman van, mesdames et messieurs, tramways bruxellois, van den, l'echevin van...\n",
      "Bxl_1927_Tome_I_Part_8.txt mentions these keywords: tramways bruxellois, chemins de fer, ville de bruxelles, fer économiques, société anonyme, recette tramways bruxellois, société générale, tramways concédé, foyer bruxellois...\n",
      "Bxl_1928_Tome_II1_Part_1.txt mentions these keywords: l'echevin wauwermans, date depense dépenses, membres répondent...\n",
      "Bxl_1928_Tome_II1_Part_3.txt mentions these keywords: commission d'assistance publique, l'echevin jacqmain, commission d'assistance, verhaeghe-de naeyer, van den nest, l'echevin waucquez, d'assistance publique...\n",
      "Bxl_1928_Tome_II1_Part_4.txt mentions these keywords: mesdames et messieurs, l'echevin lemonnier, l'echevin coelst, francs versée, avis favorable, collège a l'honneur...\n",
      "Bxl_1928_Tome_II2_Part_1.txt mentions these keywords: l'echevin waucquez, l'echevin jacqmain, huisman van den, van den nest, mesdames et messieurs, huisman van, personnel enseignant, ville de bruxelles, van remoortel...\n",
      "Bxl_1928_Tome_II2_Part_2.txt mentions these keywords: ville de bruxelles, société de l'exposition, mesdames et messieurs, rue courbe...\n",
      "Bxl_1928_Tome_II2_Part_3.txt mentions these keywords: l'echevin waucquez, l'echevin jacqmain, l'echevin coelst, van remoortel, ville de bruxelles...\n",
      "Bxl_1928_Tome_II2_Part_4.txt mentions these keywords: l'echevin lemonnier, mesdames et messieurs, l'echevin jacqmain, l'echevin coelst, l'echevin van...\n",
      "Bxl_1928_Tome_II2_Part_5.txt mentions these keywords: l'echevin waucquez, l'echevin coelst, l'echevin lemonnier, mesdames et messieurs, l'echevin jacqmain, écoles libres, l'echevin wauwermans, ville de bruxelles, van remoortel...\n",
      "Bxl_1928_Tome_II2_Part_6.txt mentions these keywords: l'echevin waucquez, l'echevin coelst, l'echevin pattou, l'echevin jacqmain, ville de bruxelles, rue courbe...\n",
      "Bxl_1929_Tome_II1_Part_1.txt mentions these keywords: l'echevin lemonnier, mesdames et messieurs, ville de bruxelles, commission d'assistance publique, place royale, avis favorable...\n",
      "Bxl_1929_Tome_II1_Part_2.txt mentions these keywords: mesdames et messieurs, bourgmestre jules anspach, société bruxellois bruxelles, subside à l'école, commission d'assistance publique, jules anspach, tramways bruxellois...\n",
      "Bxl_1929_Tome_II2_Part_1.txt mentions these keywords: l'echevin coelst, l'echevin jacqmain, van remoortel, bus de warnaffe, l'echevin waucquez, mesdames et messieurs...\n",
      "Bxl_1929_Tome_II2_Part_2.txt mentions these keywords: commission d'assistance publique, mesdames et messieurs, avis favorable, d'assistance publique, commission d'assistance...\n",
      "Bxl_1929_Tome_II2_Part_3.txt mentions these keywords: l'echevin coelst, l'echevin wauwermans, l'echevin lemonnier, l'echevin waucquez, ville de bruxelles, l'echevin pattou...\n",
      "Bxl_1929_Tome_II2_Part_4.txt mentions these keywords: l'echevin jacqmain, van remoortel, l'echevin lemonnier, l'echevin coelst, bus de warnaffe...\n",
      "Bxl_1929_Tome_II2_Part_5.txt mentions these keywords: van remoortel, commission d'assistance publique, médecins d'état civil, service médical, l'echevin wauwermans...\n",
      "Bxl_1929_Tome_II2_Part_6.txt mentions these keywords: l'echevin jacqmain, l'echevin coelst, l'echevin waucquez, ville de bruxelles, l'echevin lemonnier...\n",
      "Bxl_1929_Tome_II2_Part_7.txt mentions these keywords: service extraordinaire, recettes extraordinaires...\n",
      "Bxl_1929_Tome_I_Part_1.txt mentions these keywords: déduction faite, mesdames et messieurs, francs versée, avis favorable, commission d'assistance publique...\n",
      "Bxl_1929_Tome_I_Part_2.txt mentions these keywords: foire commerciale, mesdames et messieurs, l'echevin jacqmain, foire commerciale bruxelles, foire commerciale officielle, ville de bruxelles, avis favorable...\n",
      "Bxl_1929_Tome_I_Part_3.txt mentions these keywords: commission d'assistance publique, commission d'assistance, d'assistance publique, crédits supplémentaires, mesdames et messieurs, d'un crédit supplémentaire, avis favorable...\n",
      "Bxl_1929_Tome_I_Part_7.txt mentions these keywords: rue courbe, d'une concession, d'une concession temporaire, l'echevin waucquez, concessions temporaires...\n",
      "Bxl_1929_Tome_I_Part_8.txt mentions these keywords: l'echevin coelst, mesdames et messieurs, vote d'un crédit, crédit supplémentaire, l'echevin wauwermans...\n",
      "Bxl_1929_Tome_I_Part_9.txt mentions these keywords: comité scolaire, écoles primaires, conseiller communal...\n"
     ]
    }
   ],
   "source": [
    "for f in sorted(cluster_4):\n",
    "    text = open(f'{data_path}/{f}', encoding='utf-8').read()\n",
    "    keywords = kw_extractor.extract_keywords(text)\n",
    "    kept = []\n",
    "    for score, kw in keywords:\n",
    "        words = kw.split()\n",
    "        if len(words) > 1 and kw not in ignored:\n",
    "            kept.append(kw)\n",
    "    print(f\"{f} mentions these keywords: {', '.join(kept)}...\")"
   ]
  },
  {
   "cell_type": "code",
   "execution_count": null,
   "metadata": {},
   "outputs": [],
   "source": []
  },
  {
   "cell_type": "code",
   "execution_count": 46,
   "metadata": {},
   "outputs": [],
   "source": [
    "cluster_5 = ['Bxl_1920_Tome_I2_Part_1.txt',\n",
    "     'Bxl_1920_Tome_I2_Part_12.txt',\n",
    "     'Bxl_1920_Tome_I2_Part_13.txt',\n",
    "     'Bxl_1920_Tome_I2_Part_14.txt',\n",
    "     'Bxl_1920_Tome_I2_Part_18.txt',\n",
    "     'Bxl_1920_Tome_I2_Part_19.txt',\n",
    "     'Bxl_1920_Tome_I2_Part_3.txt',\n",
    "     'Bxl_1920_Tome_I2_Part_4.txt',\n",
    "     'Bxl_1921_Tome_I1_Part_1.txt',\n",
    "     'Bxl_1921_Tome_I1_Part_2.txt',\n",
    "     'Bxl_1921_Tome_I1_Part_3.txt',\n",
    "     'Bxl_1921_Tome_I1_Part_4.txt',\n",
    "     'Bxl_1921_Tome_I1_Part_5.txt',\n",
    "     'Bxl_1921_Tome_I1_Part_7.txt',\n",
    "     'Bxl_1921_Tome_I1_Part_9.txt',\n",
    "     'Bxl_1922_Tome_II1_Part_4.txt',\n",
    "     'Bxl_1923_Tome_I1_Part_10.txt',\n",
    "     'Bxl_1923_Tome_I1_Part_7.txt',\n",
    "     'Bxl_1925_Tome_II1_1_Part_2.txt',\n",
    "     'Bxl_1925_Tome_II1_2_Part_7.txt',\n",
    "     'Bxl_1925_Tome_II1_2_Part_8.txt',\n",
    "     'Bxl_1926_Tome_I1_Part_8.txt',\n",
    "     'Bxl_1926_Tome_I2_Part_15.txt',\n",
    "     'Bxl_1926_Tome_II1_Part_15.txt',\n",
    "     'Bxl_1929_Tome_I_Part_10.txt']"
   ]
  },
  {
   "cell_type": "code",
   "execution_count": 57,
   "metadata": {},
   "outputs": [
    {
     "output_type": "stream",
     "name": "stdout",
     "text": [
      "Bxl_1920_Tome_I2_Part_1.txt mentions these keywords: camille huysmans, section des finances, avis favorable, l'echevin hallet...\n",
      "Bxl_1920_Tome_I2_Part_12.txt mentions these keywords: paiement d'une somme, maison rue...\n",
      "Bxl_1920_Tome_I2_Part_13.txt mentions these keywords: section des finances, avis favorable, collège vous propose, crédit supplémentaire, finances a émis, vote d'un crédit, ressources ordinaires, dépenses ordinaires...\n",
      "Bxl_1920_Tome_I2_Part_14.txt mentions these keywords: l'echevin lemonnier, allocations allocations dépenses, francs francs francs, l'echevin jacqmain, allocations allocations, allocations allocations modifiées...\n",
      "Bxl_1920_Tome_I2_Part_18.txt mentions these keywords: maison rue, supplément jusqu'à nouvel, jusqu'à nouvel ordre, supplément jusqu'à, nouvel ordre, jusqu'à nouvel...\n",
      "Bxl_1920_Tome_I2_Part_19.txt mentions these keywords: titre définitif, nommée institutrice primaire, concession de terrain, comité scolaire, terrain pour sépulture, primaire à titre, institutrice primaire, nommée institutrice, nommé instituteur...\n",
      "Bxl_1920_Tome_I2_Part_3.txt mentions these keywords: foire commerciale, chef de bureau, chef de division, commis de direction, commis d'ordre, sous-chefs de bureau, commis principaux, direction administrative...\n",
      "Bxl_1920_Tome_I2_Part_4.txt mentions these keywords: avis favorable, ville de bruxelles, section des finances, l'echevin lemonnier, collège a l'honneur...\n",
      "Bxl_1921_Tome_I1_Part_1.txt mentions these keywords: section des finances, collège vous propose, avis favorable, ressources ordinaires...\n",
      "Bxl_1921_Tome_I1_Part_2.txt mentions these keywords: huisman-van den nest, den nest, camille huysmans, l'echevin jacqmain, drapeau national...\n",
      "Bxl_1921_Tome_I1_Part_3.txt mentions these keywords: avis favorable, fondation rockefeller, section des finances, conseil des hospices, collège vous propose, vote d'un crédit...\n",
      "Bxl_1921_Tome_I1_Part_4.txt mentions these keywords: titres remboursables, primes annuité, titres sortis, payé intérêts, totaux nombre primes, voir page, chef de coupons, camille huysmans, paiements effectués...\n",
      "Bxl_1921_Tome_I1_Part_5.txt mentions these keywords: conseil d'arbitrage, section des finances, avis favorable, l'echevin hallet...\n",
      "Bxl_1921_Tome_I1_Part_7.txt mentions these keywords: section des finances, vote d'un crédit, collège vous propose, van den nest, avis favorable, huisman van den, d'un crédit supplémentaire, ressources ordinaires, d'un crédit, émis un avis...\n",
      "Bxl_1921_Tome_I1_Part_9.txt mentions these keywords: conseiller communal, nouvel ordre, concession de terrain, écoles primaires, prestation de serment...\n",
      "Bxl_1922_Tome_II1_Part_4.txt mentions these keywords: voie publique, reprise des cours, voitures de place...\n",
      "Bxl_1923_Tome_I1_Part_10.txt mentions these keywords: comité scolaire, conseiller communal...\n",
      "Bxl_1923_Tome_I1_Part_7.txt mentions these keywords: titres remboursables, primes annuité ensemble, titres sortis, coupons indûment détachés, primes annuité, coupons indûment, payé intérêts, voir page, annuité ensemble, chef de coupons, annuité payé...\n",
      "Bxl_1925_Tome_II1_1_Part_2.txt mentions these keywords: titres remboursables, titres sortis, coupons indûment détachés, coupons indûment, primes annuité ensemble, primes annuité, chef de coupons, détachés de titres, rectification du chef, voir page, payé intérêts, paiements effectués...\n",
      "Bxl_1925_Tome_II1_2_Part_7.txt mentions these keywords: l'affaire est terminée, assigner la ville, société anonyme, ville d'une somme, section bruxelles, d'une somme...\n",
      "Bxl_1925_Tome_II1_2_Part_8.txt mentions these keywords: ...\n",
      "Bxl_1926_Tome_I1_Part_8.txt mentions these keywords: démission et mise, veuve veuve veuve, comité scolaire...\n",
      "Bxl_1926_Tome_I2_Part_15.txt mentions these keywords: commission d'assistance publique, section bruxelles, d'assistance publique, commission d'assistance, voir ecoles...\n",
      "Bxl_1926_Tome_II1_Part_15.txt mentions these keywords: commission d'assistance publique, commission d'assistance, section bruxelles, d'assistance publique, affaire terminée, voir ecoles...\n"
     ]
    },
    {
     "output_type": "error",
     "ename": "UnboundLocalError",
     "evalue": "local variable 'block_of_word_obj' referenced before assignment",
     "traceback": [
      "\u001b[1;31m---------------------------------------------------------------------------\u001b[0m",
      "\u001b[1;31mUnboundLocalError\u001b[0m                         Traceback (most recent call last)",
      "\u001b[1;32m<ipython-input-57-d2d7c75fd6c0>\u001b[0m in \u001b[0;36m<module>\u001b[1;34m\u001b[0m\n\u001b[0;32m      1\u001b[0m \u001b[1;32mfor\u001b[0m \u001b[0mf\u001b[0m \u001b[1;32min\u001b[0m \u001b[0msorted\u001b[0m\u001b[1;33m(\u001b[0m\u001b[0mcluster_5\u001b[0m\u001b[1;33m)\u001b[0m\u001b[1;33m:\u001b[0m\u001b[1;33m\u001b[0m\u001b[1;33m\u001b[0m\u001b[0m\n\u001b[0;32m      2\u001b[0m     \u001b[0mtext\u001b[0m \u001b[1;33m=\u001b[0m \u001b[0mopen\u001b[0m\u001b[1;33m(\u001b[0m\u001b[1;34mf'{data_path}/{f}'\u001b[0m\u001b[1;33m,\u001b[0m \u001b[0mencoding\u001b[0m\u001b[1;33m=\u001b[0m\u001b[1;34m'utf-8'\u001b[0m\u001b[1;33m)\u001b[0m\u001b[1;33m.\u001b[0m\u001b[0mread\u001b[0m\u001b[1;33m(\u001b[0m\u001b[1;33m)\u001b[0m\u001b[1;33m\u001b[0m\u001b[1;33m\u001b[0m\u001b[0m\n\u001b[1;32m----> 3\u001b[1;33m     \u001b[0mkeywords\u001b[0m \u001b[1;33m=\u001b[0m \u001b[0mkw_extractor\u001b[0m\u001b[1;33m.\u001b[0m\u001b[0mextract_keywords\u001b[0m\u001b[1;33m(\u001b[0m\u001b[0mtext\u001b[0m\u001b[1;33m)\u001b[0m\u001b[1;33m\u001b[0m\u001b[1;33m\u001b[0m\u001b[0m\n\u001b[0m\u001b[0;32m      4\u001b[0m     \u001b[0mkept\u001b[0m \u001b[1;33m=\u001b[0m \u001b[1;33m[\u001b[0m\u001b[1;33m]\u001b[0m\u001b[1;33m\u001b[0m\u001b[1;33m\u001b[0m\u001b[0m\n\u001b[0;32m      5\u001b[0m     \u001b[1;32mfor\u001b[0m \u001b[0mscore\u001b[0m\u001b[1;33m,\u001b[0m \u001b[0mkw\u001b[0m \u001b[1;32min\u001b[0m \u001b[0mkeywords\u001b[0m\u001b[1;33m:\u001b[0m\u001b[1;33m\u001b[0m\u001b[1;33m\u001b[0m\u001b[0m\n",
      "\u001b[1;32m~\\AppData\\Local\\Programs\\Python\\Python38\\lib\\site-packages\\yake\\yake.py\u001b[0m in \u001b[0;36mextract_keywords\u001b[1;34m(self, text)\u001b[0m\n\u001b[0;32m     44\u001b[0m         \u001b[0mtext\u001b[0m \u001b[1;33m=\u001b[0m \u001b[0mtext\u001b[0m\u001b[1;33m.\u001b[0m\u001b[0mreplace\u001b[0m\u001b[1;33m(\u001b[0m\u001b[1;34m'\\n\\t'\u001b[0m\u001b[1;33m,\u001b[0m\u001b[1;34m' '\u001b[0m\u001b[1;33m)\u001b[0m\u001b[1;33m\u001b[0m\u001b[1;33m\u001b[0m\u001b[0m\n\u001b[0;32m     45\u001b[0m \u001b[1;33m\u001b[0m\u001b[0m\n\u001b[1;32m---> 46\u001b[1;33m         \u001b[0mdc\u001b[0m \u001b[1;33m=\u001b[0m \u001b[0mDataCore\u001b[0m\u001b[1;33m(\u001b[0m\u001b[0mtext\u001b[0m\u001b[1;33m=\u001b[0m\u001b[0mtext\u001b[0m\u001b[1;33m,\u001b[0m \u001b[0mstopword_set\u001b[0m\u001b[1;33m=\u001b[0m\u001b[0mself\u001b[0m\u001b[1;33m.\u001b[0m\u001b[0mstopword_set\u001b[0m\u001b[1;33m,\u001b[0m \u001b[0mwindowsSize\u001b[0m\u001b[1;33m=\u001b[0m\u001b[0mself\u001b[0m\u001b[1;33m.\u001b[0m\u001b[0mwindowsSize\u001b[0m\u001b[1;33m,\u001b[0m \u001b[0mn\u001b[0m\u001b[1;33m=\u001b[0m\u001b[0mself\u001b[0m\u001b[1;33m.\u001b[0m\u001b[0mn\u001b[0m\u001b[1;33m)\u001b[0m\u001b[1;33m\u001b[0m\u001b[1;33m\u001b[0m\u001b[0m\n\u001b[0m\u001b[0;32m     47\u001b[0m         \u001b[0mdc\u001b[0m\u001b[1;33m.\u001b[0m\u001b[0mbuild_single_terms_features\u001b[0m\u001b[1;33m(\u001b[0m\u001b[0mfeatures\u001b[0m\u001b[1;33m=\u001b[0m\u001b[0mself\u001b[0m\u001b[1;33m.\u001b[0m\u001b[0mfeatures\u001b[0m\u001b[1;33m)\u001b[0m\u001b[1;33m\u001b[0m\u001b[1;33m\u001b[0m\u001b[0m\n\u001b[0;32m     48\u001b[0m         \u001b[0mdc\u001b[0m\u001b[1;33m.\u001b[0m\u001b[0mbuild_mult_terms_features\u001b[0m\u001b[1;33m(\u001b[0m\u001b[0mfeatures\u001b[0m\u001b[1;33m=\u001b[0m\u001b[0mself\u001b[0m\u001b[1;33m.\u001b[0m\u001b[0mfeatures\u001b[0m\u001b[1;33m)\u001b[0m\u001b[1;33m\u001b[0m\u001b[1;33m\u001b[0m\u001b[0m\n",
      "\u001b[1;32m~\\AppData\\Local\\Programs\\Python\\Python38\\lib\\site-packages\\yake\\datarepresentation.py\u001b[0m in \u001b[0;36m__init__\u001b[1;34m(self, text, stopword_set, windowsSize, n, tagsToDiscard, exclude)\u001b[0m\n\u001b[0;32m     34\u001b[0m         \u001b[0mself\u001b[0m\u001b[1;33m.\u001b[0m\u001b[0mstopword_set\u001b[0m \u001b[1;33m=\u001b[0m \u001b[0mstopword_set\u001b[0m\u001b[1;33m\u001b[0m\u001b[1;33m\u001b[0m\u001b[0m\n\u001b[0;32m     35\u001b[0m \u001b[1;33m\u001b[0m\u001b[0m\n\u001b[1;32m---> 36\u001b[1;33m         \u001b[0mself\u001b[0m\u001b[1;33m.\u001b[0m\u001b[0m_build\u001b[0m\u001b[1;33m(\u001b[0m\u001b[0mtext\u001b[0m\u001b[1;33m,\u001b[0m \u001b[0mwindowsSize\u001b[0m\u001b[1;33m,\u001b[0m \u001b[0mn\u001b[0m\u001b[1;33m)\u001b[0m\u001b[1;33m\u001b[0m\u001b[1;33m\u001b[0m\u001b[0m\n\u001b[0m\u001b[0;32m     37\u001b[0m \u001b[1;33m\u001b[0m\u001b[0m\n\u001b[0;32m     38\u001b[0m     \u001b[1;32mdef\u001b[0m \u001b[0mbuild_candidate\u001b[0m\u001b[1;33m(\u001b[0m\u001b[0mself\u001b[0m\u001b[1;33m,\u001b[0m \u001b[0mcandidate_string\u001b[0m\u001b[1;33m)\u001b[0m\u001b[1;33m:\u001b[0m\u001b[1;33m\u001b[0m\u001b[1;33m\u001b[0m\u001b[0m\n",
      "\u001b[1;32m~\\AppData\\Local\\Programs\\Python\\Python38\\lib\\site-packages\\yake\\datarepresentation.py\u001b[0m in \u001b[0;36m_build\u001b[1;34m(self, text, windowsSize, n)\u001b[0m\n\u001b[0;32m    108\u001b[0m                 \u001b[0mself\u001b[0m\u001b[1;33m.\u001b[0m\u001b[0msentences_obj\u001b[0m\u001b[1;33m.\u001b[0m\u001b[0mappend\u001b[0m\u001b[1;33m(\u001b[0m\u001b[0msentence_obj_aux\u001b[0m\u001b[1;33m)\u001b[0m\u001b[1;33m\u001b[0m\u001b[1;33m\u001b[0m\u001b[0m\n\u001b[0;32m    109\u001b[0m \u001b[1;33m\u001b[0m\u001b[0m\n\u001b[1;32m--> 110\u001b[1;33m         \u001b[1;32mif\u001b[0m \u001b[0mlen\u001b[0m\u001b[1;33m(\u001b[0m\u001b[0mblock_of_word_obj\u001b[0m\u001b[1;33m)\u001b[0m \u001b[1;33m>\u001b[0m \u001b[1;36m0\u001b[0m\u001b[1;33m:\u001b[0m\u001b[1;33m\u001b[0m\u001b[1;33m\u001b[0m\u001b[0m\n\u001b[0m\u001b[0;32m    111\u001b[0m             \u001b[0msentence_obj_aux\u001b[0m\u001b[1;33m.\u001b[0m\u001b[0mappend\u001b[0m\u001b[1;33m(\u001b[0m \u001b[0mblock_of_word_obj\u001b[0m \u001b[1;33m)\u001b[0m\u001b[1;33m\u001b[0m\u001b[1;33m\u001b[0m\u001b[0m\n\u001b[0;32m    112\u001b[0m \u001b[1;33m\u001b[0m\u001b[0m\n",
      "\u001b[1;31mUnboundLocalError\u001b[0m: local variable 'block_of_word_obj' referenced before assignment"
     ]
    }
   ],
   "source": [
    "for f in sorted(cluster_5):\n",
    "    text = open(f'{data_path}/{f}', encoding='utf-8').read()\n",
    "    keywords = kw_extractor.extract_keywords(text)\n",
    "    kept = []\n",
    "    for score, kw in keywords:\n",
    "        words = kw.split()\n",
    "        if len(words) > 1 and kw not in ignored:\n",
    "            kept.append(kw)\n",
    "    print(f\"{f} mentions these keywords: {', '.join(kept)}...\")"
   ]
  },
  {
   "cell_type": "code",
   "execution_count": null,
   "metadata": {},
   "outputs": [],
   "source": []
  },
  {
   "cell_type": "code",
   "execution_count": 50,
   "metadata": {},
   "outputs": [],
   "source": [
    "cluster_6 = ['Bxl_1920_Tome_I2_Part_6.txt',\n",
    "     'Bxl_1923_Tome_I2_Part_6.txt',\n",
    "     'Bxl_1925_Tome_II1_1_Part_7.txt',\n",
    "     'Bxl_1926_Tome_I2_Part_9.txt',\n",
    "     'Bxl_1926_Tome_II1_Part_9.txt',\n",
    "     'Bxl_1928_Tome_II1_Part_6.txt',\n",
    "     'Bxl_1929_Tome_II1_Part_7.txt']"
   ]
  },
  {
   "cell_type": "code",
   "execution_count": 49,
   "metadata": {},
   "outputs": [
    {
     "output_type": "stream",
     "name": "stdout",
     "text": [
      "Bxl_1920_Tome_I2_Part_6.txt mentions these keywords: divisions territoriales, sexe masculin, classe pauvre...\n",
      "Bxl_1923_Tome_I2_Part_6.txt mentions these keywords: naissances vivantes...\n",
      "Bxl_1925_Tome_II1_1_Part_7.txt mentions these keywords: naissances vivantes, naissances vivantes enregistrées, parents habitant bruxelles, maladies contagieuses...\n",
      "Bxl_1926_Tome_I2_Part_9.txt mentions these keywords: naissances vivantes, enfants légitimes, parents habitant bruxelles...\n",
      "Bxl_1926_Tome_II1_Part_9.txt mentions these keywords: sexe masc, l'hygiène publique...\n",
      "Bxl_1928_Tome_II1_Part_6.txt mentions these keywords: liste votes nominatifs, nombre de sièges, sièges attribués, liste votes, nombre de votes, votes nominatifs, nombre total, sexe masc...\n",
      "Bxl_1929_Tome_II1_Part_7.txt mentions these keywords: mortalité due, conséquences de l'accouchement, tuberculose pulmonaire, causes décès, naissances enregistrées, diarrhée et entérite...\n"
     ]
    }
   ],
   "source": [
    "for f in sorted(cluster_6):\n",
    "    text = open(f'{data_path}/{f}', encoding='utf-8').read()\n",
    "    keywords = kw_extractor.extract_keywords(text)\n",
    "    kept = []\n",
    "    for score, kw in keywords:\n",
    "        words = kw.split()\n",
    "        if len(words) > 1 and kw not in ignored:\n",
    "            kept.append(kw)\n",
    "    print(f\"{f} mentions these keywords: {', '.join(kept)}...\")"
   ]
  },
  {
   "cell_type": "code",
   "execution_count": 32,
   "metadata": {},
   "outputs": [
    {
     "output_type": "stream",
     "name": "stdout",
     "text": [
      "Bxl_1920_Tome_I2_Part_6.txt mentions these keywords: ans, décès, total, trimestre, nombre, division, mortalité, maladies, tuberculose, classe, période, totaux, divisions territoriales, sexe masculin, échantillons, classe pauvre, enfants, l'année, service, sexe...\n",
      "Bxl_1923_Tome_I2_Part_6.txt mentions these keywords: bruxelles, décès, division, laits, taux, mortalité, totaux, nombre, enfants, total, naissances, lait, district, tableau, produits, service, naissances vivantes, habitants, masc, maladies...\n",
      "Bxl_1925_Tome_II1_1_Part_7.txt mentions these keywords: taux, décès, bruxelles, naissances, tuberculose, naissances vivantes, maladies, enfants, division, habitants, mortalité, tableau, ville, district, totaux, naissances vivantes enregistrées, parents habitant bruxelles, service, maladies contagieuses, nombre...\n",
      "Bxl_1926_Tome_I2_Part_9.txt mentions these keywords: service, enfants, division, total, décès, bruxelles, mortalité, naissances, totaux, maladies, francs, nombre, fém, district, naissances vivantes, publique, enfants légitimes, parents habitant bruxelles, masc, habitants...\n",
      "Bxl_1926_Tome_II1_Part_9.txt mentions these keywords: service, enfants, bruxelles, nombre, division, total, décès, ville, naissances, mortalité, maladies, sexe masc, publique, taux, totaux, masc, l'hygiène publique, fém, direction, francs...\n",
      "Bxl_1928_Tome_II1_Part_6.txt mentions these keywords: nombre, liste, total, service, liste votes nominatifs, enfants, nombre de sièges, décès, sièges attribués, bruxelles, francs, totaux, liste votes, mortalité, nombre de votes, votes nominatifs, police, masc, nombre total, sexe masc...\n",
      "Bxl_1929_Tome_II1_Part_7.txt mentions these keywords: décès, mortalité, mortalité due, tuberculose, due, total, naissance, ans, totaux, illégitimes, bronchite, conséquences de l'accouchement, maladies, diarrhée, tuberculose pulmonaire, causes décès, naissances enregistrées, diarrhée et entérite, pneumonies, bruxelles...\n"
     ]
    }
   ],
   "source": [
    "for f in sorted(cluster_6):\n",
    "    text = open(f'{data_path}/{f}', encoding='utf-8').read()\n",
    "    keywords = kw_extractor.extract_keywords(text)\n",
    "    kept = []\n",
    "    for score, kw in keywords:\n",
    "        words = kw.split()\n",
    "    \n",
    "        if len(words) > 0 and kw not in ignored:      kept.append(kw)\n",
    "    print(f\"{f} mentions these keywords: {', '.join(kept)}...\")"
   ]
  },
  {
   "cell_type": "code",
   "execution_count": null,
   "metadata": {},
   "outputs": [],
   "source": []
  },
  {
   "cell_type": "code",
   "execution_count": 51,
   "metadata": {},
   "outputs": [],
   "source": [
    "cluster_7 = ['Bxl_1920_Tome_I2_Part_7.txt',\n",
    "     'Bxl_1922_Tome_II1_Part_1.txt',\n",
    "     'Bxl_1922_Tome_II1_Part_2.txt',\n",
    "     'Bxl_1922_Tome_II1_Part_3.txt',\n",
    "     'Bxl_1923_Tome_I2_Part_7.txt',\n",
    "     'Bxl_1923_Tome_I2_Part_8.txt',\n",
    "     'Bxl_1923_Tome_II1_Part_1.txt',\n",
    "     'Bxl_1923_Tome_II1_Part_2.txt',\n",
    "     'Bxl_1923_Tome_II1_Part_3.txt',\n",
    "     'Bxl_1925_Tome_II1_2_Part_1.txt',\n",
    "     'Bxl_1925_Tome_II1_2_Part_2.txt',\n",
    "     'Bxl_1926_Tome_I2_Part_10.txt',\n",
    "     'Bxl_1926_Tome_I2_Part_11.txt',\n",
    "     'Bxl_1926_Tome_II1_Part_10.txt',\n",
    "     'Bxl_1926_Tome_II1_Part_11.txt',\n",
    "     'Bxl_1928_Tome_II1_Part_7.txt',\n",
    "     'Bxl_1928_Tome_II1_Part_8.txt']"
   ]
  },
  {
   "cell_type": "code",
   "execution_count": 52,
   "metadata": {},
   "outputs": [
    {
     "output_type": "stream",
     "name": "stdout",
     "text": [
      "Bxl_1920_Tome_I2_Part_7.txt mentions these keywords: voie publique, décès voie publique, service s'est occupé, ans. ans. ans., service s'est, population décès voie...\n",
      "Bxl_1922_Tome_II1_Part_1.txt mentions these keywords: collège des bourgmestre, l'hôtel de ville, bourgmestre et échevins, cahier des charges, ville jusqu'au jour, voies publiques...\n",
      "Bxl_1922_Tome_II1_Part_2.txt mentions these keywords: école école école, rue rue rue, collège des bourgmestre, cahier des charges, école école, l'hôtel de ville, société royale, bourgmestre et echevins...\n",
      "Bxl_1922_Tome_II1_Part_3.txt mentions these keywords: voie publique, collège des bourgmestre, bourgmestre et echevins, l'hôtel de ville, cahier des charges...\n",
      "Bxl_1923_Tome_I2_Part_7.txt mentions these keywords: voie publique, divisions territoriales, décès voie publique, voie décès publique, bronchite aiguë, district divisions territoriales, méningite aiguë...\n",
      "Bxl_1923_Tome_I2_Part_8.txt mentions these keywords: ...\n",
      "Bxl_1923_Tome_II1_Part_1.txt mentions these keywords: l'hôtel de ville, collège des bourgmestre, cahier des charges, bourgmestre et echevins, secrétariat de l'hôtel, adolphe max...\n",
      "Bxl_1923_Tome_II1_Part_2.txt mentions these keywords: école école école, école école, bourgmestre et echevins, collège des bourgmestre, l'hôtel de ville, cahier des charges, ville jusqu'au jour, adolphe max...\n",
      "Bxl_1923_Tome_II1_Part_3.txt mentions these keywords: bourgmestre et echevins, collège des bourgmestre...\n",
      "Bxl_1925_Tome_II1_2_Part_1.txt mentions these keywords: bronchite sans épithète, bronchite sans, bronchite aiguë, diarrhée et entérite, sans épithète, divisions territoriales...\n",
      "Bxl_1925_Tome_II1_2_Part_2.txt mentions these keywords: voie publique rue, voie publique, décès voie publique, voie rue, rue léopold, rue félix-sterckx, rue claessens, publique rue, rue dieudonné-lefèvre...\n",
      "Bxl_1926_Tome_I2_Part_10.txt mentions these keywords: divisions territoriales, diarrhée et entérite, voie publique, bronchite aiguë, myocardite aiguë, méningite aiguë, entérite cholériforme, méningite cérébro-spinale épidémique...\n",
      "Bxl_1926_Tome_I2_Part_11.txt mentions these keywords: rue verhoeven rue, rue félix sterckx, rue ernest, rue félix, rue claessens, place royale rue, rue léon, rue antoine, rue antoine dansaert...\n",
      "Bxl_1926_Tome_II1_Part_10.txt mentions these keywords: voie publique, diarrhée et entérite, bronchite aiguë, divisions territoriales, myocardite aiguë, méningite aiguë...\n",
      "Bxl_1926_Tome_II1_Part_11.txt mentions these keywords: rue félix sterckx, rue antoine dansaert, rue antoine, rue félix, rue ernest, caisse communale, d'une nouvelle rue, rue van...\n",
      "Bxl_1928_Tome_II1_Part_7.txt mentions these keywords: voie publique, diarrhée et entérite, divisions territoriales, district divisions territoriales...\n",
      "Bxl_1928_Tome_II1_Part_8.txt mentions these keywords: mètres carrés, rue vanden branden, rue vanden...\n"
     ]
    }
   ],
   "source": [
    "for f in sorted(cluster_7):\n",
    "    text = open(f'{data_path}/{f}', encoding='utf-8').read()\n",
    "    keywords = kw_extractor.extract_keywords(text)\n",
    "    kept = []\n",
    "    for score, kw in keywords:\n",
    "        words = kw.split()\n",
    "        if len(words) > 1 and kw not in ignored:\n",
    "            kept.append(kw)\n",
    "    print(f\"{f} mentions these keywords: {', '.join(kept)}...\")"
   ]
  },
  {
   "cell_type": "code",
   "execution_count": null,
   "metadata": {},
   "outputs": [],
   "source": []
  },
  {
   "cell_type": "code",
   "execution_count": 53,
   "metadata": {},
   "outputs": [],
   "source": [
    "cluster_8 = ['Bxl_1926_Tome_I2_Part_4.txt',\n",
    "     'Bxl_1926_Tome_I2_Part_5.txt',\n",
    "     'Bxl_1926_Tome_II1_Part_4.txt',\n",
    "     'Bxl_1926_Tome_II1_Part_5.txt',\n",
    "     'Bxl_1927_Tome_I_Part_10.txt',\n",
    "     'Bxl_1927_Tome_I_Part_11.txt',\n",
    "     'Bxl_1929_Tome_I_Part_5.txt',\n",
    "     'Bxl_1929_Tome_I_Part_6.txt']"
   ]
  },
  {
   "cell_type": "code",
   "execution_count": 54,
   "metadata": {},
   "outputs": [
    {
     "output_type": "stream",
     "name": "stdout",
     "text": [
      "Bxl_1926_Tome_I2_Part_4.txt mentions these keywords: obligation compagnie belge, obligation compagnie, anciennement art, chemin de fer, obligations tramways, obligations chemin, compagnie belge chemins, francs le kilogramme...\n",
      "Bxl_1926_Tome_I2_Part_5.txt mentions these keywords: date dépense dépenses, vicinal de bruxelles, dépense dépenses, anciennement art, dépenses dépense date, date dépense, fer vicinal, chemin de fer, capital supplémentaire...\n",
      "Bxl_1926_Tome_II1_Part_4.txt mentions these keywords: anciennement art, obligation compagnie belge, obligation compagnie, obligations tramways, chemin de fer, obligations chemin, compagnie belge chemins, francs le kilogramme, budget des hospices...\n",
      "Bxl_1926_Tome_II1_Part_5.txt mentions these keywords: anciennement art, vicinal de bruxelles, menus travaux d'entretien, chemin de fer, fer vicinal, entretien menus travaux...\n",
      "Bxl_1927_Tome_I_Part_10.txt mentions these keywords: chemin de fer, francs le kilogramme, frais d'entretien, magasin central, fournitures à faire...\n",
      "Bxl_1927_Tome_I_Part_11.txt mentions these keywords: ville de bruxelles, mesdames et messieurs, bail emphytéotique, commission d'assistance publique, francs payés...\n",
      "Bxl_1929_Tome_I_Part_5.txt mentions these keywords: frais d'entretien, obligations obligations obligations, chemins de fer, dépenses portées faites, remboursement des frais, service intérieur, service médical, service extraordinaire...\n",
      "Bxl_1929_Tome_I_Part_6.txt mentions these keywords: fournitures à faire, francs le kilogramme, magasin central, magasin de vêtements, traitement du personnel...\n"
     ]
    }
   ],
   "source": [
    "for f in sorted(cluster_8):\n",
    "    text = open(f'{data_path}/{f}', encoding='utf-8').read()\n",
    "    keywords = kw_extractor.extract_keywords(text)\n",
    "    kept = []\n",
    "    for score, kw in keywords:\n",
    "        words = kw.split()\n",
    "        if len(words) > 1 and kw not in ignored:\n",
    "            kept.append(kw)\n",
    "    print(f\"{f} mentions these keywords: {', '.join(kept)}...\")"
   ]
  },
  {
   "cell_type": "code",
   "execution_count": null,
   "metadata": {},
   "outputs": [],
   "source": []
  },
  {
   "cell_type": "code",
   "execution_count": 33,
   "metadata": {},
   "outputs": [],
   "source": [
    "cluster_9 = ['Bxl_1920_Tome_I2_Part_15.txt',\n",
    "     'Bxl_1920_Tome_I2_Part_16.txt',\n",
    "     'Bxl_1920_Tome_I2_Part_17.txt',\n",
    "     'Bxl_1920_Tome_I2_Part_2.txt',\n",
    "     'Bxl_1923_Tome_I2_Part_3.txt',\n",
    "     'Bxl_1925_Tome_II1_1_Part_3.txt',\n",
    "     'Bxl_1925_Tome_II1_1_Part_4.txt',\n",
    "     'Bxl_1926_Tome_I2_Part_16.txt',\n",
    "     'Bxl_1926_Tome_I2_Part_6.txt',\n",
    "     'Bxl_1926_Tome_II1_Part_16.txt',\n",
    "     'Bxl_1926_Tome_II1_Part_6.txt',\n",
    "     'Bxl_1928_Tome_II1_Part_2.txt',\n",
    "     'Bxl_1928_Tome_II2_Part_7.txt',\n",
    "     'Bxl_1928_Tome_II2_Part_8.txt',\n",
    "     'Bxl_1928_Tome_II2_Part_9.txt',\n",
    "     'Bxl_1929_Tome_II1_Part_3.txt',\n",
    "     'Bxl_1929_Tome_II1_Part_4.txt']"
   ]
  },
  {
   "cell_type": "code",
   "execution_count": 56,
   "metadata": {},
   "outputs": [
    {
     "output_type": "stream",
     "name": "stdout",
     "text": [
      "Bxl_1920_Tome_I2_Part_15.txt mentions these keywords: entretien des toitures, travaux de jardinage, agents spéciaux, prévisions évaluations recettes...\n",
      "Bxl_1920_Tome_I2_Part_16.txt mentions these keywords: voir bulletin communal, bulletin communal, voir bulletin, frais d'administration...\n",
      "Bxl_1920_Tome_I2_Part_17.txt mentions these keywords: maison rue, voir bulletin communal, recettes effectuées, bulletin communal, cahier d'explications, voir bulletin...\n",
      "Bxl_1920_Tome_I2_Part_2.txt mentions these keywords: date dépense dépenses, dépense dépenses, service ordinaire, l'école professionnelle, service extraordinaire, reçu recettes, nature des recettes, recettes effectuées...\n",
      "Bxl_1923_Tome_I2_Part_3.txt mentions these keywords: vicinal de bruxelles, fer vicinal, date dépense dépenses, bruxelles à ninove, bruxelles à humbeek, chemin de fer, bruxelles à haecht, dépenses date dépense, commune de laeken, reçu recettes...\n",
      "Bxl_1925_Tome_II1_1_Part_3.txt mentions these keywords: vicinal de bruxelles, chemin de fer, fer vicinal, bruxelles à humbeek, bruxelles à ninove, maison rue, capital supplémentaire...\n",
      "Bxl_1925_Tome_II1_1_Part_4.txt mentions these keywords: entretien d'une tombe, recettes extraordinaires, service extraordinaire, entretien d'une, service ordinaire, recettes ordinaires...\n",
      "Bxl_1926_Tome_I2_Part_16.txt mentions these keywords: voir ecoles, voir prostitution, voir assistance, voir assistance préventive, théâtre royal, chemins de fer...\n",
      "Bxl_1926_Tome_I2_Part_6.txt mentions these keywords: reçu recettes, vicinal de bruxelles, nature des recettes, recette évaluation nature, fer vicinal, recettes extraordinaires, recettes ordinaires, service extraordinaire, service ordinaire, ire deuxi...\n",
      "Bxl_1926_Tome_II1_Part_16.txt mentions these keywords: voir ecoles, voir assistance, voir prostitution, voir assistance régies, assistance régies, voir morts prostitution, morts prostitution...\n",
      "Bxl_1926_Tome_II1_Part_6.txt mentions these keywords: reçu recettes, vicinal de bruxelles, service ordinaire, recettes extraordinaires, service extraordinaire, subsides de l'etat, recettes ordinaires, chemin de fer, fer vicinal...\n",
      "Bxl_1928_Tome_II1_Part_2.txt mentions these keywords: reçu recettes, recettes extraordinaires, nature des recettes, service extraordinaire, l'école professionnelle, pensions communales, depense dépenses date...\n",
      "Bxl_1928_Tome_II2_Part_7.txt mentions these keywords: allocations dépenses effectuées, allocations dépenses, allocation allocations dépenses, évaluations recettes effectuées, dépenses effectuées, allocations modifiées, pensions communales, évaluations recettes, recettes effectuées, dépenses allocations modifiées, recettes reports...\n",
      "Bxl_1928_Tome_II2_Part_8.txt mentions these keywords: entretien des toitures, rafraîchissement des peintures, frais d'administration éclairage, jardin d'enfants, frais d'administration...\n",
      "Bxl_1928_Tome_II2_Part_9.txt mentions these keywords: commune de laeken, l'ancienne commune, recettes effectuées, voir art., crédit communal, ville de bruxelles...\n",
      "Bxl_1929_Tome_II1_Part_3.txt mentions these keywords: foyer bruxellois, pensions communales, frais d'administration...\n",
      "Bxl_1929_Tome_II1_Part_4.txt mentions these keywords: commission d'assistance publique, commission d'assistance, service extraordinaire, ville de bruxelles, recettes extraordinaires, chemin de fer, d'assistance publique...\n"
     ]
    }
   ],
   "source": [
    "for f in sorted(cluster_9):\n",
    "    text = open(f'{data_path}/{f}', encoding='utf-8').read()\n",
    "    keywords = kw_extractor.extract_keywords(text)\n",
    "    kept = []\n",
    "    for score, kw in keywords:\n",
    "        words = kw.split()\n",
    "        if len(words) > 1 and kw not in ignored:\n",
    "            kept.append(kw)\n",
    "    print(f\"{f} mentions these keywords: {', '.join(kept)}...\")"
   ]
  },
  {
   "cell_type": "code",
   "execution_count": null,
   "metadata": {},
   "outputs": [],
   "source": []
  }
 ]
}