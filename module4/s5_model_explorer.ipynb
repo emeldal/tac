{
 "metadata": {
  "language_info": {
   "codemirror_mode": {
    "name": "ipython",
    "version": 3
   },
   "file_extension": ".py",
   "mimetype": "text/x-python",
   "name": "python",
   "nbconvert_exporter": "python",
   "pygments_lexer": "ipython3",
   "version": "3.8.6-final"
  },
  "orig_nbformat": 2,
  "kernelspec": {
   "name": "python3",
   "display_name": "Python 3.8.6 64-bit",
   "metadata": {
    "interpreter": {
     "hash": "b035f594501fd99b0ba4fdbf39dd3ef4592c3539e4ec00f8ba05c88e0c5143ba"
    }
   }
  }
 },
 "nbformat": 4,
 "nbformat_minor": 2,
 "cells": [
  {
   "cell_type": "code",
   "execution_count": 1,
   "metadata": {},
   "outputs": [],
   "source": [
    "from gensim.models import Word2Vec\n",
    "from pprint import pprint"
   ]
  },
  {
   "source": [
    "# Charger le modèle que nous venons de créer"
   ],
   "cell_type": "markdown",
   "metadata": {}
  },
  {
   "cell_type": "code",
   "execution_count": 6,
   "metadata": {},
   "outputs": [],
   "source": [
    "model = Word2Vec.load(\"../data/bulletins.model\")"
   ]
  },
  {
   "cell_type": "code",
   "execution_count": null,
   "metadata": {},
   "outputs": [],
   "source": [
    "#TP "
   ]
  },
  {
   "cell_type": "code",
   "execution_count": null,
   "metadata": {},
   "outputs": [],
   "source": [
    "#Similarity"
   ]
  },
  {
   "cell_type": "code",
   "execution_count": null,
   "metadata": {},
   "outputs": [],
   "source": []
  },
  {
   "cell_type": "code",
   "execution_count": null,
   "metadata": {},
   "outputs": [],
   "source": []
  },
  {
   "cell_type": "code",
   "execution_count": null,
   "metadata": {},
   "outputs": [],
   "source": []
  },
  {
   "cell_type": "code",
   "execution_count": 88,
   "metadata": {},
   "outputs": [
    {
     "output_type": "execute_result",
     "data": {
      "text/plain": [
       "0.30811498"
      ]
     },
     "metadata": {},
     "execution_count": 88
    }
   ],
   "source": [
    "model.wv.similarity(\"plainte\", \"travaux_publics\")"
   ]
  },
  {
   "cell_type": "code",
   "execution_count": 62,
   "metadata": {},
   "outputs": [
    {
     "output_type": "execute_result",
     "data": {
      "text/plain": [
       "0.32667747"
      ]
     },
     "metadata": {},
     "execution_count": 62
    }
   ],
   "source": [
    "model.wv.similarity(\"lemonnier\", \"écrivain\")"
   ]
  },
  {
   "cell_type": "code",
   "execution_count": 63,
   "metadata": {},
   "outputs": [
    {
     "output_type": "execute_result",
     "data": {
      "text/plain": [
       "0.6074219"
      ]
     },
     "metadata": {},
     "execution_count": 63
    }
   ],
   "source": [
    "model.wv.similarity(\"lemonnier\", \"échevin\")"
   ]
  },
  {
   "cell_type": "code",
   "execution_count": null,
   "metadata": {},
   "outputs": [],
   "source": [
    "#Most similar"
   ]
  },
  {
   "cell_type": "code",
   "execution_count": 92,
   "metadata": {},
   "outputs": [
    {
     "output_type": "execute_result",
     "data": {
      "text/plain": [
       "[('femme', 0.8326683044433594),\n",
       " ('faim', 0.785427451133728),\n",
       " ('fille', 0.7698559761047363),\n",
       " ('gloire', 0.7620421648025513),\n",
       " ('sensibilité', 0.7585645318031311),\n",
       " ('vie', 0.7515718936920166),\n",
       " ('victime', 0.7512590885162354),\n",
       " ('patrie', 0.7467892169952393),\n",
       " ('mère', 0.7428019046783447),\n",
       " ('profession', 0.7369546890258789),\n",
       " ('négligence', 0.7366085648536682),\n",
       " ('servante', 0.7356831431388855),\n",
       " ('jeune_fille', 0.733073353767395),\n",
       " ('farce', 0.7314366102218628),\n",
       " ('mémoire', 0.7267888188362122),\n",
       " ('jeune', 0.7253012657165527),\n",
       " ('résidence', 0.7240597009658813),\n",
       " ('sœur', 0.7215498685836792),\n",
       " ('résistance', 0.717569887638092),\n",
       " ('catastrophe', 0.7127062082290649)]"
      ]
     },
     "metadata": {},
     "execution_count": 92
    }
   ],
   "source": [
    "model.wv.most_similar(\"mort\", topn = 20)"
   ]
  },
  {
   "cell_type": "code",
   "execution_count": 107,
   "metadata": {},
   "outputs": [
    {
     "output_type": "execute_result",
     "data": {
      "text/plain": [
       "[('echevin', 0.856795608997345),\n",
       " ('eehevin', 0.8231275081634521),\n",
       " ('ingénieur', 0.7942478656768799),\n",
       " ('architecte', 0.7920498847961426),\n",
       " ('archiviste', 0.7850217223167419),\n",
       " ('éminent', 0.7844066619873047),\n",
       " ('avocat', 0.7760211229324341),\n",
       " ('échevinat', 0.7752231359481812),\n",
       " ('echevin_walravens', 0.7665473818778992),\n",
       " ('collègue', 0.7664458155632019),\n",
       " ('echevin_xavier_carton', 0.7599506378173828),\n",
       " ('echevin_funck', 0.7594342231750488),\n",
       " ('administrateur', 0.7589771151542664),\n",
       " ('honorable', 0.7587870359420776),\n",
       " ('echevin_snyers', 0.7582530975341797),\n",
       " ('organe', 0.7557948231697083),\n",
       " ('echevin_wauwermans', 0.7513312101364136),\n",
       " ('echevin_hallet', 0.7492620348930359),\n",
       " ('echevin_lemonnier', 0.749118983745575),\n",
       " ('echevin_coelst', 0.747954249382019)]"
      ]
     },
     "metadata": {},
     "execution_count": 107
    }
   ],
   "source": [
    "model.wv.most_similar(\"échevin\", topn = 20)"
   ]
  },
  {
   "cell_type": "code",
   "execution_count": 109,
   "metadata": {},
   "outputs": [
    {
     "output_type": "execute_result",
     "data": {
      "text/plain": [
       "[('commission_administrative', 0.811050295829773),\n",
       " ('commission_médicale_locale', 0.757682740688324),\n",
       " ('commission_médicale', 0.7443201541900635),\n",
       " ('directrice', 0.7418143153190613),\n",
       " ('république', 0.7380293607711792),\n",
       " ('commission_composée', 0.7368501424789429),\n",
       " ('commission_spéciale', 0.7237640619277954),\n",
       " ('chambre', 0.7230517864227295),\n",
       " ('république_française', 0.7165466547012329),\n",
       " ('direction_générale', 0.7115806341171265),\n",
       " ('municipalité', 0.7042933106422424),\n",
       " ('direction', 0.7037798762321472),\n",
       " ('division_judiciaire', 0.7019078731536865),\n",
       " ('commission_consultative', 0.6955252885818481),\n",
       " ('présidente', 0.6948394775390625),\n",
       " ('doctoresse', 0.6927876472473145),\n",
       " ('conférence', 0.6900545358657837),\n",
       " ('prévoyance_sociale', 0.6869956254959106),\n",
       " ('fille', 0.6856781244277954),\n",
       " ('cour_militaire', 0.6827321648597717),\n",
       " ('prison_communale', 0.682219922542572),\n",
       " ('demoiselle', 0.6801109910011292),\n",
       " ('magistrature', 0.6786444783210754),\n",
       " ('dilapidation', 0.6766033172607422),\n",
       " ('brigade', 0.6757681369781494),\n",
       " ('seclion', 0.6741729378700256),\n",
       " ('démission', 0.6734676957130432),\n",
       " ('haye', 0.6712325811386108),\n",
       " ('croix_civique', 0.6687617897987366),\n",
       " ('toge', 0.6684670448303223)]"
      ]
     },
     "metadata": {},
     "execution_count": 109
    }
   ],
   "source": [
    "model.wv.most_similar(positive=['échevin', 'femme'], negative=['homme'], topn=30)"
   ]
  },
  {
   "cell_type": "code",
   "execution_count": 105,
   "metadata": {},
   "outputs": [
    {
     "output_type": "execute_result",
     "data": {
      "text/plain": [
       "[('optimisme', 0.7867653369903564),\n",
       " ('architecte', 0.7648032903671265),\n",
       " ('éloge', 0.7465404272079468),\n",
       " ('echevin', 0.7260741591453552),\n",
       " ('orateur', 0.7256171107292175),\n",
       " ('organe', 0.7233036756515503),\n",
       " ('hommage', 0.7152506113052368),\n",
       " ('echevin_walravens', 0.7071906328201294),\n",
       " ('jurisconsulte', 0.7050347328186035),\n",
       " ('éminent', 0.6952524185180664),\n",
       " ('echevin_merten', 0.694402813911438),\n",
       " ('élan', 0.6933696269989014),\n",
       " ('apaisement', 0.691271960735321),\n",
       " ('orgueil', 0.6902430653572083),\n",
       " ('hamale', 0.6843153834342957),\n",
       " ('confrère', 0.6841634511947632),\n",
       " ('collaborateur', 0.6837630271911621),\n",
       " ('echevin_funck', 0.6837599873542786),\n",
       " ('collègue', 0.6835540533065796),\n",
       " ('echevin_steens_fait', 0.6795467734336853),\n",
       " ('echevin_coelst', 0.6795440912246704),\n",
       " ('esprit', 0.6769717931747437),\n",
       " ('echevin_piron', 0.6753411889076233),\n",
       " ('avocat', 0.6742560863494873),\n",
       " ('argument', 0.6731845140457153),\n",
       " ('honorable', 0.6713704466819763),\n",
       " ('ennui', 0.669861912727356),\n",
       " ('echevin_cooremans', 0.6683902144432068),\n",
       " ('echevin_janssen', 0.6679413318634033),\n",
       " ('savant', 0.6678063273429871)]"
      ]
     },
     "metadata": {},
     "execution_count": 105
    }
   ],
   "source": [
    "model.wv.most_similar(positive=['échevin', 'homme'], negative=['femme'], topn=30)"
   ]
  },
  {
   "cell_type": "code",
   "execution_count": 39,
   "metadata": {},
   "outputs": [
    {
     "output_type": "execute_result",
     "data": {
      "text/plain": [
       "[('londres', 0.817918598651886)]"
      ]
     },
     "metadata": {},
     "execution_count": 39
    }
   ],
   "source": [
    "model.wv.most_similar(positive=['parc_léopold', 'france', 'paris'], negative=['belgique'], topn=1)"
   ]
  },
  {
   "cell_type": "code",
   "execution_count": 44,
   "metadata": {},
   "outputs": [
    {
     "output_type": "execute_result",
     "data": {
      "text/plain": [
       "[('londres', 0.8137189149856567)]"
      ]
     },
     "metadata": {},
     "execution_count": 44
    }
   ],
   "source": [
    "model.wv.most_similar(positive=['musée', 'france', 'paris'], negative=['belgique'], topn=1)"
   ]
  },
  {
   "cell_type": "code",
   "execution_count": 89,
   "metadata": {},
   "outputs": [
    {
     "output_type": "execute_result",
     "data": {
      "text/plain": [
       "[('hollande', 0.8547706604003906)]"
      ]
     },
     "metadata": {},
     "execution_count": 89
    }
   ],
   "source": [
    "model.wv.most_similar(positive=['parc', 'france', 'paris'], negative=['bruxelles'], topn=1)"
   ]
  },
  {
   "cell_type": "code",
   "execution_count": null,
   "metadata": {},
   "outputs": [],
   "source": []
  },
  {
   "source": [
    "# Comment est représenté le mot \"rue\" ?"
   ],
   "cell_type": "markdown",
   "metadata": {}
  },
  {
   "cell_type": "code",
   "execution_count": 12,
   "metadata": {},
   "outputs": [
    {
     "output_type": "execute_result",
     "data": {
      "text/plain": [
       "array([-1.6785364 ,  2.200927  , -5.830919  ,  6.0833583 , -9.634218  ,\n",
       "       -4.9038305 ,  6.602333  , -3.4071739 , -2.5713754 ,  2.1913106 ,\n",
       "        3.6701412 , -2.2434688 ,  2.873038  , -7.0082254 ,  7.4527864 ,\n",
       "        1.9148597 , -1.1228794 , -5.920525  ,  4.565602  , -0.16923043,\n",
       "       10.194159  ,  7.559819  ,  6.3096886 ,  4.7653003 ,  5.7717957 ,\n",
       "       -5.2053437 ,  6.270701  , -5.3417716 , -0.39395985, -2.1917953 ,\n",
       "       -1.7870998 , -1.536982  ], dtype=float32)"
      ]
     },
     "metadata": {},
     "execution_count": 12
    }
   ],
   "source": [
    "model[\"rue\"]"
   ]
  },
  {
   "source": [
    "# Et fleuriste ?"
   ],
   "cell_type": "markdown",
   "metadata": {}
  },
  {
   "cell_type": "code",
   "execution_count": 13,
   "metadata": {},
   "outputs": [
    {
     "output_type": "execute_result",
     "data": {
      "text/plain": [
       "array([ 0.5290881 ,  0.3510833 , -0.1992454 ,  0.1516887 , -0.00896768,\n",
       "        0.38932088,  0.5873261 , -0.5370033 ,  0.17043306, -0.25008944,\n",
       "        0.26197088,  0.31287178,  0.7448433 ,  0.8177963 ,  1.6288619 ,\n",
       "       -0.06686424,  0.32248354, -1.133038  , -0.01219681, -0.11036482,\n",
       "        0.7077398 ,  1.1626943 ,  0.3957094 ,  1.0791135 , -0.458184  ,\n",
       "       -0.10762231, -0.08811574, -0.17639728, -0.21944213, -0.861967  ,\n",
       "       -0.37429827, -0.05947653], dtype=float32)"
      ]
     },
     "metadata": {},
     "execution_count": 13
    }
   ],
   "source": [
    "model['fleuriste']"
   ]
  },
  {
   "source": [
    "# Quel est leur similarité ?"
   ],
   "cell_type": "markdown",
   "metadata": {}
  },
  {
   "cell_type": "code",
   "execution_count": 5,
   "metadata": {},
   "outputs": [
    {
     "output_type": "execute_result",
     "data": {
      "text/plain": [
       "0.17197736"
      ]
     },
     "metadata": {},
     "execution_count": 5
    }
   ],
   "source": [
    "model.wv.similarity(\"loi\", \"juge\")"
   ]
  },
  {
   "source": [
    "# Quel mot est le plus proche de rue ?"
   ],
   "cell_type": "markdown",
   "metadata": {}
  },
  {
   "cell_type": "code",
   "execution_count": 15,
   "metadata": {},
   "outputs": [
    {
     "output_type": "execute_result",
     "data": {
      "text/plain": [
       "[('bue', 0.8710018992424011),\n",
       " ('rue_neuve', 0.8273180723190308),\n",
       " ('rne', 0.8238422870635986),\n",
       " ('hue', 0.8237603902816772),\n",
       " ('rue_aux_laines', 0.8024601936340332),\n",
       " ('eue', 0.7944050431251526),\n",
       " ('rues_steyls', 0.7935483455657959),\n",
       " ('propriete_sise_rue', 0.7910612225532532),\n",
       " ('vallee', 0.788445234298706),\n",
       " ('ruo', 0.7874885201454163)]"
      ]
     },
     "metadata": {},
     "execution_count": 15
    }
   ],
   "source": [
    "model.wv.most_similar(\"rue\", topn=10)"
   ]
  },
  {
   "source": [
    "# Et de Bruxelles ?"
   ],
   "cell_type": "markdown",
   "metadata": {}
  },
  {
   "cell_type": "code",
   "execution_count": 16,
   "metadata": {},
   "outputs": [
    {
     "output_type": "execute_result",
     "data": {
      "text/plain": [
       "[('laeken', 0.8167573809623718),\n",
       " ('paris', 0.8064873814582825),\n",
       " ('liege', 0.7689099311828613),\n",
       " ('lille', 0.7599616050720215),\n",
       " ('nivelles', 0.7489486932754517),\n",
       " ('ellememe', 0.7320723533630371),\n",
       " ('gand', 0.7130483388900757),\n",
       " ('londres', 0.7009923458099365),\n",
       " ('berlin', 0.6958152055740356),\n",
       " ('malines', 0.6851150393486023)]"
      ]
     },
     "metadata": {},
     "execution_count": 16
    }
   ],
   "source": [
    "model.wv.most_similar(\"bruxelles\")"
   ]
  },
  {
   "source": [
    "# Comment obtenir une ville de France grâce à notre modèle ?"
   ],
   "cell_type": "markdown",
   "metadata": {}
  },
  {
   "cell_type": "code",
   "execution_count": 17,
   "metadata": {},
   "outputs": [
    {
     "output_type": "execute_result",
     "data": {
      "text/plain": [
       "[('paris', 0.8709051609039307)]"
      ]
     },
     "metadata": {},
     "execution_count": 17
    }
   ],
   "source": [
    "model.wv.most_similar(positive=['bruxelles', 'france'], negative=['belgique'], topn=1)"
   ]
  },
  {
   "cell_type": "code",
   "execution_count": 18,
   "metadata": {},
   "outputs": [
    {
     "output_type": "execute_result",
     "data": {
      "text/plain": [
       "[('paris', 0.9137842655181885)]"
      ]
     },
     "metadata": {},
     "execution_count": 18
    }
   ],
   "source": [
    "model.wv.most_similar(positive=['bruxelles', 'liege', 'france'], negative=['belgique'], topn=1)"
   ]
  },
  {
   "cell_type": "code",
   "execution_count": null,
   "metadata": {},
   "outputs": [],
   "source": []
  }
 ]
}