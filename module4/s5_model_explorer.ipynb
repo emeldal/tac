{
 "metadata": {
  "language_info": {
   "codemirror_mode": {
    "name": "ipython",
    "version": 3
   },
   "file_extension": ".py",
   "mimetype": "text/x-python",
   "name": "python",
   "nbconvert_exporter": "python",
   "pygments_lexer": "ipython3",
   "version": "3.8.6-final"
  },
  "orig_nbformat": 2,
  "kernelspec": {
   "name": "python3",
   "display_name": "Python 3.8.6 64-bit",
   "metadata": {
    "interpreter": {
     "hash": "b035f594501fd99b0ba4fdbf39dd3ef4592c3539e4ec00f8ba05c88e0c5143ba"
    }
   }
  }
 },
 "nbformat": 4,
 "nbformat_minor": 2,
 "cells": [
  {
   "cell_type": "code",
   "execution_count": 3,
   "metadata": {},
   "outputs": [],
   "source": [
    "from gensim.models import Word2Vec\n",
    "from pprint import pprint"
   ]
  },
  {
   "source": [
    "# Charger le modèle que nous venons de créer"
   ],
   "cell_type": "markdown",
   "metadata": {}
  },
  {
   "cell_type": "code",
   "execution_count": 4,
   "metadata": {},
   "outputs": [],
   "source": [
    "model = Word2Vec.load(\"../data/bulletins.model\")"
   ]
  },
  {
   "cell_type": "code",
   "execution_count": null,
   "metadata": {},
   "outputs": [],
   "source": [
    "#TP "
   ]
  },
  {
   "cell_type": "code",
   "execution_count": null,
   "metadata": {},
   "outputs": [],
   "source": [
    "#Similarity"
   ]
  },
  {
   "cell_type": "code",
   "execution_count": null,
   "metadata": {},
   "outputs": [],
   "source": []
  },
  {
   "cell_type": "code",
   "execution_count": null,
   "metadata": {},
   "outputs": [],
   "source": []
  },
  {
   "cell_type": "code",
   "execution_count": null,
   "metadata": {},
   "outputs": [],
   "source": []
  },
  {
   "cell_type": "code",
   "execution_count": 88,
   "metadata": {},
   "outputs": [
    {
     "output_type": "execute_result",
     "data": {
      "text/plain": [
       "0.30811498"
      ]
     },
     "metadata": {},
     "execution_count": 88
    }
   ],
   "source": [
    "model.wv.similarity(\"plainte\", \"travaux_publics\")"
   ]
  },
  {
   "cell_type": "code",
   "execution_count": 62,
   "metadata": {},
   "outputs": [
    {
     "output_type": "execute_result",
     "data": {
      "text/plain": [
       "0.32667747"
      ]
     },
     "metadata": {},
     "execution_count": 62
    }
   ],
   "source": [
    "model.wv.similarity(\"lemonnier\", \"écrivain\")"
   ]
  },
  {
   "cell_type": "code",
   "execution_count": 38,
   "metadata": {},
   "outputs": [
    {
     "output_type": "execute_result",
     "data": {
      "text/plain": [
       "0.39061195"
      ]
     },
     "metadata": {},
     "execution_count": 38
    }
   ],
   "source": [
    "model.wv.similarity(\"hygiène\", \"maladie\")"
   ]
  },
  {
   "cell_type": "code",
   "execution_count": null,
   "metadata": {},
   "outputs": [],
   "source": [
    "#Most similar"
   ]
  },
  {
   "cell_type": "code",
   "execution_count": 35,
   "metadata": {},
   "outputs": [
    {
     "output_type": "execute_result",
     "data": {
      "text/plain": [
       "[('négligence', 0.8266419172286987),\n",
       " ('récompense', 0.8051564693450928),\n",
       " ('santé', 0.7935224771499634),\n",
       " ('vaccination', 0.7928429841995239),\n",
       " ('force_majeure', 0.7743736505508423),\n",
       " ('capacité', 0.7708619832992554),\n",
       " ('nationalité', 0.7621644735336304),\n",
       " ('infirmité', 0.7573320865631104),\n",
       " ('mobilisation', 0.753575325012207),\n",
       " ('persévérance', 0.7526835799217224),\n",
       " ('population', 0.7514170408248901),\n",
       " ('défaillance', 0.7509219646453857),\n",
       " ('répétition', 0.7496089935302734),\n",
       " ('promotion', 0.7468199729919434),\n",
       " ('grossesse', 0.7466235160827637),\n",
       " ('femme', 0.7462126016616821),\n",
       " ('incapacité', 0.7449336647987366),\n",
       " ('profession', 0.7432883977890015),\n",
       " ('langue_maternelle', 0.7421709299087524),\n",
       " ('constatation', 0.7409000396728516),\n",
       " ('fuite', 0.7317930459976196),\n",
       " ('misère', 0.7302957773208618),\n",
       " ('résidence', 0.7297866344451904),\n",
       " ('rémunération', 0.729554295539856),\n",
       " ('spécialité', 0.7294212579727173),\n",
       " ('besogne', 0.7290064096450806),\n",
       " ('guérison', 0.7289659380912781),\n",
       " ('contamination', 0.7267549633979797),\n",
       " ('punition', 0.7258068323135376),\n",
       " ('privation', 0.7257630825042725),\n",
       " ('assiduité', 0.7249062061309814),\n",
       " ('moralité', 0.7245498895645142),\n",
       " ('faiblesse', 0.7241266369819641),\n",
       " ('maladie_contagieuse', 0.7224558591842651),\n",
       " ('vacance', 0.7210849523544312),\n",
       " ('carrière', 0.7198905944824219),\n",
       " ('probité', 0.7192928194999695),\n",
       " ('paresse', 0.7174450755119324),\n",
       " ('compréhension', 0.7172112464904785),\n",
       " ('crise', 0.7161057591438293),\n",
       " ('naissance', 0.7134495973587036),\n",
       " ('population_bruxelloise', 0.7133557200431824),\n",
       " ('fréquentation', 0.713290274143219),\n",
       " ('représentation', 0.7131857872009277),\n",
       " ('propagation', 0.7124266028404236),\n",
       " ('résistance', 0.7119089365005493),\n",
       " ('gravité', 0.7068580985069275),\n",
       " ('vie', 0.7059151530265808),\n",
       " ('surveillance_constante', 0.7048400640487671),\n",
       " ('affection', 0.704537570476532)]"
      ]
     },
     "metadata": {},
     "execution_count": 35
    }
   ],
   "source": [
    "model.wv.most_similar(\"maladie\", topn = 50)"
   ]
  },
  {
   "cell_type": "code",
   "execution_count": 23,
   "metadata": {},
   "outputs": [
    {
     "output_type": "execute_result",
     "data": {
      "text/plain": [
       "[('proportion', 0.8408222198486328),\n",
       " ('subdivision', 0.8395031690597534),\n",
       " ('mortalité_infantile', 0.8311769962310791),\n",
       " ('moyenne_annuelle', 0.7834769487380981),\n",
       " ('recette_brute', 0.7744766473770142),\n",
       " ('mortalité_générale', 0.7669209241867065),\n",
       " ('natalité', 0.7663232088088989),\n",
       " ('progression', 0.7599426507949829),\n",
       " ('forte_proportion', 0.7574267387390137),\n",
       " ('léthalité', 0.7551364302635193),\n",
       " ('diminution', 0.7542051076889038),\n",
       " ('tuberculose_pulmonaire', 0.7540321350097656),\n",
       " ('consommation_annuelle', 0.739751935005188),\n",
       " ('tranche', 0.7385108470916748),\n",
       " ('différence', 0.7381976842880249),\n",
       " ('fièvre_typhoïde', 0.7314615249633789),\n",
       " ('gradation', 0.7293639183044434),\n",
       " ('retenue', 0.7277123928070068),\n",
       " ('régression', 0.7270214557647705),\n",
       " ('recelte', 0.7236934900283813),\n",
       " ('recette', 0.716113805770874),\n",
       " ('population', 0.7063912749290466),\n",
       " ('population_moyenne', 0.7063758373260498),\n",
       " ('catégorie', 0.7054686546325684),\n",
       " ('classe_riche', 0.7052249908447266),\n",
       " ('tuberculose', 0.702640950679779),\n",
       " ('distance_parcourue', 0.6997159719467163),\n",
       " ('norme', 0.699668288230896),\n",
       " ('prévision_budgétaire', 0.6970511674880981),\n",
       " ('population_scolaire', 0.6933257579803467),\n",
       " ('prévision', 0.6904534101486206),\n",
       " ('contribution', 0.686393141746521),\n",
       " ('moyenne', 0.6853103041648865),\n",
       " ('diminution_sensible', 0.6835524439811707),\n",
       " ('progression_constante', 0.6835223436355591),\n",
       " ('cotisation', 0.6828782558441162),\n",
       " ('quotité', 0.6826248168945312),\n",
       " ('décroissance', 0.6821708679199219),\n",
       " ('première_classe', 0.6788684129714966),\n",
       " ('seconde_catégorie', 0.6787618398666382),\n",
       " ('modicité', 0.6783264875411987),\n",
       " ('baisse', 0.6783185005187988),\n",
       " ('majoration', 0.6771582365036011),\n",
       " ('partie_mobile', 0.6749665141105652),\n",
       " ('quotepart', 0.6736025214195251),\n",
       " ('légère_augmentation', 0.6734058856964111),\n",
       " ('statistique', 0.6691937446594238),\n",
       " ('réduction', 0.6683264374732971),\n",
       " ('hausse', 0.6668910980224609),\n",
       " ('laxe', 0.6662462949752808)]"
      ]
     },
     "metadata": {},
     "execution_count": 23
    }
   ],
   "source": [
    "model.wv.most_similar(\"mortalité\", topn = 50)"
   ]
  },
  {
   "cell_type": "code",
   "execution_count": 33,
   "metadata": {},
   "outputs": [
    {
     "output_type": "execute_result",
     "data": {
      "text/plain": [
       "[('femme', 0.8326683044433594),\n",
       " ('faim', 0.785427451133728),\n",
       " ('fille', 0.7698559761047363),\n",
       " ('gloire', 0.7620421648025513),\n",
       " ('sensibilité', 0.7585645318031311),\n",
       " ('vie', 0.7515718936920166),\n",
       " ('victime', 0.7512590885162354),\n",
       " ('patrie', 0.7467892169952393),\n",
       " ('mère', 0.7428019046783447),\n",
       " ('profession', 0.7369546890258789),\n",
       " ('négligence', 0.7366085648536682),\n",
       " ('servante', 0.7356831431388855),\n",
       " ('jeune_fille', 0.733073353767395),\n",
       " ('farce', 0.7314366102218628),\n",
       " ('mémoire', 0.7267888188362122),\n",
       " ('jeune', 0.7253012657165527),\n",
       " ('résidence', 0.7240597009658813),\n",
       " ('sœur', 0.7215498685836792),\n",
       " ('résistance', 0.717569887638092),\n",
       " ('catastrophe', 0.7127062082290649),\n",
       " ('maman', 0.7122340798377991),\n",
       " ('modestie', 0.7107278108596802),\n",
       " ('tète', 0.7074063420295715),\n",
       " ('tragédie', 0.7058433890342712),\n",
       " ('haine', 0.7055927515029907),\n",
       " ('plaidoirie', 0.7032848596572876),\n",
       " ('civilisation', 0.7007613182067871),\n",
       " ('glorieux', 0.69597327709198),\n",
       " ('race', 0.6952691078186035),\n",
       " ('devise', 0.695136308670044),\n",
       " ('langue', 0.6934123635292053),\n",
       " ('arme', 0.6929183602333069),\n",
       " ('consolation', 0.6917661428451538),\n",
       " ('lieue', 0.6905094385147095),\n",
       " ('bourgeoisie', 0.6879814267158508),\n",
       " ('parade', 0.6868385672569275),\n",
       " ('domination', 0.6866514682769775),\n",
       " ('nation', 0.686575174331665),\n",
       " ('nationalité_étrangère', 0.6851024031639099),\n",
       " ('dynastie', 0.6834713220596313),\n",
       " ('vaillance', 0.6834425926208496),\n",
       " ('tête', 0.6824986934661865),\n",
       " ('constance', 0.6810926198959351),\n",
       " ('pauvreté', 0.6802984476089478),\n",
       " ('frontière', 0.6801630854606628),\n",
       " ('noble', 0.6799967288970947),\n",
       " ('réaction', 0.6784412860870361),\n",
       " ('fête', 0.6778151392936707),\n",
       " ('confrérie', 0.6777194142341614),\n",
       " ('compagne', 0.6767820119857788)]"
      ]
     },
     "metadata": {},
     "execution_count": 33
    }
   ],
   "source": [
    "model.wv.most_similar(\"mort\", topn = 50)"
   ]
  },
  {
   "cell_type": "code",
   "execution_count": 43,
   "metadata": {},
   "outputs": [
    {
     "output_type": "execute_result",
     "data": {
      "text/plain": [
       "[('apprentissage', 0.7971013188362122),\n",
       " ('attente', 0.7879961729049683),\n",
       " ('adjonction', 0.7775594592094421),\n",
       " ('admission', 0.7773429751396179),\n",
       " ('hébergement', 0.7768083810806274),\n",
       " ('hospitalisation', 0.776580810546875),\n",
       " ('enterrement', 0.772936999797821),\n",
       " ('autopsie', 0.7725673913955688),\n",
       " ('extinction', 0.7714563608169556),\n",
       " ('identification', 0.7596431374549866),\n",
       " ('encouragement', 0.7521430253982544),\n",
       " ('exhumation', 0.7494488954544067),\n",
       " ('enseignement_spécial', 0.7481845021247864),\n",
       " ('obtention', 0.7402969002723694),\n",
       " ('usure', 0.7387465238571167),\n",
       " ('inhumation', 0.7341371178627014),\n",
       " ('école_normale', 0.7299017310142517),\n",
       " ('incendie', 0.7278522253036499),\n",
       " ('émancipation', 0.7272573113441467),\n",
       " ('achat', 0.723258376121521),\n",
       " ('octroi', 0.7190403938293457),\n",
       " ('accession', 0.717073917388916),\n",
       " ('entreprise_privée', 0.7166321277618408),\n",
       " ('utilité_générale', 0.7159323692321777),\n",
       " ('enseignement_moyen', 0.7149112224578857),\n",
       " ('aptitude', 0.7128516435623169),\n",
       " ('inactivité', 0.71157306432724),\n",
       " ('émission', 0.7067689895629883),\n",
       " ('équipement', 0.7048157453536987),\n",
       " ('essai', 0.7039483189582825),\n",
       " ('aiguille', 0.6985427141189575),\n",
       " ('occupation', 0.6973371505737305),\n",
       " ('indigence', 0.6965347528457642),\n",
       " ('entraînement', 0.6944459080696106),\n",
       " ('institut_eastman', 0.6938804388046265),\n",
       " ('insolvabilité', 0.6919747591018677),\n",
       " ('agrément', 0.691749095916748),\n",
       " ('emploi', 0.6908369660377502),\n",
       " ('éducation_physique', 0.6904168128967285),\n",
       " ('attribution', 0.6899454593658447),\n",
       " ('aide_sociale', 0.6891634464263916),\n",
       " ('inscription', 0.6826438307762146),\n",
       " ('insalubrité', 0.6823468208312988),\n",
       " ('apposition', 0.680172860622406),\n",
       " ('anesthésie', 0.6801570057868958),\n",
       " ('antique', 0.6769808530807495),\n",
       " ('instruction_primaire', 0.6748584508895874),\n",
       " ('imprévu', 0.6723390817642212),\n",
       " ('enseignement_normal', 0.6700564622879028),\n",
       " ('établissement', 0.6692105531692505)]"
      ]
     },
     "metadata": {},
     "execution_count": 43
    }
   ],
   "source": [
    "model.wv.most_similar(\"accouchement\", topn = 50)"
   ]
  },
  {
   "cell_type": "code",
   "execution_count": 49,
   "metadata": {},
   "outputs": [
    {
     "output_type": "execute_result",
     "data": {
      "text/plain": [
       "[('proportion', 0.8408222198486328),\n",
       " ('subdivision', 0.8395031690597534),\n",
       " ('mortalité_infantile', 0.8311769962310791),\n",
       " ('moyenne_annuelle', 0.7834769487380981),\n",
       " ('recette_brute', 0.7744766473770142),\n",
       " ('mortalité_générale', 0.7669209241867065),\n",
       " ('natalité', 0.7663232088088989),\n",
       " ('progression', 0.7599426507949829),\n",
       " ('forte_proportion', 0.7574267387390137),\n",
       " ('léthalité', 0.7551364302635193),\n",
       " ('diminution', 0.7542051076889038),\n",
       " ('tuberculose_pulmonaire', 0.7540321350097656),\n",
       " ('consommation_annuelle', 0.739751935005188),\n",
       " ('tranche', 0.7385108470916748),\n",
       " ('différence', 0.7381976842880249),\n",
       " ('fièvre_typhoïde', 0.7314615249633789),\n",
       " ('gradation', 0.7293639183044434),\n",
       " ('retenue', 0.7277123928070068),\n",
       " ('régression', 0.7270214557647705),\n",
       " ('recelte', 0.7236934900283813),\n",
       " ('recette', 0.716113805770874),\n",
       " ('population', 0.7063912749290466),\n",
       " ('population_moyenne', 0.7063758373260498),\n",
       " ('catégorie', 0.7054686546325684),\n",
       " ('classe_riche', 0.7052249908447266),\n",
       " ('tuberculose', 0.702640950679779),\n",
       " ('distance_parcourue', 0.6997159719467163),\n",
       " ('norme', 0.699668288230896),\n",
       " ('prévision_budgétaire', 0.6970511674880981),\n",
       " ('population_scolaire', 0.6933257579803467),\n",
       " ('prévision', 0.6904534101486206),\n",
       " ('contribution', 0.686393141746521),\n",
       " ('moyenne', 0.6853103041648865),\n",
       " ('diminution_sensible', 0.6835524439811707),\n",
       " ('progression_constante', 0.6835223436355591),\n",
       " ('cotisation', 0.6828782558441162),\n",
       " ('quotité', 0.6826248168945312),\n",
       " ('décroissance', 0.6821708679199219),\n",
       " ('première_classe', 0.6788684129714966),\n",
       " ('seconde_catégorie', 0.6787618398666382),\n",
       " ('modicité', 0.6783264875411987),\n",
       " ('baisse', 0.6783185005187988),\n",
       " ('majoration', 0.6771582365036011),\n",
       " ('partie_mobile', 0.6749665141105652),\n",
       " ('quotepart', 0.6736025214195251),\n",
       " ('légère_augmentation', 0.6734058856964111),\n",
       " ('statistique', 0.6691937446594238),\n",
       " ('réduction', 0.6683264374732971),\n",
       " ('hausse', 0.6668910980224609),\n",
       " ('laxe', 0.6662462949752808)]"
      ]
     },
     "metadata": {},
     "execution_count": 49
    }
   ],
   "source": [
    "model.wv.most_similar(\"mortalité\", topn = 50)"
   ]
  },
  {
   "cell_type": "code",
   "execution_count": 109,
   "metadata": {},
   "outputs": [
    {
     "output_type": "execute_result",
     "data": {
      "text/plain": [
       "[('commission_administrative', 0.811050295829773),\n",
       " ('commission_médicale_locale', 0.757682740688324),\n",
       " ('commission_médicale', 0.7443201541900635),\n",
       " ('directrice', 0.7418143153190613),\n",
       " ('république', 0.7380293607711792),\n",
       " ('commission_composée', 0.7368501424789429),\n",
       " ('commission_spéciale', 0.7237640619277954),\n",
       " ('chambre', 0.7230517864227295),\n",
       " ('république_française', 0.7165466547012329),\n",
       " ('direction_générale', 0.7115806341171265),\n",
       " ('municipalité', 0.7042933106422424),\n",
       " ('direction', 0.7037798762321472),\n",
       " ('division_judiciaire', 0.7019078731536865),\n",
       " ('commission_consultative', 0.6955252885818481),\n",
       " ('présidente', 0.6948394775390625),\n",
       " ('doctoresse', 0.6927876472473145),\n",
       " ('conférence', 0.6900545358657837),\n",
       " ('prévoyance_sociale', 0.6869956254959106),\n",
       " ('fille', 0.6856781244277954),\n",
       " ('cour_militaire', 0.6827321648597717),\n",
       " ('prison_communale', 0.682219922542572),\n",
       " ('demoiselle', 0.6801109910011292),\n",
       " ('magistrature', 0.6786444783210754),\n",
       " ('dilapidation', 0.6766033172607422),\n",
       " ('brigade', 0.6757681369781494),\n",
       " ('seclion', 0.6741729378700256),\n",
       " ('démission', 0.6734676957130432),\n",
       " ('haye', 0.6712325811386108),\n",
       " ('croix_civique', 0.6687617897987366),\n",
       " ('toge', 0.6684670448303223)]"
      ]
     },
     "metadata": {},
     "execution_count": 109
    }
   ],
   "source": [
    "model.wv.most_similar(positive=['échevin', 'femme'], negative=['homme'], topn=30)"
   ]
  },
  {
   "cell_type": "code",
   "execution_count": 105,
   "metadata": {},
   "outputs": [
    {
     "output_type": "execute_result",
     "data": {
      "text/plain": [
       "[('optimisme', 0.7867653369903564),\n",
       " ('architecte', 0.7648032903671265),\n",
       " ('éloge', 0.7465404272079468),\n",
       " ('echevin', 0.7260741591453552),\n",
       " ('orateur', 0.7256171107292175),\n",
       " ('organe', 0.7233036756515503),\n",
       " ('hommage', 0.7152506113052368),\n",
       " ('echevin_walravens', 0.7071906328201294),\n",
       " ('jurisconsulte', 0.7050347328186035),\n",
       " ('éminent', 0.6952524185180664),\n",
       " ('echevin_merten', 0.694402813911438),\n",
       " ('élan', 0.6933696269989014),\n",
       " ('apaisement', 0.691271960735321),\n",
       " ('orgueil', 0.6902430653572083),\n",
       " ('hamale', 0.6843153834342957),\n",
       " ('confrère', 0.6841634511947632),\n",
       " ('collaborateur', 0.6837630271911621),\n",
       " ('echevin_funck', 0.6837599873542786),\n",
       " ('collègue', 0.6835540533065796),\n",
       " ('echevin_steens_fait', 0.6795467734336853),\n",
       " ('echevin_coelst', 0.6795440912246704),\n",
       " ('esprit', 0.6769717931747437),\n",
       " ('echevin_piron', 0.6753411889076233),\n",
       " ('avocat', 0.6742560863494873),\n",
       " ('argument', 0.6731845140457153),\n",
       " ('honorable', 0.6713704466819763),\n",
       " ('ennui', 0.669861912727356),\n",
       " ('echevin_cooremans', 0.6683902144432068),\n",
       " ('echevin_janssen', 0.6679413318634033),\n",
       " ('savant', 0.6678063273429871)]"
      ]
     },
     "metadata": {},
     "execution_count": 105
    }
   ],
   "source": [
    "model.wv.most_similar(positive=['échevin', 'homme'], negative=['femme'], topn=30)"
   ]
  },
  {
   "cell_type": "code",
   "execution_count": 39,
   "metadata": {},
   "outputs": [
    {
     "output_type": "execute_result",
     "data": {
      "text/plain": [
       "[('londres', 0.817918598651886)]"
      ]
     },
     "metadata": {},
     "execution_count": 39
    }
   ],
   "source": [
    "model.wv.most_similar(positive=['parc_léopold', 'france', 'paris'], negative=['belgique'], topn=1)"
   ]
  },
  {
   "cell_type": "code",
   "execution_count": 44,
   "metadata": {},
   "outputs": [
    {
     "output_type": "execute_result",
     "data": {
      "text/plain": [
       "[('londres', 0.8137189149856567)]"
      ]
     },
     "metadata": {},
     "execution_count": 44
    }
   ],
   "source": [
    "model.wv.most_similar(positive=['musée', 'france', 'paris'], negative=['belgique'], topn=1)"
   ]
  },
  {
   "cell_type": "code",
   "execution_count": 89,
   "metadata": {},
   "outputs": [
    {
     "output_type": "execute_result",
     "data": {
      "text/plain": [
       "[('hollande', 0.8547706604003906)]"
      ]
     },
     "metadata": {},
     "execution_count": 89
    }
   ],
   "source": [
    "model.wv.most_similar(positive=['parc', 'france', 'paris'], negative=['bruxelles'], topn=1)"
   ]
  },
  {
   "cell_type": "code",
   "execution_count": null,
   "metadata": {},
   "outputs": [],
   "source": []
  },
  {
   "source": [
    "# Comment est représenté le mot \"rue\" ?"
   ],
   "cell_type": "markdown",
   "metadata": {}
  },
  {
   "cell_type": "code",
   "execution_count": 12,
   "metadata": {},
   "outputs": [
    {
     "output_type": "execute_result",
     "data": {
      "text/plain": [
       "array([-1.6785364 ,  2.200927  , -5.830919  ,  6.0833583 , -9.634218  ,\n",
       "       -4.9038305 ,  6.602333  , -3.4071739 , -2.5713754 ,  2.1913106 ,\n",
       "        3.6701412 , -2.2434688 ,  2.873038  , -7.0082254 ,  7.4527864 ,\n",
       "        1.9148597 , -1.1228794 , -5.920525  ,  4.565602  , -0.16923043,\n",
       "       10.194159  ,  7.559819  ,  6.3096886 ,  4.7653003 ,  5.7717957 ,\n",
       "       -5.2053437 ,  6.270701  , -5.3417716 , -0.39395985, -2.1917953 ,\n",
       "       -1.7870998 , -1.536982  ], dtype=float32)"
      ]
     },
     "metadata": {},
     "execution_count": 12
    }
   ],
   "source": [
    "model[\"rue\"]"
   ]
  },
  {
   "source": [
    "# Et fleuriste ?"
   ],
   "cell_type": "markdown",
   "metadata": {}
  },
  {
   "cell_type": "code",
   "execution_count": 13,
   "metadata": {},
   "outputs": [
    {
     "output_type": "execute_result",
     "data": {
      "text/plain": [
       "array([ 0.5290881 ,  0.3510833 , -0.1992454 ,  0.1516887 , -0.00896768,\n",
       "        0.38932088,  0.5873261 , -0.5370033 ,  0.17043306, -0.25008944,\n",
       "        0.26197088,  0.31287178,  0.7448433 ,  0.8177963 ,  1.6288619 ,\n",
       "       -0.06686424,  0.32248354, -1.133038  , -0.01219681, -0.11036482,\n",
       "        0.7077398 ,  1.1626943 ,  0.3957094 ,  1.0791135 , -0.458184  ,\n",
       "       -0.10762231, -0.08811574, -0.17639728, -0.21944213, -0.861967  ,\n",
       "       -0.37429827, -0.05947653], dtype=float32)"
      ]
     },
     "metadata": {},
     "execution_count": 13
    }
   ],
   "source": [
    "model['fleuriste']"
   ]
  },
  {
   "source": [
    "# Quel est leur similarité ?"
   ],
   "cell_type": "markdown",
   "metadata": {}
  },
  {
   "cell_type": "code",
   "execution_count": 47,
   "metadata": {},
   "outputs": [
    {
     "output_type": "execute_result",
     "data": {
      "text/plain": [
       "0.74610484"
      ]
     },
     "metadata": {},
     "execution_count": 47
    }
   ],
   "source": [
    "model.wv.similarity(\"enfant\", \"mort\")"
   ]
  },
  {
   "cell_type": "code",
   "execution_count": 51,
   "metadata": {},
   "outputs": [
    {
     "output_type": "execute_result",
     "data": {
      "text/plain": [
       "0.82493174"
      ]
     },
     "metadata": {},
     "execution_count": 51
    }
   ],
   "source": [
    "model.wv.similarity(\"enfants\", \"malades\")"
   ]
  },
  {
   "cell_type": "code",
   "execution_count": 52,
   "metadata": {},
   "outputs": [
    {
     "output_type": "execute_result",
     "data": {
      "text/plain": [
       "0.80110383"
      ]
     },
     "metadata": {},
     "execution_count": 52
    }
   ],
   "source": [
    "model.wv.similarity(\"femmes\", \"malades\")"
   ]
  },
  {
   "cell_type": "code",
   "execution_count": 53,
   "metadata": {},
   "outputs": [
    {
     "output_type": "execute_result",
     "data": {
      "text/plain": [
       "0.76140994"
      ]
     },
     "metadata": {},
     "execution_count": 53
    }
   ],
   "source": [
    "model.wv.similarity(\"hommes\", \"malades\")"
   ]
  },
  {
   "source": [
    "# Quel mot est le plus proche de rue ?"
   ],
   "cell_type": "markdown",
   "metadata": {}
  },
  {
   "cell_type": "code",
   "execution_count": 15,
   "metadata": {},
   "outputs": [
    {
     "output_type": "execute_result",
     "data": {
      "text/plain": [
       "[('bue', 0.8710018992424011),\n",
       " ('rue_neuve', 0.8273180723190308),\n",
       " ('rne', 0.8238422870635986),\n",
       " ('hue', 0.8237603902816772),\n",
       " ('rue_aux_laines', 0.8024601936340332),\n",
       " ('eue', 0.7944050431251526),\n",
       " ('rues_steyls', 0.7935483455657959),\n",
       " ('propriete_sise_rue', 0.7910612225532532),\n",
       " ('vallee', 0.788445234298706),\n",
       " ('ruo', 0.7874885201454163)]"
      ]
     },
     "metadata": {},
     "execution_count": 15
    }
   ],
   "source": [
    "model.wv.most_similar(\"rue\", topn=10)"
   ]
  },
  {
   "source": [
    "# Et de Bruxelles ?"
   ],
   "cell_type": "markdown",
   "metadata": {}
  },
  {
   "cell_type": "code",
   "execution_count": 16,
   "metadata": {},
   "outputs": [
    {
     "output_type": "execute_result",
     "data": {
      "text/plain": [
       "[('laeken', 0.8167573809623718),\n",
       " ('paris', 0.8064873814582825),\n",
       " ('liege', 0.7689099311828613),\n",
       " ('lille', 0.7599616050720215),\n",
       " ('nivelles', 0.7489486932754517),\n",
       " ('ellememe', 0.7320723533630371),\n",
       " ('gand', 0.7130483388900757),\n",
       " ('londres', 0.7009923458099365),\n",
       " ('berlin', 0.6958152055740356),\n",
       " ('malines', 0.6851150393486023)]"
      ]
     },
     "metadata": {},
     "execution_count": 16
    }
   ],
   "source": [
    "model.wv.most_similar(\"bruxelles\")"
   ]
  },
  {
   "source": [
    "# Comment obtenir une ville de France grâce à notre modèle ?"
   ],
   "cell_type": "markdown",
   "metadata": {}
  },
  {
   "cell_type": "code",
   "execution_count": 17,
   "metadata": {},
   "outputs": [
    {
     "output_type": "execute_result",
     "data": {
      "text/plain": [
       "[('paris', 0.8709051609039307)]"
      ]
     },
     "metadata": {},
     "execution_count": 17
    }
   ],
   "source": [
    "model.wv.most_similar(positive=['bruxelles', 'france'], negative=['belgique'], topn=1)"
   ]
  },
  {
   "cell_type": "code",
   "execution_count": 18,
   "metadata": {},
   "outputs": [
    {
     "output_type": "execute_result",
     "data": {
      "text/plain": [
       "[('paris', 0.9137842655181885)]"
      ]
     },
     "metadata": {},
     "execution_count": 18
    }
   ],
   "source": [
    "model.wv.most_similar(positive=['bruxelles', 'liege', 'france'], negative=['belgique'], topn=1)"
   ]
  },
  {
   "cell_type": "code",
   "execution_count": null,
   "metadata": {},
   "outputs": [],
   "source": []
  }
 ]
}