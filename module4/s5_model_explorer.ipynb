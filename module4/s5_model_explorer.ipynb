{
 "metadata": {
  "language_info": {
   "codemirror_mode": {
    "name": "ipython",
    "version": 3
   },
   "file_extension": ".py",
   "mimetype": "text/x-python",
   "name": "python",
   "nbconvert_exporter": "python",
   "pygments_lexer": "ipython3",
   "version": "3.8.6-final"
  },
  "orig_nbformat": 2,
  "kernelspec": {
   "name": "python3",
   "display_name": "Python 3.8.6 64-bit",
   "metadata": {
    "interpreter": {
     "hash": "b035f594501fd99b0ba4fdbf39dd3ef4592c3539e4ec00f8ba05c88e0c5143ba"
    }
   }
  }
 },
 "nbformat": 4,
 "nbformat_minor": 2,
 "cells": [
  {
   "cell_type": "code",
   "execution_count": 1,
   "metadata": {},
   "outputs": [],
   "source": [
    "from gensim.models import Word2Vec\n",
    "from pprint import pprint"
   ]
  },
  {
   "source": [
    "# Charger le modèle que nous venons de créer"
   ],
   "cell_type": "markdown",
   "metadata": {}
  },
  {
   "cell_type": "code",
   "execution_count": 2,
   "metadata": {},
   "outputs": [],
   "source": [
    "model = Word2Vec.load(\"../data/bulletins.model\")"
   ]
  },
  {
   "source": [
    "# Comment est représenté le mot \"rue\" ?"
   ],
   "cell_type": "markdown",
   "metadata": {}
  },
  {
   "cell_type": "code",
   "execution_count": 12,
   "metadata": {},
   "outputs": [
    {
     "output_type": "execute_result",
     "data": {
      "text/plain": [
       "array([-1.6785364 ,  2.200927  , -5.830919  ,  6.0833583 , -9.634218  ,\n",
       "       -4.9038305 ,  6.602333  , -3.4071739 , -2.5713754 ,  2.1913106 ,\n",
       "        3.6701412 , -2.2434688 ,  2.873038  , -7.0082254 ,  7.4527864 ,\n",
       "        1.9148597 , -1.1228794 , -5.920525  ,  4.565602  , -0.16923043,\n",
       "       10.194159  ,  7.559819  ,  6.3096886 ,  4.7653003 ,  5.7717957 ,\n",
       "       -5.2053437 ,  6.270701  , -5.3417716 , -0.39395985, -2.1917953 ,\n",
       "       -1.7870998 , -1.536982  ], dtype=float32)"
      ]
     },
     "metadata": {},
     "execution_count": 12
    }
   ],
   "source": [
    "model[\"rue\"]"
   ]
  },
  {
   "source": [
    "# Et fleuriste ?"
   ],
   "cell_type": "markdown",
   "metadata": {}
  },
  {
   "cell_type": "code",
   "execution_count": 13,
   "metadata": {},
   "outputs": [
    {
     "output_type": "execute_result",
     "data": {
      "text/plain": [
       "array([ 0.5290881 ,  0.3510833 , -0.1992454 ,  0.1516887 , -0.00896768,\n",
       "        0.38932088,  0.5873261 , -0.5370033 ,  0.17043306, -0.25008944,\n",
       "        0.26197088,  0.31287178,  0.7448433 ,  0.8177963 ,  1.6288619 ,\n",
       "       -0.06686424,  0.32248354, -1.133038  , -0.01219681, -0.11036482,\n",
       "        0.7077398 ,  1.1626943 ,  0.3957094 ,  1.0791135 , -0.458184  ,\n",
       "       -0.10762231, -0.08811574, -0.17639728, -0.21944213, -0.861967  ,\n",
       "       -0.37429827, -0.05947653], dtype=float32)"
      ]
     },
     "metadata": {},
     "execution_count": 13
    }
   ],
   "source": [
    "model['fleuriste']"
   ]
  },
  {
   "source": [
    "# Quel est leur similarité ?"
   ],
   "cell_type": "markdown",
   "metadata": {}
  },
  {
   "cell_type": "code",
   "execution_count": 14,
   "metadata": {},
   "outputs": [
    {
     "output_type": "execute_result",
     "data": {
      "text/plain": [
       "0.46654084"
      ]
     },
     "metadata": {},
     "execution_count": 14
    }
   ],
   "source": [
    "model.wv.similarity(\"rue\", \"fleuriste\")"
   ]
  },
  {
   "source": [
    "# Quel mot est le plus proche de rue ?"
   ],
   "cell_type": "markdown",
   "metadata": {}
  },
  {
   "cell_type": "code",
   "execution_count": 15,
   "metadata": {},
   "outputs": [
    {
     "output_type": "execute_result",
     "data": {
      "text/plain": [
       "[('bue', 0.8710018992424011),\n",
       " ('rue_neuve', 0.8273180723190308),\n",
       " ('rne', 0.8238422870635986),\n",
       " ('hue', 0.8237603902816772),\n",
       " ('rue_aux_laines', 0.8024601936340332),\n",
       " ('eue', 0.7944050431251526),\n",
       " ('rues_steyls', 0.7935483455657959),\n",
       " ('propriete_sise_rue', 0.7910612225532532),\n",
       " ('vallee', 0.788445234298706),\n",
       " ('ruo', 0.7874885201454163)]"
      ]
     },
     "metadata": {},
     "execution_count": 15
    }
   ],
   "source": [
    "model.wv.most_similar(\"rue\", topn=10)"
   ]
  },
  {
   "source": [
    "# Et de Bruxelles ?"
   ],
   "cell_type": "markdown",
   "metadata": {}
  },
  {
   "cell_type": "code",
   "execution_count": 16,
   "metadata": {},
   "outputs": [
    {
     "output_type": "execute_result",
     "data": {
      "text/plain": [
       "[('laeken', 0.8167573809623718),\n",
       " ('paris', 0.8064873814582825),\n",
       " ('liege', 0.7689099311828613),\n",
       " ('lille', 0.7599616050720215),\n",
       " ('nivelles', 0.7489486932754517),\n",
       " ('ellememe', 0.7320723533630371),\n",
       " ('gand', 0.7130483388900757),\n",
       " ('londres', 0.7009923458099365),\n",
       " ('berlin', 0.6958152055740356),\n",
       " ('malines', 0.6851150393486023)]"
      ]
     },
     "metadata": {},
     "execution_count": 16
    }
   ],
   "source": [
    "model.wv.most_similar(\"bruxelles\")"
   ]
  },
  {
   "source": [
    "# Comment obtenir une ville de France grâce à notre modèle ?"
   ],
   "cell_type": "markdown",
   "metadata": {}
  },
  {
   "cell_type": "code",
   "execution_count": 17,
   "metadata": {},
   "outputs": [
    {
     "output_type": "execute_result",
     "data": {
      "text/plain": [
       "[('paris', 0.8709051609039307)]"
      ]
     },
     "metadata": {},
     "execution_count": 17
    }
   ],
   "source": [
    "model.wv.most_similar(positive=['bruxelles', 'france'], negative=['belgique'], topn=1)"
   ]
  },
  {
   "cell_type": "code",
   "execution_count": 18,
   "metadata": {},
   "outputs": [
    {
     "output_type": "execute_result",
     "data": {
      "text/plain": [
       "[('paris', 0.9137842655181885)]"
      ]
     },
     "metadata": {},
     "execution_count": 18
    }
   ],
   "source": [
    "model.wv.most_similar(positive=['bruxelles', 'liege', 'france'], negative=['belgique'], topn=1)"
   ]
  },
  {
   "cell_type": "code",
   "execution_count": null,
   "metadata": {},
   "outputs": [],
   "source": []
  }
 ]
}